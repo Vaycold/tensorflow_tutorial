{
  "nbformat": 4,
  "nbformat_minor": 0,
  "metadata": {
    "colab": {
      "name": "Untitled62.ipynb",
      "provenance": [],
      "authorship_tag": "ABX9TyNG5zmCWFHeGTvpA22oQ4yW",
      "include_colab_link": true
    },
    "kernelspec": {
      "name": "python3",
      "display_name": "Python 3"
    },
    "language_info": {
      "name": "python"
    }
  },
  "cells": [
    {
      "cell_type": "markdown",
      "metadata": {
        "id": "view-in-github",
        "colab_type": "text"
      },
      "source": [
        "<a href=\"https://colab.research.google.com/github/Vaycold/tensorflow_tutorial/blob/main/%2314.%ED%85%90%EC%84%9C%EC%99%80%20%EC%97%B0%EC%82%B0.ipynb\" target=\"_parent\"><img src=\"https://colab.research.google.com/assets/colab-badge.svg\" alt=\"Open In Colab\"/></a>"
      ]
    },
    {
      "cell_type": "markdown",
      "metadata": {
        "id": "BzTYqBi41yKY"
      },
      "source": [
        "## 텐서와 연산"
      ]
    },
    {
      "cell_type": "code",
      "metadata": {
        "id": "WrOtOQwG1wIK"
      },
      "source": [
        "import tensorflow as tf"
      ],
      "execution_count": 1,
      "outputs": []
    },
    {
      "cell_type": "markdown",
      "metadata": {
        "id": "Rx2HQj5A14Xh"
      },
      "source": [
        "    텐서 = 다차원 배열"
      ]
    },
    {
      "cell_type": "code",
      "metadata": {
        "colab": {
          "base_uri": "https://localhost:8080/"
        },
        "id": "yx3kxZh112ed",
        "outputId": "057d8140-1879-430b-c25f-16832f48d36c"
      },
      "source": [
        "print(tf.add(1,2))\n",
        "print(tf.add([1,2],[3,4]))"
      ],
      "execution_count": 3,
      "outputs": [
        {
          "output_type": "stream",
          "text": [
            "tf.Tensor(3, shape=(), dtype=int32)\n",
            "tf.Tensor([4 6], shape=(2,), dtype=int32)\n"
          ],
          "name": "stdout"
        }
      ]
    },
    {
      "cell_type": "code",
      "metadata": {
        "colab": {
          "base_uri": "https://localhost:8080/"
        },
        "id": "Czir_2HJ192G",
        "outputId": "8a32839e-c345-4510-809a-5d661c5504da"
      },
      "source": [
        "print(tf.square(5))"
      ],
      "execution_count": 4,
      "outputs": [
        {
          "output_type": "stream",
          "text": [
            "tf.Tensor(25, shape=(), dtype=int32)\n"
          ],
          "name": "stdout"
        }
      ]
    },
    {
      "cell_type": "code",
      "metadata": {
        "colab": {
          "base_uri": "https://localhost:8080/"
        },
        "id": "Mr5j2rQZ2Dpu",
        "outputId": "90ab3921-f9c8-4313-edec-c9423b0e6d2d"
      },
      "source": [
        "print(tf.reduce_sum([1,2,3]))"
      ],
      "execution_count": 5,
      "outputs": [
        {
          "output_type": "stream",
          "text": [
            "tf.Tensor(6, shape=(), dtype=int32)\n"
          ],
          "name": "stdout"
        }
      ]
    },
    {
      "cell_type": "code",
      "metadata": {
        "colab": {
          "base_uri": "https://localhost:8080/"
        },
        "id": "8VFgEph62HVB",
        "outputId": "fb53e8e2-2a55-45b9-eccd-ab7f9f8c75e0"
      },
      "source": [
        "tf.add(1,2,3)"
      ],
      "execution_count": 13,
      "outputs": [
        {
          "output_type": "execute_result",
          "data": {
            "text/plain": [
              "<tf.Tensor: shape=(), dtype=int32, numpy=3>"
            ]
          },
          "metadata": {
            "tags": []
          },
          "execution_count": 13
        }
      ]
    },
    {
      "cell_type": "code",
      "metadata": {
        "colab": {
          "base_uri": "https://localhost:8080/"
        },
        "id": "49RZmet62LXA",
        "outputId": "84aa64c1-9865-4fd4-f783-6d1ce345ffed"
      },
      "source": [
        "tf.reduce_sum([1,2,10])"
      ],
      "execution_count": 16,
      "outputs": [
        {
          "output_type": "execute_result",
          "data": {
            "text/plain": [
              "<tf.Tensor: shape=(), dtype=int32, numpy=13>"
            ]
          },
          "metadata": {
            "tags": []
          },
          "execution_count": 16
        }
      ]
    },
    {
      "cell_type": "code",
      "metadata": {
        "colab": {
          "base_uri": "https://localhost:8080/"
        },
        "id": "bV07_g1v2con",
        "outputId": "e5d21606-7507-4cfd-abd8-4fd6f35c093e"
      },
      "source": [
        "tf.add(1,2,10)"
      ],
      "execution_count": 17,
      "outputs": [
        {
          "output_type": "execute_result",
          "data": {
            "text/plain": [
              "<tf.Tensor: shape=(), dtype=int32, numpy=3>"
            ]
          },
          "metadata": {
            "tags": []
          },
          "execution_count": 17
        }
      ]
    },
    {
      "cell_type": "code",
      "metadata": {
        "colab": {
          "base_uri": "https://localhost:8080/"
        },
        "id": "Ke5t6NMb2kLi",
        "outputId": "db59dcbc-0fd9-451e-87f2-65ef9df40b13"
      },
      "source": [
        "print(tf.add(1,2,10))"
      ],
      "execution_count": 18,
      "outputs": [
        {
          "output_type": "stream",
          "text": [
            "tf.Tensor(3, shape=(), dtype=int32)\n"
          ],
          "name": "stdout"
        }
      ]
    },
    {
      "cell_type": "code",
      "metadata": {
        "colab": {
          "base_uri": "https://localhost:8080/"
        },
        "id": "at1snzFx2n7B",
        "outputId": "ec941ddf-9c84-4d96-db77-9d7657e36c1c"
      },
      "source": [
        "x = tf.matmul([[1]],[[2,3]])\n",
        "print(x)\n",
        "print(x.shape)\n",
        "print(x.dtype)"
      ],
      "execution_count": 20,
      "outputs": [
        {
          "output_type": "stream",
          "text": [
            "tf.Tensor([[2 3]], shape=(1, 2), dtype=int32)\n",
            "(1, 2)\n",
            "<dtype: 'int32'>\n"
          ],
          "name": "stdout"
        }
      ]
    },
    {
      "cell_type": "code",
      "metadata": {
        "colab": {
          "base_uri": "https://localhost:8080/"
        },
        "id": "IWqTNEIP2vp0",
        "outputId": "72c00396-79da-4bba-985c-e4670c6fc5ae"
      },
      "source": [
        "# 넘파이 호환성\n",
        "\n",
        "import numpy as np\n",
        "ndarray = np.ones([3,3])\n",
        "\n",
        "tensor = tf.multiply(ndarray,42)\n",
        "print(ndarray)\n",
        "print('')\n",
        "print(tensor)"
      ],
      "execution_count": 23,
      "outputs": [
        {
          "output_type": "stream",
          "text": [
            "[[1. 1. 1.]\n",
            " [1. 1. 1.]\n",
            " [1. 1. 1.]]\n",
            "\n",
            "tf.Tensor(\n",
            "[[42. 42. 42.]\n",
            " [42. 42. 42.]\n",
            " [42. 42. 42.]], shape=(3, 3), dtype=float64)\n"
          ],
          "name": "stdout"
        }
      ]
    },
    {
      "cell_type": "code",
      "metadata": {
        "colab": {
          "base_uri": "https://localhost:8080/"
        },
        "id": "BRMjlwgq3EsM",
        "outputId": "97bd734c-654e-46e4-ac85-450d95d613d1"
      },
      "source": [
        "# 넘파이 연산은 자동적으로 텐서를 넘파이 배열로 변환\n",
        "print(np.add(tensor,1))"
      ],
      "execution_count": 24,
      "outputs": [
        {
          "output_type": "stream",
          "text": [
            "[[43. 43. 43.]\n",
            " [43. 43. 43.]\n",
            " [43. 43. 43.]]\n"
          ],
          "name": "stdout"
        }
      ]
    },
    {
      "cell_type": "code",
      "metadata": {
        "colab": {
          "base_uri": "https://localhost:8080/"
        },
        "id": "-y9FqjYy3Sxj",
        "outputId": "cf7b10ab-86c5-4289-ecb6-cbb4b5b6ec9f"
      },
      "source": [
        "print(np.add(tensor,2))"
      ],
      "execution_count": 25,
      "outputs": [
        {
          "output_type": "stream",
          "text": [
            "[[44. 44. 44.]\n",
            " [44. 44. 44.]\n",
            " [44. 44. 44.]]\n"
          ],
          "name": "stdout"
        }
      ]
    },
    {
      "cell_type": "code",
      "metadata": {
        "colab": {
          "base_uri": "https://localhost:8080/"
        },
        "id": "iBlYWfGn3Vqn",
        "outputId": "da947224-aa2e-4ecf-a754-5ce6fa3fa3a1"
      },
      "source": [
        "# .numpy() method\n",
        "print(tensor.numpy())\n",
        "print(type(tensor.numpy()))"
      ],
      "execution_count": 28,
      "outputs": [
        {
          "output_type": "stream",
          "text": [
            "[[42. 42. 42.]\n",
            " [42. 42. 42.]\n",
            " [42. 42. 42.]]\n",
            "<class 'numpy.ndarray'>\n"
          ],
          "name": "stdout"
        }
      ]
    },
    {
      "cell_type": "code",
      "metadata": {
        "colab": {
          "base_uri": "https://localhost:8080/"
        },
        "id": "gLtlNRv53djv",
        "outputId": "c4b8e69f-b55c-45f2-f861-3d19ce6a62bb"
      },
      "source": [
        "# GPU 가속\n",
        "'''\n",
        "대부분의 텐서플로 연산 : GPU 사용하여 가속화 \n",
        "연산에 의해 생성된 텐서는 전형적으로 연산이 실행된 장치의 메모리에 의해 실행\n",
        "'''\n",
        "X = tf.random.uniform([3,3])\n",
        "X"
      ],
      "execution_count": 32,
      "outputs": [
        {
          "output_type": "execute_result",
          "data": {
            "text/plain": [
              "<tf.Tensor: shape=(3, 3), dtype=float32, numpy=\n",
              "array([[0.06876707, 0.1007489 , 0.56915617],\n",
              "       [0.30564535, 0.3466264 , 0.9945744 ],\n",
              "       [0.20260644, 0.32500672, 0.5696734 ]], dtype=float32)>"
            ]
          },
          "metadata": {
            "tags": []
          },
          "execution_count": 32
        }
      ]
    },
    {
      "cell_type": "code",
      "metadata": {
        "colab": {
          "base_uri": "https://localhost:8080/"
        },
        "id": "Xu760nRr4JRZ",
        "outputId": "213ddb94-5458-467c-c6f7-e70584f07684"
      },
      "source": [
        "import warnings\n",
        "\n",
        "print('GPU 사용이 가능한가 : ')\n",
        "print(tf.test.is_gpu_available())\n",
        "\n",
        "print()\n",
        "print('텐서가 GPU  #0에 있는가')\n",
        "print(X.device.endswith('GPU:0'))"
      ],
      "execution_count": 36,
      "outputs": [
        {
          "output_type": "stream",
          "text": [
            "GPU 사용이 가능한가 : \n",
            "False\n",
            "\n",
            "텐서가 GPU  #0에 있는가\n",
            "False\n"
          ],
          "name": "stdout"
        }
      ]
    },
    {
      "cell_type": "code",
      "metadata": {
        "id": "Gj7oCvsd4RA7"
      },
      "source": [
        ""
      ],
      "execution_count": null,
      "outputs": []
    }
  ]
}