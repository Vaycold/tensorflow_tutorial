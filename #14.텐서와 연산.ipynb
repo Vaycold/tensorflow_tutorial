{
  "nbformat": 4,
  "nbformat_minor": 0,
  "metadata": {
    "colab": {
      "name": "Untitled62.ipynb",
      "provenance": [],
      "authorship_tag": "ABX9TyNiUkrXcIInzTcILz6EK0e+",
      "include_colab_link": true
    },
    "kernelspec": {
      "name": "python3",
      "display_name": "Python 3"
    },
    "language_info": {
      "name": "python"
    }
  },
  "cells": [
    {
      "cell_type": "markdown",
      "metadata": {
        "id": "view-in-github",
        "colab_type": "text"
      },
      "source": [
        "<a href=\"https://colab.research.google.com/github/Vaycold/tensorflow_tutorial/blob/main/%2314.%ED%85%90%EC%84%9C%EC%99%80%20%EC%97%B0%EC%82%B0.ipynb\" target=\"_parent\"><img src=\"https://colab.research.google.com/assets/colab-badge.svg\" alt=\"Open In Colab\"/></a>"
      ]
    },
    {
      "cell_type": "markdown",
      "metadata": {
        "id": "BzTYqBi41yKY"
      },
      "source": [
        "## 텐서와 연산"
      ]
    },
    {
      "cell_type": "code",
      "metadata": {
        "id": "WrOtOQwG1wIK"
      },
      "source": [
        "import tensorflow as tf"
      ],
      "execution_count": 1,
      "outputs": []
    },
    {
      "cell_type": "markdown",
      "metadata": {
        "id": "Rx2HQj5A14Xh"
      },
      "source": [
        "    텐서 = 다차원 배열"
      ]
    },
    {
      "cell_type": "code",
      "metadata": {
        "colab": {
          "base_uri": "https://localhost:8080/"
        },
        "id": "yx3kxZh112ed",
        "outputId": "0b7e9adf-2d78-440d-83bb-5ac6ad41baa9"
      },
      "source": [
        "print(tf.add(1,2))\n",
        "print(tf.add([1,2],[3,4]))"
      ],
      "execution_count": 2,
      "outputs": [
        {
          "output_type": "stream",
          "text": [
            "tf.Tensor(3, shape=(), dtype=int32)\n",
            "tf.Tensor([4 6], shape=(2,), dtype=int32)\n"
          ],
          "name": "stdout"
        }
      ]
    },
    {
      "cell_type": "code",
      "metadata": {
        "colab": {
          "base_uri": "https://localhost:8080/"
        },
        "id": "Czir_2HJ192G",
        "outputId": "0210c9c3-280d-4071-960e-468462e8a87d"
      },
      "source": [
        "print(tf.square(5))"
      ],
      "execution_count": 3,
      "outputs": [
        {
          "output_type": "stream",
          "text": [
            "tf.Tensor(25, shape=(), dtype=int32)\n"
          ],
          "name": "stdout"
        }
      ]
    },
    {
      "cell_type": "code",
      "metadata": {
        "colab": {
          "base_uri": "https://localhost:8080/"
        },
        "id": "Mr5j2rQZ2Dpu",
        "outputId": "b659b121-7021-4b91-bafc-bd3fb7d38461"
      },
      "source": [
        "print(tf.reduce_sum([1,2,3]))"
      ],
      "execution_count": 4,
      "outputs": [
        {
          "output_type": "stream",
          "text": [
            "tf.Tensor(6, shape=(), dtype=int32)\n"
          ],
          "name": "stdout"
        }
      ]
    },
    {
      "cell_type": "code",
      "metadata": {
        "colab": {
          "base_uri": "https://localhost:8080/"
        },
        "id": "8VFgEph62HVB",
        "outputId": "8626bbdc-4a09-4794-f121-2ac4f9ad53c8"
      },
      "source": [
        "tf.add(1,2,3)"
      ],
      "execution_count": 5,
      "outputs": [
        {
          "output_type": "execute_result",
          "data": {
            "text/plain": [
              "<tf.Tensor: shape=(), dtype=int32, numpy=3>"
            ]
          },
          "metadata": {
            "tags": []
          },
          "execution_count": 5
        }
      ]
    },
    {
      "cell_type": "code",
      "metadata": {
        "colab": {
          "base_uri": "https://localhost:8080/"
        },
        "id": "49RZmet62LXA",
        "outputId": "e56f2482-3fd7-46f5-942f-e5806275deb9"
      },
      "source": [
        "tf.reduce_sum([1,2,10])"
      ],
      "execution_count": 6,
      "outputs": [
        {
          "output_type": "execute_result",
          "data": {
            "text/plain": [
              "<tf.Tensor: shape=(), dtype=int32, numpy=13>"
            ]
          },
          "metadata": {
            "tags": []
          },
          "execution_count": 6
        }
      ]
    },
    {
      "cell_type": "code",
      "metadata": {
        "colab": {
          "base_uri": "https://localhost:8080/"
        },
        "id": "bV07_g1v2con",
        "outputId": "278983ac-e8c4-4c85-cbdb-35e3da9e4f5e"
      },
      "source": [
        "tf.add(1,2,10)"
      ],
      "execution_count": 7,
      "outputs": [
        {
          "output_type": "execute_result",
          "data": {
            "text/plain": [
              "<tf.Tensor: shape=(), dtype=int32, numpy=3>"
            ]
          },
          "metadata": {
            "tags": []
          },
          "execution_count": 7
        }
      ]
    },
    {
      "cell_type": "code",
      "metadata": {
        "colab": {
          "base_uri": "https://localhost:8080/"
        },
        "id": "Ke5t6NMb2kLi",
        "outputId": "3ecc7899-21aa-40fc-b58e-0b1286b29b2a"
      },
      "source": [
        "print(tf.add(1,2,10))"
      ],
      "execution_count": 8,
      "outputs": [
        {
          "output_type": "stream",
          "text": [
            "tf.Tensor(3, shape=(), dtype=int32)\n"
          ],
          "name": "stdout"
        }
      ]
    },
    {
      "cell_type": "code",
      "metadata": {
        "colab": {
          "base_uri": "https://localhost:8080/"
        },
        "id": "at1snzFx2n7B",
        "outputId": "90a068d7-ac93-4461-e77b-74af32de02d0"
      },
      "source": [
        "x = tf.matmul([[1]],[[2,3]])\n",
        "print(x)\n",
        "print(x.shape)\n",
        "print(x.dtype)"
      ],
      "execution_count": 9,
      "outputs": [
        {
          "output_type": "stream",
          "text": [
            "tf.Tensor([[2 3]], shape=(1, 2), dtype=int32)\n",
            "(1, 2)\n",
            "<dtype: 'int32'>\n"
          ],
          "name": "stdout"
        }
      ]
    },
    {
      "cell_type": "code",
      "metadata": {
        "colab": {
          "base_uri": "https://localhost:8080/"
        },
        "id": "IWqTNEIP2vp0",
        "outputId": "744eb999-148f-4b3f-9c04-ddbf630e524a"
      },
      "source": [
        "# 넘파이 호환성\n",
        "\n",
        "import numpy as np\n",
        "ndarray = np.ones([3,3])\n",
        "\n",
        "tensor = tf.multiply(ndarray,42)\n",
        "print(ndarray)\n",
        "print('')\n",
        "print(tensor)"
      ],
      "execution_count": 10,
      "outputs": [
        {
          "output_type": "stream",
          "text": [
            "[[1. 1. 1.]\n",
            " [1. 1. 1.]\n",
            " [1. 1. 1.]]\n",
            "\n",
            "tf.Tensor(\n",
            "[[42. 42. 42.]\n",
            " [42. 42. 42.]\n",
            " [42. 42. 42.]], shape=(3, 3), dtype=float64)\n"
          ],
          "name": "stdout"
        }
      ]
    },
    {
      "cell_type": "code",
      "metadata": {
        "colab": {
          "base_uri": "https://localhost:8080/"
        },
        "id": "BRMjlwgq3EsM",
        "outputId": "9f0f6af6-77ee-409d-a71c-2998152a700b"
      },
      "source": [
        "# 넘파이 연산은 자동적으로 텐서를 넘파이 배열로 변환\n",
        "print(np.add(tensor,1))"
      ],
      "execution_count": 11,
      "outputs": [
        {
          "output_type": "stream",
          "text": [
            "[[43. 43. 43.]\n",
            " [43. 43. 43.]\n",
            " [43. 43. 43.]]\n"
          ],
          "name": "stdout"
        }
      ]
    },
    {
      "cell_type": "code",
      "metadata": {
        "colab": {
          "base_uri": "https://localhost:8080/"
        },
        "id": "-y9FqjYy3Sxj",
        "outputId": "2d8bce2b-93db-442d-cae7-a7bff22169f9"
      },
      "source": [
        "print(np.add(tensor,2))"
      ],
      "execution_count": 12,
      "outputs": [
        {
          "output_type": "stream",
          "text": [
            "[[44. 44. 44.]\n",
            " [44. 44. 44.]\n",
            " [44. 44. 44.]]\n"
          ],
          "name": "stdout"
        }
      ]
    },
    {
      "cell_type": "code",
      "metadata": {
        "colab": {
          "base_uri": "https://localhost:8080/"
        },
        "id": "iBlYWfGn3Vqn",
        "outputId": "a56da860-5cec-4ac9-bb3e-c0f8616af731"
      },
      "source": [
        "# .numpy() method\n",
        "print(tensor.numpy())\n",
        "print(type(tensor.numpy()))"
      ],
      "execution_count": 13,
      "outputs": [
        {
          "output_type": "stream",
          "text": [
            "[[42. 42. 42.]\n",
            " [42. 42. 42.]\n",
            " [42. 42. 42.]]\n",
            "<class 'numpy.ndarray'>\n"
          ],
          "name": "stdout"
        }
      ]
    },
    {
      "cell_type": "code",
      "metadata": {
        "colab": {
          "base_uri": "https://localhost:8080/"
        },
        "id": "gLtlNRv53djv",
        "outputId": "86ed7c40-4a83-4b3b-d5fa-00cd77cc3eff"
      },
      "source": [
        "# GPU 가속\n",
        "'''\n",
        "대부분의 텐서플로 연산 : GPU 사용하여 가속화 \n",
        "연산에 의해 생성된 텐서는 전형적으로 연산이 실행된 장치의 메모리에 의해 실행\n",
        "'''\n",
        "X = tf.random.uniform([3,3])\n",
        "X"
      ],
      "execution_count": 14,
      "outputs": [
        {
          "output_type": "execute_result",
          "data": {
            "text/plain": [
              "<tf.Tensor: shape=(3, 3), dtype=float32, numpy=\n",
              "array([[0.68243015, 0.3990053 , 0.38593638],\n",
              "       [0.55810857, 0.18742335, 0.48533738],\n",
              "       [0.3942951 , 0.7395297 , 0.5493897 ]], dtype=float32)>"
            ]
          },
          "metadata": {
            "tags": []
          },
          "execution_count": 14
        }
      ]
    },
    {
      "cell_type": "code",
      "metadata": {
        "colab": {
          "base_uri": "https://localhost:8080/"
        },
        "id": "Xu760nRr4JRZ",
        "outputId": "ccd678c3-aa07-454b-d4e2-7d1a3a964c5f"
      },
      "source": [
        "import warnings\n",
        "\n",
        "print('GPU 사용이 가능한가 : ')\n",
        "print(tf.test.is_gpu_available())\n",
        "\n",
        "print()\n",
        "print('텐서가 GPU  #0에 있는가')\n",
        "print(X.device.endswith('GPU:0'))"
      ],
      "execution_count": 15,
      "outputs": [
        {
          "output_type": "stream",
          "text": [
            "GPU 사용이 가능한가 : \n",
            "WARNING:tensorflow:From <ipython-input-15-f192e865abfe>:4: is_gpu_available (from tensorflow.python.framework.test_util) is deprecated and will be removed in a future version.\n",
            "Instructions for updating:\n",
            "Use `tf.config.list_physical_devices('GPU')` instead.\n",
            "False\n",
            "\n",
            "텐서가 GPU  #0에 있는가\n",
            "False\n"
          ],
          "name": "stdout"
        }
      ]
    },
    {
      "cell_type": "code",
      "metadata": {
        "id": "Gj7oCvsd4RA7",
        "outputId": "2f3ccc8a-4122-4edd-cfa7-776028d1c1aa",
        "colab": {
          "base_uri": "https://localhost:8080/"
        }
      },
      "source": [
        "# 데이터셋\n",
        "''' \n",
        "모델에 데이터를 제공하기 위한 파이프라인 구축위해 tf.data.Dataset API 사용\n",
        "tf.data.Dataset : 모델 훈련, 평가 루프 제공\n",
        "간단하고 재사용 가능한 모듈로부터 복잡한 입력 파이프라인을 구축하기 위해 사용\n",
        " \n",
        " - Dataset.from_tensors\n",
        " - Dataset.from_tensor_slices\n",
        " - TextLineDataset\n",
        " - TFRecordDataset\n",
        "\n",
        "'''\n",
        "ds_tensors = tf.data.Dataset.from_tensor_slices([1,2,3,4,5,6])\n",
        "ds_tensors"
      ],
      "execution_count": 36,
      "outputs": [
        {
          "output_type": "execute_result",
          "data": {
            "text/plain": [
              "<TensorSliceDataset shapes: (), types: tf.int32>"
            ]
          },
          "metadata": {
            "tags": []
          },
          "execution_count": 36
        }
      ]
    },
    {
      "cell_type": "code",
      "metadata": {
        "id": "dbucxaN6BcJ1"
      },
      "source": [
        "# csv 파일 생성\n",
        "\n",
        "import tempfile\n",
        "_, filename = tempfile.mkstemp()\n",
        "with open(filename, 'w') as f :\n",
        "    f.write('''Line 1\n",
        "    Line2\n",
        "    Line3\n",
        "    '''\n",
        "    )"
      ],
      "execution_count": 47,
      "outputs": []
    },
    {
      "cell_type": "code",
      "metadata": {
        "id": "mRyk9yKbBy_l",
        "outputId": "189b6be5-d21e-4cac-e57b-6fefac3f05f1",
        "colab": {
          "base_uri": "https://localhost:8080/"
        }
      },
      "source": [
        "ds_file = tf.data.TextLineDataset(filename)\n",
        "ds_file"
      ],
      "execution_count": 48,
      "outputs": [
        {
          "output_type": "execute_result",
          "data": {
            "text/plain": [
              "<TextLineDatasetV2 shapes: (), types: tf.string>"
            ]
          },
          "metadata": {
            "tags": []
          },
          "execution_count": 48
        }
      ]
    },
    {
      "cell_type": "code",
      "metadata": {
        "id": "9LRwW3_EB6R8"
      },
      "source": [
        "# 변환적용\n",
        "'''\n",
        "map, batch, shuffle 과 같은 변환함수 사용\n",
        "'''\n",
        "ds_tensors = ds_tensors.map(tf.square).shuffle(2).batch(2)\n",
        "\n",
        "ds_file = ds_file.batch(2)"
      ],
      "execution_count": 49,
      "outputs": []
    },
    {
      "cell_type": "code",
      "metadata": {
        "id": "8igerAa2RIVH",
        "outputId": "0cd69194-58f3-4025-c50a-4a9432d6d104",
        "colab": {
          "base_uri": "https://localhost:8080/"
        }
      },
      "source": [
        "# 반복\n",
        "\n",
        "print('ds_tensors 요소 : ')\n",
        "for x in ds_tensors :\n",
        "    print(x)"
      ],
      "execution_count": 38,
      "outputs": [
        {
          "output_type": "stream",
          "text": [
            "ds_tensors 요소 : \n",
            "tf.Tensor([1 9], shape=(2,), dtype=int32)\n",
            "tf.Tensor([ 4 16], shape=(2,), dtype=int32)\n",
            "tf.Tensor([36 25], shape=(2,), dtype=int32)\n"
          ],
          "name": "stdout"
        }
      ]
    },
    {
      "cell_type": "code",
      "metadata": {
        "id": "ws5MtUJqRSHU",
        "outputId": "be8c3bd4-061f-4d65-fb2f-2dfe7613f90f",
        "colab": {
          "base_uri": "https://localhost:8080/"
        }
      },
      "source": [
        "print('ds_file 요소 :')\n",
        "for x in ds_file :\n",
        "    print(x)"
      ],
      "execution_count": 50,
      "outputs": [
        {
          "output_type": "stream",
          "text": [
            "ds_file 요소 :\n",
            "tf.Tensor([b'Line 1' b'    Line2'], shape=(2,), dtype=string)\n",
            "tf.Tensor([b'    Line3' b'    '], shape=(2,), dtype=string)\n"
          ],
          "name": "stdout"
        }
      ]
    },
    {
      "cell_type": "code",
      "metadata": {
        "id": "2qtzdMOGRq-u"
      },
      "source": [
        ""
      ],
      "execution_count": null,
      "outputs": []
    }
  ]
}