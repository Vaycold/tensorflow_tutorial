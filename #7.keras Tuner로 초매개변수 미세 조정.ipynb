{
  "nbformat": 4,
  "nbformat_minor": 0,
  "metadata": {
    "colab": {
      "name": "keras Tuner로 초매개변수 미세 조정.ipynb",
      "provenance": [],
      "authorship_tag": "ABX9TyM4HSF6QF46BskYbznMisQG",
      "include_colab_link": true
    },
    "kernelspec": {
      "name": "python3",
      "display_name": "Python 3"
    },
    "language_info": {
      "name": "python"
    }
  },
  "cells": [
    {
      "cell_type": "markdown",
      "metadata": {
        "id": "view-in-github",
        "colab_type": "text"
      },
      "source": [
        "<a href=\"https://colab.research.google.com/github/Vaycold/tensorflow_tutorial/blob/main/%237.keras%20Tuner%EB%A1%9C%20%EC%B4%88%EB%A7%A4%EA%B0%9C%EB%B3%80%EC%88%98%20%EB%AF%B8%EC%84%B8%20%EC%A1%B0%EC%A0%95.ipynb\" target=\"_parent\"><img src=\"https://colab.research.google.com/assets/colab-badge.svg\" alt=\"Open In Colab\"/></a>"
      ]
    },
    {
      "cell_type": "markdown",
      "metadata": {
        "id": "4DNaVpL96MkL"
      },
      "source": [
        "    이미지 분류 애플리케이션에 하이퍼튜닝 수행\n"
      ]
    },
    {
      "cell_type": "code",
      "metadata": {
        "id": "CHizk8Oi6L-9"
      },
      "source": [
        "import tensorflow as tf\n",
        "from tensorflow import keras\n",
        "import IPython"
      ],
      "execution_count": 2,
      "outputs": []
    },
    {
      "cell_type": "code",
      "metadata": {
        "colab": {
          "base_uri": "https://localhost:8080/"
        },
        "id": "imxspMp3oYEk",
        "outputId": "6eff7593-ce53-4f75-dfdf-9d04506bff7b"
      },
      "source": [
        "!pip install -q -U keras-tuner"
      ],
      "execution_count": 3,
      "outputs": [
        {
          "output_type": "stream",
          "text": [
            "\u001b[?25l\r\u001b[K     |███▍                            | 10 kB 22.4 MB/s eta 0:00:01\r\u001b[K     |██████▉                         | 20 kB 9.4 MB/s eta 0:00:01\r\u001b[K     |██████████▏                     | 30 kB 6.1 MB/s eta 0:00:01\r\u001b[K     |█████████████▋                  | 40 kB 5.6 MB/s eta 0:00:01\r\u001b[K     |█████████████████               | 51 kB 2.8 MB/s eta 0:00:01\r\u001b[K     |████████████████████▍           | 61 kB 3.1 MB/s eta 0:00:01\r\u001b[K     |███████████████████████▊        | 71 kB 3.3 MB/s eta 0:00:01\r\u001b[K     |███████████████████████████▏    | 81 kB 3.6 MB/s eta 0:00:01\r\u001b[K     |██████████████████████████████▋ | 92 kB 3.7 MB/s eta 0:00:01\r\u001b[K     |████████████████████████████████| 96 kB 2.3 MB/s \n",
            "\u001b[?25h  Building wheel for kt-legacy (setup.py) ... \u001b[?25l\u001b[?25hdone\n"
          ],
          "name": "stdout"
        }
      ]
    },
    {
      "cell_type": "code",
      "metadata": {
        "colab": {
          "base_uri": "https://localhost:8080/"
        },
        "id": "yqTM9HJM6a77",
        "outputId": "9833e1f8-7609-4f2c-bfe0-a2ea34f05b74"
      },
      "source": [
        "import kerastuner as kt"
      ],
      "execution_count": 4,
      "outputs": [
        {
          "output_type": "stream",
          "text": [
            "/usr/local/lib/python3.7/dist-packages/ipykernel_launcher.py:1: DeprecationWarning: `import kerastuner` is deprecated, please use `import keras_tuner`.\n",
            "  \"\"\"Entry point for launching an IPython kernel.\n"
          ],
          "name": "stderr"
        }
      ]
    },
    {
      "cell_type": "code",
      "metadata": {
        "colab": {
          "base_uri": "https://localhost:8080/"
        },
        "id": "juYnxjVp6oQ8",
        "outputId": "aa07bc96-87c1-4e85-9f69-a98527e261a0"
      },
      "source": [
        "# Dataset\n",
        "(img_train, label_train),(img_test, label_test) = keras.datasets.fashion_mnist.load_data()\n",
        "\n",
        "img_train = img_train.astype('float32') / 255.0\n",
        "img_test = img_test.astype('float32') / 255.0"
      ],
      "execution_count": 5,
      "outputs": [
        {
          "output_type": "stream",
          "text": [
            "Downloading data from https://storage.googleapis.com/tensorflow/tf-keras-datasets/train-labels-idx1-ubyte.gz\n",
            "32768/29515 [=================================] - 0s 0us/step\n",
            "Downloading data from https://storage.googleapis.com/tensorflow/tf-keras-datasets/train-images-idx3-ubyte.gz\n",
            "26427392/26421880 [==============================] - 0s 0us/step\n",
            "Downloading data from https://storage.googleapis.com/tensorflow/tf-keras-datasets/t10k-labels-idx1-ubyte.gz\n",
            "8192/5148 [===============================================] - 0s 0us/step\n",
            "Downloading data from https://storage.googleapis.com/tensorflow/tf-keras-datasets/t10k-images-idx3-ubyte.gz\n",
            "4423680/4422102 [==============================] - 0s 0us/step\n"
          ],
          "name": "stdout"
        }
      ]
    },
    {
      "cell_type": "code",
      "metadata": {
        "id": "9Em3Opcu65aG"
      },
      "source": [
        "# Model Builder\n",
        "# - 컴파일된 모델 반환 -> 인라인으로 정의한 하이퍼파라미터 사용하여 모델 하이퍼튜닝\n",
        "def model_builder(hp) :\n",
        "    model = keras.Sequential()\n",
        "    model.add(keras.layers.Flatten(input_shape = (28,28)))\n",
        "\n",
        "    # Tune the number of units in the 1st Dense layer\n",
        "    # Choose an optimal value between 32-512\n",
        "    hp_units = hp.Int('units', min_value = 32, max_value = 512, step = 32)\n",
        "    model.add(keras.layers.Dense(units = hp_units, activation = 'relu'))\n",
        "    model.add(keras.layers.Dense(10))\n",
        "\n",
        "    # Tune the learning rate for optimizer\n",
        "    # Choose an optimal value between 0.01, 0.001, 0.0001\n",
        "    hp_lr = hp.Choice('learning_rate', values=[1e-2,1e-3,1e-4])\n",
        "\n",
        "    model.compile(optimizer = keras.optimizers.Adam(learning_rate = hp_lr),\n",
        "                  loss = keras.losses.SparseCategoricalCrossentropy(from_logits=True),\n",
        "                  metrics=['accuracy'])\n",
        "    return model"
      ],
      "execution_count": 8,
      "outputs": []
    },
    {
      "cell_type": "code",
      "metadata": {
        "id": "Up9bHUlD9Ql9"
      },
      "source": [
        "# 튜너를 인스턴스화 후 하이퍼 튜닝 진행\n",
        "# 케라스 튜너에는 4가지 종류 있음\n",
        "# RandomSearch, Hyperband, BayesianOptimization, Sklearn\n",
        "\n",
        "# Hyperband 튜너 인스턴스화\n",
        "# - 최적화할 하이퍼모델인 objective, 및 훈련할 최대 epoch 수 지정\n",
        "# - 1+log_factor(max_epochs) 계산 -> 가장 가까운 정수로 반환하여 훈련할 모델 수 결정\n",
        "\n",
        "tuner = kt.Hyperband(model_builder,\n",
        "                     objective = 'val_accuracy',\n",
        "                     max_epochs = 10,\n",
        "                     factor = 3,\n",
        "                     directory = 'my_dir',\n",
        "                     project_name = 'intro_to_kt')"
      ],
      "execution_count": 10,
      "outputs": []
    },
    {
      "cell_type": "code",
      "metadata": {
        "id": "Zhz-Bz-R-Avd"
      },
      "source": [
        "# 하이퍼 파라미터 검색을 실행하기 전 훈련 단계가 끝날 때 마다 훈련 결과를 지우도록 콜백 정의\n",
        "\n",
        "class ClearTrainingOutput(tf.keras.callbacks.Callback) :\n",
        "    def on_train_end(*args, **kwargs) :\n",
        "        IPython.display.clear_output(wait = True)"
      ],
      "execution_count": 11,
      "outputs": []
    },
    {
      "cell_type": "code",
      "metadata": {
        "colab": {
          "base_uri": "https://localhost:8080/"
        },
        "id": "kXyqKWPz-u0j",
        "outputId": "b11c339d-059e-4bba-91a5-eb4718f97faf"
      },
      "source": [
        "# 하이퍼 파라미터 검색 실행 \n",
        "tuner.search(img_train, label_train,\n",
        "             epochs= 10,\n",
        "             validation_data = (img_test, label_test),\n",
        "             callbacks = [ClearTrainingOutput()])"
      ],
      "execution_count": 12,
      "outputs": [
        {
          "output_type": "stream",
          "text": [
            "Trial 30 Complete [00h 01m 22s]\n",
            "val_accuracy: 0.8881999850273132\n",
            "\n",
            "Best val_accuracy So Far: 0.8881999850273132\n",
            "Total elapsed time: 00h 16m 21s\n",
            "INFO:tensorflow:Oracle triggered exit\n"
          ],
          "name": "stdout"
        }
      ]
    },
    {
      "cell_type": "code",
      "metadata": {
        "colab": {
          "base_uri": "https://localhost:8080/"
        },
        "id": "_aWdAhQF_WGZ",
        "outputId": "393a8e9f-0fbb-408d-ab03-0d46796fa2ad"
      },
      "source": [
        "# Get the best parameters \n",
        "\n",
        "best_hps = tuner.get_best_hyperparameters(num_trials = 1)[0]\n",
        "\n",
        "print(f\"\"\"\n",
        "The hyperparameter search is complete. The optimal number of units in the first densely-connected\n",
        "layer is {best_hps.get('units')} and the optimal learning rate for the optimizer\n",
        "is {best_hps.get('learning_rate')}.\n",
        "\"\"\")"
      ],
      "execution_count": 13,
      "outputs": [
        {
          "output_type": "stream",
          "text": [
            "\n",
            "The hyperparameter search is complete. The optimal number of units in the first densely-connected\n",
            "layer is 288 and the optimal learning rate for the optimizer\n",
            "is 0.001.\n",
            "\n"
          ],
          "name": "stdout"
        }
      ]
    },
    {
      "cell_type": "code",
      "metadata": {
        "colab": {
          "base_uri": "https://localhost:8080/"
        },
        "id": "ocWEFU_8_dRp",
        "outputId": "49caedba-d3fe-4546-bb57-bf48c57ad81e"
      },
      "source": [
        "# 최적의 파라미터로 재훈련\n",
        "\n",
        "model = tuner.hypermodel.build(best_hps)\n",
        "model.fit(img_train, label_train,\n",
        "          validation_data = (img_test, label_test),\n",
        "          epochs = 10)"
      ],
      "execution_count": 14,
      "outputs": [
        {
          "output_type": "stream",
          "text": [
            "Epoch 1/10\n",
            "1875/1875 [==============================] - 6s 3ms/step - loss: 0.4837 - accuracy: 0.8292 - val_loss: 0.4198 - val_accuracy: 0.8461\n",
            "Epoch 2/10\n",
            "1875/1875 [==============================] - 5s 3ms/step - loss: 0.3642 - accuracy: 0.8672 - val_loss: 0.4111 - val_accuracy: 0.8548\n",
            "Epoch 3/10\n",
            "1875/1875 [==============================] - 5s 3ms/step - loss: 0.3272 - accuracy: 0.8791 - val_loss: 0.3855 - val_accuracy: 0.8576\n",
            "Epoch 4/10\n",
            "1875/1875 [==============================] - 6s 3ms/step - loss: 0.3050 - accuracy: 0.8862 - val_loss: 0.3435 - val_accuracy: 0.8757\n",
            "Epoch 5/10\n",
            "1875/1875 [==============================] - 6s 3ms/step - loss: 0.2861 - accuracy: 0.8943 - val_loss: 0.3515 - val_accuracy: 0.8709\n",
            "Epoch 6/10\n",
            "1875/1875 [==============================] - 6s 3ms/step - loss: 0.2694 - accuracy: 0.8995 - val_loss: 0.3452 - val_accuracy: 0.8775\n",
            "Epoch 7/10\n",
            "1875/1875 [==============================] - 6s 3ms/step - loss: 0.2591 - accuracy: 0.9029 - val_loss: 0.3423 - val_accuracy: 0.8781\n",
            "Epoch 8/10\n",
            "1875/1875 [==============================] - 5s 3ms/step - loss: 0.2484 - accuracy: 0.9059 - val_loss: 0.3600 - val_accuracy: 0.8700\n",
            "Epoch 9/10\n",
            "1875/1875 [==============================] - 6s 3ms/step - loss: 0.2364 - accuracy: 0.9108 - val_loss: 0.3323 - val_accuracy: 0.8827\n",
            "Epoch 10/10\n",
            "1875/1875 [==============================] - 6s 3ms/step - loss: 0.2284 - accuracy: 0.9144 - val_loss: 0.3428 - val_accuracy: 0.8854\n"
          ],
          "name": "stdout"
        },
        {
          "output_type": "execute_result",
          "data": {
            "text/plain": [
              "<tensorflow.python.keras.callbacks.History at 0x7fe18c6e00d0>"
            ]
          },
          "metadata": {
            "tags": []
          },
          "execution_count": 14
        }
      ]
    }
  ]
}