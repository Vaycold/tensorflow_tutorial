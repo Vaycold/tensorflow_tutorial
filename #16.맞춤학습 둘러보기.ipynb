{
  "nbformat": 4,
  "nbformat_minor": 0,
  "metadata": {
    "colab": {
      "name": "#16.맞춤학습:둘러보기.ipynb",
      "provenance": [],
      "authorship_tag": "ABX9TyMLrV+SilcCSFM6/1MzxgKq",
      "include_colab_link": true
    },
    "kernelspec": {
      "name": "python3",
      "display_name": "Python 3"
    },
    "language_info": {
      "name": "python"
    }
  },
  "cells": [
    {
      "cell_type": "markdown",
      "metadata": {
        "id": "view-in-github",
        "colab_type": "text"
      },
      "source": [
        "<a href=\"https://colab.research.google.com/github/Vaycold/tensorflow_tutorial/blob/main/%2316.%EB%A7%9E%EC%B6%A4%ED%95%99%EC%8A%B5%20%EB%91%98%EB%9F%AC%EB%B3%B4%EA%B8%B0.ipynb\" target=\"_parent\"><img src=\"https://colab.research.google.com/assets/colab-badge.svg\" alt=\"Open In Colab\"/></a>"
      ]
    },
    {
      "cell_type": "markdown",
      "metadata": {
        "id": "UkAGMwIEjAIk"
      },
      "source": [
        "## 붗꽃 분류문제"
      ]
    },
    {
      "cell_type": "code",
      "metadata": {
        "colab": {
          "base_uri": "https://localhost:8080/"
        },
        "id": "JpYDg0zqiVcP",
        "outputId": "0a0ae07e-67a0-478c-b971-5833543ce05b"
      },
      "source": [
        "# 데이터셋 다운로드\n",
        "import os\n",
        "import tensorflow as tf\n",
        "import matplotlib.pyplot as plt\n",
        "\n",
        "train_dataset_url = \"https://storage.googleapis.com/download.tensorflow.org/data/iris_training.csv\"\n",
        "\n",
        "train_dataset_fp = tf.keras.utils.get_file(fname=os.path.basename(train_dataset_url),\n",
        "                                           origin=train_dataset_url)\n",
        "\n",
        "print(\"데이터셋이 복사된 위치: {}\".format(train_dataset_fp))"
      ],
      "execution_count": 2,
      "outputs": [
        {
          "output_type": "stream",
          "text": [
            "Downloading data from https://storage.googleapis.com/download.tensorflow.org/data/iris_training.csv\n",
            "\r8192/2194 [================================================================================================================] - 0s 0us/step\n",
            "데이터셋이 복사된 위치: /root/.keras/datasets/iris_training.csv\n"
          ],
          "name": "stdout"
        }
      ]
    },
    {
      "cell_type": "code",
      "metadata": {
        "colab": {
          "base_uri": "https://localhost:8080/"
        },
        "id": "Nm1Yxg5CjI9c",
        "outputId": "8f75f322-40a2-4fcc-fdae-3faa4c525be1"
      },
      "source": [
        "!head -n5 {train_dataset_fp}\n",
        "'''\n",
        "첫 번째 줄  = 헤더(정보를 가지고 있음) ; 120개 sample, 각 sample's feautre : 4, # of labels : 3\n",
        "'''\n",
        "column_names = ['sepal_length', 'sepal_width', 'petal_length', 'petal_width', 'species']\n",
        "feature_names = column_names[:-1]\n",
        "label_name = column_names[-1]\n",
        "print('\\n')\n",
        "print('Feature : ', feature_names)\n",
        "print()\n",
        "print('Labels : ', label_name)"
      ],
      "execution_count": 17,
      "outputs": [
        {
          "output_type": "stream",
          "text": [
            "120,4,setosa,versicolor,virginica\n",
            "6.4,2.8,5.6,2.2,2\n",
            "5.0,2.3,3.3,1.0,1\n",
            "4.9,2.5,4.5,1.7,2\n",
            "4.9,3.1,1.5,0.1,0\n",
            "\n",
            "\n",
            "Feature :  ['sepal_length', 'sepal_width', 'petal_length', 'petal_width']\n",
            "\n",
            "Labels :  species\n"
          ],
          "name": "stdout"
        }
      ]
    },
    {
      "cell_type": "code",
      "metadata": {
        "id": "-77dWpE_jjZp"
      },
      "source": [
        "class_names = ['Iris setosa', 'Iris versicolor', 'Iris virginica']"
      ],
      "execution_count": 18,
      "outputs": []
    },
    {
      "cell_type": "code",
      "metadata": {
        "id": "eiMPMPIjkn4N"
      },
      "source": [
        "# tf.data.Dataset 생성\n",
        "'''\n",
        "텐서플로의 데이터셋 api는 데이터를 적재할 때 발생하는 다양한 경우를 다룰 수 있음.\n",
        "훈련에 필요한 형태로 데이터를 읽고 변환하는 API\n",
        "\n",
        "데이터셋이 CSV파일이므로 적절한 형태로 데이터를 구분하기 위해 make_csv_dataset 함수를 사용\n",
        " -> 훈련모델을 위한 데이터를 생성하므로, 초기값은(shuffle = True, shuffle_buffer_size = 10000)과\n",
        " 무한반복(num_epochs= None)으로 설정되어 있음.\n",
        "'''\n",
        "batch_size = 32\n",
        "\n",
        "train_dataset = tf.data.experimental.make_csv_dataset(\n",
        "    train_dataset_fp, # csv 파일 인듯?\n",
        "    batch_size = batch_size,\n",
        "    column_names = column_names,\n",
        "    label_name = label_name,\n",
        "    num_epochs = 1\n",
        ")"
      ],
      "execution_count": 20,
      "outputs": []
    },
    {
      "cell_type": "code",
      "metadata": {
        "colab": {
          "base_uri": "https://localhost:8080/"
        },
        "id": "oyoF1I06lYbL",
        "outputId": "99e364e8-4af0-424a-b966-2db853b13503"
      },
      "source": [
        "# make_csv_dataset 함수 : (features,label) 쌍으로 구성된 tf.data.Dataset을 반환\n",
        "# features -> 딕셔너리 객체인 {'feature_name' : value} 로 주어짐\n",
        "\n",
        "feature, labels = next(iter(train_dataset))\n",
        "print(feature)"
      ],
      "execution_count": 22,
      "outputs": [
        {
          "output_type": "stream",
          "text": [
            "OrderedDict([('sepal_length', <tf.Tensor: shape=(32,), dtype=float32, numpy=\n",
            "array([4.6, 5.5, 4.4, 6.4, 5.4, 7.9, 5.8, 6. , 4.6, 5.7, 6.1, 6.1, 5. ,\n",
            "       4.8, 5.4, 5.1, 7.4, 6.7, 6.3, 6.1, 4.5, 5.7, 6.8, 7.3, 4.9, 5. ,\n",
            "       4.4, 6.6, 6.9, 7.2, 6.4, 4.6], dtype=float32)>), ('sepal_width', <tf.Tensor: shape=(32,), dtype=float32, numpy=\n",
            "array([3.1, 2.4, 3. , 2.8, 3. , 3.8, 4. , 2.9, 3.2, 2.8, 2.9, 2.6, 3.2,\n",
            "       3. , 3.4, 3.8, 2.8, 3.3, 2.7, 3. , 2.3, 3.8, 2.8, 2.9, 3.1, 3.4,\n",
            "       2.9, 3. , 3.1, 3.2, 2.8, 3.6], dtype=float32)>), ('petal_length', <tf.Tensor: shape=(32,), dtype=float32, numpy=\n",
            "array([1.5, 3.7, 1.3, 5.6, 4.5, 6.4, 1.2, 4.5, 1.4, 4.1, 4.7, 5.6, 1.2,\n",
            "       1.4, 1.5, 1.6, 6.1, 5.7, 4.9, 4.9, 1.3, 1.7, 4.8, 6.3, 1.5, 1.5,\n",
            "       1.4, 4.4, 4.9, 6. , 5.6, 1. ], dtype=float32)>), ('petal_width', <tf.Tensor: shape=(32,), dtype=float32, numpy=\n",
            "array([0.2, 1. , 0.2, 2.2, 1.5, 2. , 0.2, 1.5, 0.2, 1.3, 1.4, 1.4, 0.2,\n",
            "       0.3, 0.4, 0.2, 1.9, 2.1, 1.8, 1.8, 0.3, 0.3, 1.4, 1.8, 0.1, 0.2,\n",
            "       0.2, 1.4, 1.5, 1.8, 2.1, 0.2], dtype=float32)>)])\n"
          ],
          "name": "stdout"
        }
      ]
    },
    {
      "cell_type": "code",
      "metadata": {
        "colab": {
          "base_uri": "https://localhost:8080/",
          "height": 282
        },
        "id": "UJOYDzIWlZfc",
        "outputId": "fefd223e-1553-481a-c7f3-158cce4757f7"
      },
      "source": [
        "plt.scatter(\n",
        "    feature['petal_length'],\n",
        "    feature['sepal_length'],\n",
        "    c = labels,\n",
        "    cmap = 'viridis'\n",
        ")\n",
        "\n",
        "plt.xlabel('Petal length', size = 12)\n",
        "plt.ylabel('Sepal length', size = 12)\n",
        "plt.show()"
      ],
      "execution_count": 27,
      "outputs": [
        {
          "output_type": "display_data",
          "data": {
            "image/png": "[encoded data removed]",
            "text/plain": [
              "<Figure size 432x288 with 1 Axes>"
            ]
          },
          "metadata": {
            "tags": [],
            "needs_background": "light"
          }
        }
      ]
    },
    {
      "cell_type": "code",
      "metadata": {
        "id": "YCvSOow4mAfF"
      },
      "source": [
        "# 모델 구축 단계를 단순화 하기 위해 특성 딕셔너리를 (batch_size, num_features) 의 형태를 가지는\n",
        "# 단일 배열로 구성하는 함수 생성\n",
        "\n",
        "def pack_features_vector(features, labels) :\n",
        "    '''특성들을 단일 배열로 묶자.'''\n",
        "    features = tf.stack(list(features.values()), axis=1)\n",
        "    return features, labels"
      ],
      "execution_count": 28,
      "outputs": []
    },
    {
      "cell_type": "code",
      "metadata": {
        "id": "mobnedxNmfbR"
      },
      "source": [
        "# 그 후 각 (features, labels) 쌍의 특성을 훈련 데이터 세트에 쌓기 위해 tf.data.Dataset.map 사용\n",
        "train_dataset = train_dataset.map(pack_features_vector)"
      ],
      "execution_count": 29,
      "outputs": []
    },
    {
      "cell_type": "code",
      "metadata": {
        "colab": {
          "base_uri": "https://localhost:8080/"
        },
        "id": "OM6y-frmmpNT",
        "outputId": "8648ec58-0729-4e6d-d6cc-2b8f7785e194"
      },
      "source": [
        "# 데이터셋의 특성요소는 이제 형태가 (batch_size, num_features)인 배열\n",
        "features, labels = next(iter(train_dataset))\n",
        "print(features[:5])"
      ],
      "execution_count": 30,
      "outputs": [
        {
          "output_type": "stream",
          "text": [
            "tf.Tensor(\n",
            "[[6.  3.  4.8 1.8]\n",
            " [4.7 3.2 1.6 0.2]\n",
            " [5.  3.3 1.4 0.2]\n",
            " [6.5 2.8 4.6 1.5]\n",
            " [6.3 2.7 4.9 1.8]], shape=(5, 4), dtype=float32)\n"
          ],
          "name": "stdout"
        }
      ]
    },
    {
      "cell_type": "code",
      "metadata": {
        "id": "ECwwFfe-mxmn"
      },
      "source": [
        "# keras를 사용한 모델 생성\n",
        "model = tf.keras.Sequential([\n",
        "            tf.keras.layers.Dense(10, activation = tf.nn.relu, input_shape = (4,)),\n",
        "            tf.keras.layers.Dense(10, activation = tf.nn.relu),\n",
        "            tf.keras.layers.Dense(3)\n",
        "])"
      ],
      "execution_count": 31,
      "outputs": []
    },
    {
      "cell_type": "code",
      "metadata": {
        "colab": {
          "base_uri": "https://localhost:8080/"
        },
        "id": "12E7Z8MNnfSx",
        "outputId": "282dff15-e493-4347-ccfa-c34d7b93a208"
      },
      "source": [
        "features"
      ],
      "execution_count": 32,
      "outputs": [
        {
          "output_type": "execute_result",
          "data": {
            "text/plain": [
              "<tf.Tensor: shape=(32, 4), dtype=float32, numpy=\n",
              "array([[6. , 3. , 4.8, 1.8],\n",
              "       [4.7, 3.2, 1.6, 0.2],\n",
              "       [5. , 3.3, 1.4, 0.2],\n",
              "       [6.5, 2.8, 4.6, 1.5],\n",
              "       [6.3, 2.7, 4.9, 1.8],\n",
              "       [5.1, 3.7, 1.5, 0.4],\n",
              "       [5.3, 3.7, 1.5, 0.2],\n",
              "       [6.5, 3. , 5.2, 2. ],\n",
              "       [5.6, 2.7, 4.2, 1.3],\n",
              "       [6.3, 2.3, 4.4, 1.3],\n",
              "       [4.9, 3.1, 1.5, 0.1],\n",
              "       [5. , 3.6, 1.4, 0.2],\n",
              "       [6.4, 3.1, 5.5, 1.8],\n",
              "       [7.2, 3. , 5.8, 1.6],\n",
              "       [5.1, 2.5, 3. , 1.1],\n",
              "       [4.9, 3. , 1.4, 0.2],\n",
              "       [5.6, 2.5, 3.9, 1.1],\n",
              "       [6.7, 3. , 5.2, 2.3],\n",
              "       [5.1, 3.8, 1.6, 0.2],\n",
              "       [5.7, 3. , 4.2, 1.2],\n",
              "       [5.9, 3. , 5.1, 1.8],\n",
              "       [7.9, 3.8, 6.4, 2. ],\n",
              "       [4.6, 3.1, 1.5, 0.2],\n",
              "       [5.9, 3.2, 4.8, 1.8],\n",
              "       [5.7, 4.4, 1.5, 0.4],\n",
              "       [5. , 2.3, 3.3, 1. ],\n",
              "       [4.4, 2.9, 1.4, 0.2],\n",
              "       [5. , 3.5, 1.6, 0.6],\n",
              "       [4.6, 3.6, 1. , 0.2],\n",
              "       [6.6, 2.9, 4.6, 1.3],\n",
              "       [6.1, 2.8, 4. , 1.3],\n",
              "       [6.9, 3.1, 5.1, 2.3]], dtype=float32)>"
            ]
          },
          "metadata": {
            "tags": []
          },
          "execution_count": 32
        }
      ]
    },
    {
      "cell_type": "code",
      "metadata": {
        "colab": {
          "base_uri": "https://localhost:8080/"
        },
        "id": "mjQfN4ranlf_",
        "outputId": "b50e8429-67ad-47be-c5a2-a4771c64ab08"
      },
      "source": [
        "predictions = model(features)\n",
        "predictions[:5]"
      ],
      "execution_count": 33,
      "outputs": [
        {
          "output_type": "execute_result",
          "data": {
            "text/plain": [
              "<tf.Tensor: shape=(5, 3), dtype=float32, numpy=\n",
              "array([[ 2.3086073 ,  0.8442985 , -2.2126815 ],\n",
              "       [ 1.4885026 ,  0.41771746, -1.4686718 ],\n",
              "       [ 1.4835072 ,  0.37186697, -1.4288564 ],\n",
              "       [ 2.2761042 ,  0.74101174, -2.213661  ],\n",
              "       [ 2.2522233 ,  0.78558815, -2.1949604 ]], dtype=float32)>"
            ]
          },
          "metadata": {
            "tags": []
          },
          "execution_count": 33
        }
      ]
    },
    {
      "cell_type": "code",
      "metadata": {
        "colab": {
          "base_uri": "https://localhost:8080/"
        },
        "id": "WGsXjpeKnvwp",
        "outputId": "55db2d0a-5577-406f-be27-ef3b71c033f1"
      },
      "source": [
        "tf.nn.softmax(predictions[:5])"
      ],
      "execution_count": 34,
      "outputs": [
        {
          "output_type": "execute_result",
          "data": {
            "text/plain": [
              "<tf.Tensor: shape=(5, 3), dtype=float32, numpy=\n",
              "array([[0.8050799 , 0.18616486, 0.00875524],\n",
              "       [0.7169975 , 0.24574323, 0.03725917],\n",
              "       [0.7228745 , 0.23783936, 0.03928616],\n",
              "       [0.81522244, 0.17562808, 0.00914947],\n",
              "       [0.804886  , 0.18568757, 0.00942643]], dtype=float32)>"
            ]
          },
          "metadata": {
            "tags": []
          },
          "execution_count": 34
        }
      ]
    },
    {
      "cell_type": "code",
      "metadata": {
        "colab": {
          "base_uri": "https://localhost:8080/"
        },
        "id": "PagPaRDpn1Jo",
        "outputId": "de02851e-17e5-4b2a-c86a-fd24dac050a9"
      },
      "source": [
        "print(' 예측 : {}'.format(tf.argmax(predictions, axis=1)))\n",
        "print(' 레이블 :{}'.format(labels))"
      ],
      "execution_count": 35,
      "outputs": [
        {
          "output_type": "stream",
          "text": [
            " 예측 : [0 0 0 0 0 0 0 0 0 0 0 0 0 0 0 0 0 0 0 0 0 0 0 0 0 0 0 0 0 0 0 0]\n",
            " 레이블 :[2 0 0 1 2 0 0 2 1 1 0 0 2 2 1 0 1 2 0 1 2 2 0 1 0 1 0 0 0 1 1 2]\n"
          ],
          "name": "stdout"
        }
      ]
    },
    {
      "cell_type": "code",
      "metadata": {
        "colab": {
          "base_uri": "https://localhost:8080/"
        },
        "id": "OqtszCUNoBpl",
        "outputId": "b9bf7b0e-10b7-459b-a750-426bb64131dd"
      },
      "source": [
        "# 모델 훈련\n",
        "''' \n",
        "[손실함수와 그래디언트 함수 정의]\n",
        " - 모델의 손실을 계산해야함\n",
        " - 모델의 예측이 원하는 레이블과 얼마나 일치하는 지 또한 모델이 잘 작동하는 지에 대한 척도로 사용\n",
        " - 이 값을 최소화 및 최적화\n",
        "'''\n",
        "loss_object = tf.keras.losses.SparseCategoricalCrossentropy(from_logits = True)\n",
        "\n",
        "def loss(model,x,y) :\n",
        "    y_ = model(x)\n",
        "    return loss_object(y_true = y, y_pred = y_)\n",
        "\n",
        "l = loss(model, features, labels)\n",
        "print(' 손실 테스트 : {}'.format(l))"
      ],
      "execution_count": 38,
      "outputs": [
        {
          "output_type": "stream",
          "text": [
            " 손실 테스트 : 2.0722293853759766\n"
          ],
          "name": "stdout"
        }
      ]
    },
    {
      "cell_type": "code",
      "metadata": {
        "id": "HKJT544womVD"
      },
      "source": [
        "# 모델 최적화를 위해 그라디언트를 계산\n",
        "\n",
        "def grad(model, inputs, targets) :\n",
        "    with tf.GradientTape() as tape :\n",
        "        loss_value = loss(model, inputs, targets)\n",
        "    return loss_value, tape.gradient(loss_value, model.trainable_variables)"
      ],
      "execution_count": 39,
      "outputs": []
    },
    {
      "cell_type": "code",
      "metadata": {
        "id": "9LjPadQDpAJU"
      },
      "source": [
        "optimizer = tf.keras.optimizers.Adam(learning_rate=0.01)"
      ],
      "execution_count": 41,
      "outputs": []
    },
    {
      "cell_type": "code",
      "metadata": {
        "colab": {
          "base_uri": "https://localhost:8080/"
        },
        "id": "BZ44bVB7pIq4",
        "outputId": "780ecfa0-5dab-4263-e524-e8f36e2d5364"
      },
      "source": [
        "loss_value, grads = grad(model, features, labels)\n",
        "print('단계 : {}, 초기손실 : {}'.format(optimizer.iterations.numpy(),\n",
        "                                  loss_value.numpy()))\n",
        "optimizer.apply_gradients(zip(grads, model.trainable_variables))\n",
        "print('단계 : {},     손실 : {}'.format(optimizer.iterations.numpy(),\n",
        "                                    loss(model, features, labels).numpy()))"
      ],
      "execution_count": 42,
      "outputs": [
        {
          "output_type": "stream",
          "text": [
            "단계 : 0, 초기손실 : 2.0722293853759766\n",
            "단계 : 1,     손실 : 1.7636688947677612\n"
          ],
          "name": "stdout"
        }
      ]
    },
    {
      "cell_type": "code",
      "metadata": {
        "id": "vFw_HOVkpkH6"
      },
      "source": [
        ""
      ],
      "execution_count": null,
      "outputs": []
    }
  ]
}