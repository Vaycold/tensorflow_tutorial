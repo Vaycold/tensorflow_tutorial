{
  "nbformat": 4,
  "nbformat_minor": 0,
  "metadata": {
    "colab": {
      "name": "#16.맞춤학습:둘러보기.ipynb",
      "provenance": [],
      "authorship_tag": "ABX9TyPMGyl7f4sv0DorfeqfD30F",
      "include_colab_link": true
    },
    "kernelspec": {
      "name": "python3",
      "display_name": "Python 3"
    },
    "language_info": {
      "name": "python"
    }
  },
  "cells": [
    {
      "cell_type": "markdown",
      "metadata": {
        "id": "view-in-github",
        "colab_type": "text"
      },
      "source": [
        "<a href=\"https://colab.research.google.com/github/Vaycold/tensorflow_tutorial/blob/main/%2316.%EB%A7%9E%EC%B6%A4%ED%95%99%EC%8A%B5%20%EB%91%98%EB%9F%AC%EB%B3%B4%EA%B8%B0.ipynb\" target=\"_parent\"><img src=\"https://colab.research.google.com/assets/colab-badge.svg\" alt=\"Open In Colab\"/></a>"
      ]
    },
    {
      "cell_type": "markdown",
      "metadata": {
        "id": "UkAGMwIEjAIk"
      },
      "source": [
        "## 붗꽃 분류문제"
      ]
    },
    {
      "cell_type": "code",
      "metadata": {
        "colab": {
          "base_uri": "https://localhost:8080/"
        },
        "id": "JpYDg0zqiVcP",
        "outputId": "d41ca5c7-1fcc-49fd-d969-ffb0e787302e"
      },
      "source": [
        "# 데이터셋 다운로드\n",
        "import os\n",
        "import tensorflow as tf\n",
        "import matplotlib.pyplot as plt\n",
        "\n",
        "train_dataset_url = \"https://storage.googleapis.com/download.tensorflow.org/data/iris_training.csv\"\n",
        "\n",
        "train_dataset_fp = tf.keras.utils.get_file(fname=os.path.basename(train_dataset_url),\n",
        "                                           origin=train_dataset_url)\n",
        "\n",
        "print(\"데이터셋이 복사된 위치: {}\".format(train_dataset_fp))"
      ],
      "execution_count": 1,
      "outputs": [
        {
          "output_type": "stream",
          "text": [
            "Downloading data from https://storage.googleapis.com/download.tensorflow.org/data/iris_training.csv\n",
            "\r16384/2194 [================================================================================================================================================================================================================================] - 0s 0us/step\n",
            "데이터셋이 복사된 위치: /root/.keras/datasets/iris_training.csv\n"
          ],
          "name": "stdout"
        }
      ]
    },
    {
      "cell_type": "code",
      "metadata": {
        "colab": {
          "base_uri": "https://localhost:8080/"
        },
        "id": "Nm1Yxg5CjI9c",
        "outputId": "c0beb196-c5b5-47b1-bbe3-c37642ca63b0"
      },
      "source": [
        "!head -n5 {train_dataset_fp}\n",
        "'''\n",
        "첫 번째 줄  = 헤더(정보를 가지고 있음) ; 120개 sample, 각 sample's feautre : 4, # of labels : 3\n",
        "'''\n",
        "column_names = ['sepal_length', 'sepal_width', 'petal_length', 'petal_width', 'species']\n",
        "feature_names = column_names[:-1]\n",
        "label_name = column_names[-1]\n",
        "print('\\n')\n",
        "print('Feature : ', feature_names)\n",
        "print()\n",
        "print('Labels : ', label_name)"
      ],
      "execution_count": 2,
      "outputs": [
        {
          "output_type": "stream",
          "text": [
            "120,4,setosa,versicolor,virginica\n",
            "6.4,2.8,5.6,2.2,2\n",
            "5.0,2.3,3.3,1.0,1\n",
            "4.9,2.5,4.5,1.7,2\n",
            "4.9,3.1,1.5,0.1,0\n",
            "\n",
            "\n",
            "Feature :  ['sepal_length', 'sepal_width', 'petal_length', 'petal_width']\n",
            "\n",
            "Labels :  species\n"
          ],
          "name": "stdout"
        }
      ]
    },
    {
      "cell_type": "code",
      "metadata": {
        "id": "-77dWpE_jjZp"
      },
      "source": [
        "class_names = ['Iris setosa', 'Iris versicolor', 'Iris virginica']"
      ],
      "execution_count": 3,
      "outputs": []
    },
    {
      "cell_type": "code",
      "metadata": {
        "id": "eiMPMPIjkn4N"
      },
      "source": [
        "# tf.data.Dataset 생성\n",
        "'''\n",
        "텐서플로의 데이터셋 api는 데이터를 적재할 때 발생하는 다양한 경우를 다룰 수 있음.\n",
        "훈련에 필요한 형태로 데이터를 읽고 변환하는 API\n",
        "\n",
        "데이터셋이 CSV파일이므로 적절한 형태로 데이터를 구분하기 위해 make_csv_dataset 함수를 사용\n",
        " -> 훈련모델을 위한 데이터를 생성하므로, 초기값은(shuffle = True, shuffle_buffer_size = 10000)과\n",
        " 무한반복(num_epochs= None)으로 설정되어 있음.\n",
        "'''\n",
        "batch_size = 32\n",
        "\n",
        "train_dataset = tf.data.experimental.make_csv_dataset(\n",
        "    train_dataset_fp, # csv 파일 인듯?\n",
        "    batch_size = batch_size,\n",
        "    column_names = column_names,\n",
        "    label_name = label_name,\n",
        "    num_epochs = 1\n",
        ")"
      ],
      "execution_count": 4,
      "outputs": []
    },
    {
      "cell_type": "code",
      "metadata": {
        "colab": {
          "base_uri": "https://localhost:8080/"
        },
        "id": "oyoF1I06lYbL",
        "outputId": "33f23ff8-be4b-4a8e-9f8b-d1173942051d"
      },
      "source": [
        "# make_csv_dataset 함수 : (features,label) 쌍으로 구성된 tf.data.Dataset을 반환\n",
        "# features -> 딕셔너리 객체인 {'feature_name' : value} 로 주어짐\n",
        "\n",
        "feature, labels = next(iter(train_dataset))\n",
        "print(feature)"
      ],
      "execution_count": 5,
      "outputs": [
        {
          "output_type": "stream",
          "text": [
            "OrderedDict([('sepal_length', <tf.Tensor: shape=(32,), dtype=float32, numpy=\n",
            "array([6.5, 4.7, 5.7, 7. , 6.7, 7.2, 6.8, 5.8, 5.1, 6.4, 4.8, 6.8, 5.9,\n",
            "       5.6, 5.1, 5.1, 7.6, 6.6, 5.6, 4.5, 6.7, 6.6, 6.3, 5.8, 4.6, 5.4,\n",
            "       4.9, 6.5, 6.3, 6.5, 6. , 4.9], dtype=float32)>), ('sepal_width', <tf.Tensor: shape=(32,), dtype=float32, numpy=\n",
            "array([3. , 3.2, 4.4, 3.2, 3. , 3.2, 3.2, 2.7, 2.5, 3.1, 3.1, 3. , 3.2,\n",
            "       2.7, 3.8, 3.7, 3. , 2.9, 2.9, 2.3, 3.1, 3. , 2.7, 2.7, 3.4, 3.9,\n",
            "       2.4, 3. , 3.3, 3.2, 2.9, 3.1], dtype=float32)>), ('petal_length', <tf.Tensor: shape=(32,), dtype=float32, numpy=\n",
            "array([5.2, 1.3, 1.5, 4.7, 5.2, 6. , 5.9, 5.1, 3. , 5.5, 1.6, 5.5, 4.8,\n",
            "       4.2, 1.5, 1.5, 6.6, 4.6, 3.6, 1.3, 5.6, 4.4, 4.9, 5.1, 1.4, 1.3,\n",
            "       3.3, 5.8, 6. , 5.1, 4.5, 1.5], dtype=float32)>), ('petal_width', <tf.Tensor: shape=(32,), dtype=float32, numpy=\n",
            "array([2. , 0.2, 0.4, 1.4, 2.3, 1.8, 2.3, 1.9, 1.1, 1.8, 0.2, 2.1, 1.8,\n",
            "       1.3, 0.3, 0.4, 2.1, 1.3, 1.3, 0.3, 2.4, 1.4, 1.8, 1.9, 0.3, 0.4,\n",
            "       1. , 2.2, 2.5, 2. , 1.5, 0.1], dtype=float32)>)])\n"
          ],
          "name": "stdout"
        }
      ]
    },
    {
      "cell_type": "code",
      "metadata": {
        "colab": {
          "base_uri": "https://localhost:8080/",
          "height": 282
        },
        "id": "UJOYDzIWlZfc",
        "outputId": "e9fb7f27-136a-446f-ea7a-bf465c2ef46f"
      },
      "source": [
        "plt.scatter(\n",
        "    feature['petal_length'],\n",
        "    feature['sepal_length'],\n",
        "    c = labels,\n",
        "    cmap = 'viridis'\n",
        ")\n",
        "\n",
        "plt.xlabel('Petal length', size = 12)\n",
        "plt.ylabel('Sepal length', size = 12)\n",
        "plt.show()"
      ],
      "execution_count": 6,
      "outputs": [
        {
          "output_type": "display_data",
          "data": {
            "image/png": "[encoded data removed]",
            "text/plain": [
              "<Figure size 432x288 with 1 Axes>"
            ]
          },
          "metadata": {
            "needs_background": "light"
          }
        }
      ]
    },
    {
      "cell_type": "code",
      "metadata": {
        "id": "YCvSOow4mAfF"
      },
      "source": [
        "# 모델 구축 단계를 단순화 하기 위해 특성 딕셔너리를 (batch_size, num_features) 의 형태를 가지는\n",
        "# 단일 배열로 구성하는 함수 생성\n",
        "\n",
        "def pack_features_vector(features, labels) :\n",
        "    '''특성들을 단일 배열로 묶자.'''\n",
        "    features = tf.stack(list(features.values()), axis=1)\n",
        "    return features, labels"
      ],
      "execution_count": 7,
      "outputs": []
    },
    {
      "cell_type": "code",
      "metadata": {
        "id": "mobnedxNmfbR"
      },
      "source": [
        "# 그 후 각 (features, labels) 쌍의 특성을 훈련 데이터 세트에 쌓기 위해 tf.data.Dataset.map 사용\n",
        "train_dataset = train_dataset.map(pack_features_vector)"
      ],
      "execution_count": 8,
      "outputs": []
    },
    {
      "cell_type": "code",
      "metadata": {
        "colab": {
          "base_uri": "https://localhost:8080/"
        },
        "id": "OM6y-frmmpNT",
        "outputId": "338af5fd-1e5b-4db5-d9d8-7227a25cba15"
      },
      "source": [
        "# 데이터셋의 특성요소는 이제 형태가 (batch_size, num_features)인 배열\n",
        "features, labels = next(iter(train_dataset))\n",
        "print(features[:5])"
      ],
      "execution_count": 9,
      "outputs": [
        {
          "output_type": "stream",
          "text": [
            "tf.Tensor(\n",
            "[[7.3 2.9 6.3 1.8]\n",
            " [5.  3.2 1.2 0.2]\n",
            " [5.  2.3 3.3 1. ]\n",
            " [7.9 3.8 6.4 2. ]\n",
            " [5.4 3.7 1.5 0.2]], shape=(5, 4), dtype=float32)\n"
          ],
          "name": "stdout"
        }
      ]
    },
    {
      "cell_type": "code",
      "metadata": {
        "id": "ECwwFfe-mxmn"
      },
      "source": [
        "# keras를 사용한 모델 생성\n",
        "model = tf.keras.Sequential([\n",
        "            tf.keras.layers.Dense(10, activation = tf.nn.relu, input_shape = (4,)),\n",
        "            tf.keras.layers.Dense(10, activation = tf.nn.relu),\n",
        "            tf.keras.layers.Dense(3)\n",
        "])"
      ],
      "execution_count": 20,
      "outputs": []
    },
    {
      "cell_type": "code",
      "metadata": {
        "colab": {
          "base_uri": "https://localhost:8080/"
        },
        "id": "12E7Z8MNnfSx",
        "outputId": "1026b89c-1175-45da-b9c3-2e93bfc3a351"
      },
      "source": [
        "features"
      ],
      "execution_count": 21,
      "outputs": [
        {
          "output_type": "execute_result",
          "data": {
            "text/plain": [
              "<tf.Tensor: shape=(32, 4), dtype=float32, numpy=\n",
              "array([[7.3, 2.9, 6.3, 1.8],\n",
              "       [5. , 3.2, 1.2, 0.2],\n",
              "       [5. , 2.3, 3.3, 1. ],\n",
              "       [7.9, 3.8, 6.4, 2. ],\n",
              "       [5.4, 3.7, 1.5, 0.2],\n",
              "       [6.1, 2.6, 5.6, 1.4],\n",
              "       [5. , 3.4, 1.6, 0.4],\n",
              "       [6.4, 2.8, 5.6, 2.2],\n",
              "       [5.6, 2.7, 4.2, 1.3],\n",
              "       [4.9, 3.1, 1.5, 0.1],\n",
              "       [4.4, 2.9, 1.4, 0.2],\n",
              "       [7.2, 3.2, 6. , 1.8],\n",
              "       [6.7, 3. , 5.2, 2.3],\n",
              "       [4.7, 3.2, 1.6, 0.2],\n",
              "       [6.8, 3. , 5.5, 2.1],\n",
              "       [6.7, 3.1, 5.6, 2.4],\n",
              "       [5. , 3.4, 1.5, 0.2],\n",
              "       [6.1, 3. , 4.9, 1.8],\n",
              "       [5.2, 2.7, 3.9, 1.4],\n",
              "       [6.2, 2.8, 4.8, 1.8],\n",
              "       [4.9, 3. , 1.4, 0.2],\n",
              "       [6.5, 3.2, 5.1, 2. ],\n",
              "       [6.3, 3.3, 6. , 2.5],\n",
              "       [5.5, 3.5, 1.3, 0.2],\n",
              "       [4.6, 3.2, 1.4, 0.2],\n",
              "       [5.1, 2.5, 3. , 1.1],\n",
              "       [6.5, 3. , 5.8, 2.2],\n",
              "       [6.4, 3.2, 4.5, 1.5],\n",
              "       [6.3, 2.5, 5. , 1.9],\n",
              "       [7.2, 3.6, 6.1, 2.5],\n",
              "       [6.3, 2.3, 4.4, 1.3],\n",
              "       [6.5, 3. , 5.2, 2. ]], dtype=float32)>"
            ]
          },
          "metadata": {},
          "execution_count": 21
        }
      ]
    },
    {
      "cell_type": "code",
      "metadata": {
        "colab": {
          "base_uri": "https://localhost:8080/"
        },
        "id": "mjQfN4ranlf_",
        "outputId": "4ea98c9c-2694-46c2-a057-48fddefdc938"
      },
      "source": [
        "predictions = model(features)\n",
        "predictions[:5]"
      ],
      "execution_count": 22,
      "outputs": [
        {
          "output_type": "execute_result",
          "data": {
            "text/plain": [
              "<tf.Tensor: shape=(5, 3), dtype=float32, numpy=\n",
              "array([[-0.7742563 ,  3.6208503 ,  1.0501107 ],\n",
              "       [ 0.7213524 ,  1.743093  ,  1.3307035 ],\n",
              "       [-0.12197559,  2.4480412 ,  1.0112993 ],\n",
              "       [-0.6991399 ,  4.0784826 ,  1.3123649 ],\n",
              "       [ 0.71534014,  1.9321897 ,  1.4117126 ]], dtype=float32)>"
            ]
          },
          "metadata": {},
          "execution_count": 22
        }
      ]
    },
    {
      "cell_type": "code",
      "metadata": {
        "colab": {
          "base_uri": "https://localhost:8080/"
        },
        "id": "WGsXjpeKnvwp",
        "outputId": "2477fbd8-8dd7-4c5e-faab-b34c8d76c78e"
      },
      "source": [
        "tf.nn.softmax(predictions[:5])"
      ],
      "execution_count": 23,
      "outputs": [
        {
          "output_type": "execute_result",
          "data": {
            "text/plain": [
              "<tf.Tensor: shape=(5, 3), dtype=float32, numpy=\n",
              "array([[0.01133117, 0.91842836, 0.07024044],\n",
              "       [0.17802261, 0.49455148, 0.3274259 ],\n",
              "       [0.05823483, 0.7608988 , 0.18086636],\n",
              "       [0.0078557 , 0.93342644, 0.0587179 ],\n",
              "       [0.15666628, 0.5289889 , 0.31434476]], dtype=float32)>"
            ]
          },
          "metadata": {},
          "execution_count": 23
        }
      ]
    },
    {
      "cell_type": "code",
      "metadata": {
        "colab": {
          "base_uri": "https://localhost:8080/"
        },
        "id": "PagPaRDpn1Jo",
        "outputId": "a052f89c-fcd9-4b16-a442-64d819757e01"
      },
      "source": [
        "print(' 예측 : {}'.format(tf.argmax(predictions, axis=1)))\n",
        "print(' 레이블 :{}'.format(labels))"
      ],
      "execution_count": 24,
      "outputs": [
        {
          "output_type": "stream",
          "text": [
            " 예측 : [1 1 1 1 1 1 1 1 1 1 1 1 1 1 1 1 1 1 1 1 1 1 1 1 1 1 1 1 1 1 1 1]\n",
            " 레이블 :[2 0 1 2 0 2 0 2 1 0 0 2 2 0 2 2 0 2 1 2 0 2 2 0 0 1 2 1 2 2 1 2]\n"
          ],
          "name": "stdout"
        }
      ]
    },
    {
      "cell_type": "code",
      "metadata": {
        "colab": {
          "base_uri": "https://localhost:8080/"
        },
        "id": "OqtszCUNoBpl",
        "outputId": "530bff26-bddb-4326-f256-48da55909bac"
      },
      "source": [
        "# 모델 훈련\n",
        "''' \n",
        "[손실함수와 그래디언트 함수 정의]\n",
        " - 모델의 손실을 계산해야함\n",
        " - 모델의 예측이 원하는 레이블과 얼마나 일치하는 지 또한 모델이 잘 작동하는 지에 대한 척도로 사용\n",
        " - 이 값을 최소화 및 최적화\n",
        "'''\n",
        "loss_object = tf.keras.losses.SparseCategoricalCrossentropy(from_logits = True)\n",
        "\n",
        "def loss(model,x,y) :\n",
        "    y_ = model(x)\n",
        "    return loss_object(y_true = y, y_pred = y_)\n",
        "\n",
        "l = loss(model, features, labels)\n",
        "print(' 손실 테스트 : {}'.format(l))"
      ],
      "execution_count": 25,
      "outputs": [
        {
          "output_type": "stream",
          "text": [
            " 손실 테스트 : 1.8666709661483765\n"
          ],
          "name": "stdout"
        }
      ]
    },
    {
      "cell_type": "code",
      "metadata": {
        "id": "HKJT544womVD"
      },
      "source": [
        "# 모델 최적화를 위해 그라디언트를 계산\n",
        "\n",
        "def grad(model, inputs, targets) :\n",
        "    with tf.GradientTape() as tape :\n",
        "        loss_value = loss(model, inputs, targets)\n",
        "    return loss_value, tape.gradient(loss_value, model.trainable_variables)"
      ],
      "execution_count": 26,
      "outputs": []
    },
    {
      "cell_type": "code",
      "metadata": {
        "id": "9LjPadQDpAJU"
      },
      "source": [
        "optimizer = tf.keras.optimizers.Adam(learning_rate=0.01)"
      ],
      "execution_count": 27,
      "outputs": []
    },
    {
      "cell_type": "code",
      "metadata": {
        "colab": {
          "base_uri": "https://localhost:8080/"
        },
        "id": "BZ44bVB7pIq4",
        "outputId": "3ce24672-a7ad-4c34-dc10-8a44e97c95a6"
      },
      "source": [
        "loss_value, grads = grad(model, features, labels)\n",
        "print('단계 : {}, 초기손실 : {}'.format(optimizer.iterations.numpy(),\n",
        "                                  loss_value.numpy()))\n",
        "optimizer.apply_gradients(zip(grads, model.trainable_variables))\n",
        "print('단계 : {},     손실 : {}'.format(optimizer.iterations.numpy(),\n",
        "                                    loss(model, features, labels).numpy()))"
      ],
      "execution_count": 28,
      "outputs": [
        {
          "output_type": "stream",
          "text": [
            "단계 : 0, 초기손실 : 1.8666709661483765\n",
            "단계 : 1,     손실 : 1.5327496528625488\n"
          ],
          "name": "stdout"
        }
      ]
    },
    {
      "cell_type": "code",
      "metadata": {
        "id": "vFw_HOVkpkH6",
        "outputId": "0e9c9ede-4b31-48cf-895a-9ff97362c421",
        "colab": {
          "base_uri": "https://localhost:8080/"
        }
      },
      "source": [
        "# 도식화를 위해 결과를 저장\n",
        "train_loss_results = []\n",
        "train_accuracy_results = []\n",
        "\n",
        "num_epochs = 201\n",
        "for epoch in range(num_epochs) :\n",
        "    epoch_loss_avg = tf.keras.metrics.Mean()\n",
        "    epoch_accuracy = tf.keras.metrics.SparseCategoricalAccuracy()\n",
        "\n",
        "    for x,y in train_dataset :\n",
        "        loss_value, grads = grad(model, x, y)\n",
        "        optimizer.apply_gradients(zip(grads, model.trainable_variables))\n",
        "\n",
        "        epoch_loss_avg(loss_value) # 현재 배치의 손실\n",
        "        epoch_accuracy(y, model(x))\n",
        "    \n",
        "    train_loss_results.append(epoch_loss_avg.result())\n",
        "    train_accuracy_results.append(epoch_accuracy.result())\n",
        "\n",
        "    if epoch % 50 == 0 :\n",
        "        print(\"epoch {:03d} : 손실 : {:.3f}, 정확도 : {:.3%}\".format(epoch, epoch_loss_avg.result(),epoch_accuracy.result() ))"
      ],
      "execution_count": 29,
      "outputs": [
        {
          "output_type": "stream",
          "text": [
            "epoch 000 : 손실 : 1.158, 정확도 : 17.500%\n",
            "epoch 050 : 손실 : 0.072, 정확도 : 98.333%\n",
            "epoch 100 : 손실 : 0.073, 정확도 : 96.667%\n",
            "epoch 150 : 손실 : 0.053, 정확도 : 97.500%\n",
            "epoch 200 : 손실 : 0.047, 정확도 : 97.500%\n"
          ],
          "name": "stdout"
        }
      ]
    },
    {
      "cell_type": "code",
      "metadata": {
        "id": "XG9n0PDsUUl0",
        "outputId": "30f93d19-27fc-4cf2-9bb8-4321202c78db",
        "colab": {
          "base_uri": "https://localhost:8080/",
          "height": 1000
        }
      },
      "source": [
        "fig, axes = plt.subplots(2, sharex=True, figsize=(12, 8))\n",
        "fig.suptitle('훈련 지표')\n",
        "\n",
        "axes[0].set_ylabel(\"손실\", fontsize=14)\n",
        "axes[0].plot(train_loss_results)\n",
        "\n",
        "axes[1].set_ylabel(\"정확도\", fontsize=14)\n",
        "axes[1].set_xlabel(\"에포크\", fontsize=14)\n",
        "axes[1].plot(train_accuracy_results)\n",
        "plt.show()"
      ],
      "execution_count": 30,
      "outputs": [
        {
          "output_type": "stream",
          "text": [
            "/usr/local/lib/python3.7/dist-packages/matplotlib/backends/backend_agg.py:214: RuntimeWarning: Glyph 49552 missing from current font.\n",
            "  font.set_text(s, 0.0, flags=flags)\n",
            "/usr/local/lib/python3.7/dist-packages/matplotlib/backends/backend_agg.py:214: RuntimeWarning: Glyph 49892 missing from current font.\n",
            "  font.set_text(s, 0.0, flags=flags)\n",
            "/usr/local/lib/python3.7/dist-packages/matplotlib/backends/backend_agg.py:214: RuntimeWarning: Glyph 50640 missing from current font.\n",
            "  font.set_text(s, 0.0, flags=flags)\n",
            "/usr/local/lib/python3.7/dist-packages/matplotlib/backends/backend_agg.py:214: RuntimeWarning: Glyph 54252 missing from current font.\n",
            "  font.set_text(s, 0.0, flags=flags)\n",
            "/usr/local/lib/python3.7/dist-packages/matplotlib/backends/backend_agg.py:214: RuntimeWarning: Glyph 53356 missing from current font.\n",
            "  font.set_text(s, 0.0, flags=flags)\n",
            "/usr/local/lib/python3.7/dist-packages/matplotlib/backends/backend_agg.py:214: RuntimeWarning: Glyph 51221 missing from current font.\n",
            "  font.set_text(s, 0.0, flags=flags)\n",
            "/usr/local/lib/python3.7/dist-packages/matplotlib/backends/backend_agg.py:214: RuntimeWarning: Glyph 54869 missing from current font.\n",
            "  font.set_text(s, 0.0, flags=flags)\n",
            "/usr/local/lib/python3.7/dist-packages/matplotlib/backends/backend_agg.py:214: RuntimeWarning: Glyph 46020 missing from current font.\n",
            "  font.set_text(s, 0.0, flags=flags)\n",
            "/usr/local/lib/python3.7/dist-packages/matplotlib/backends/backend_agg.py:214: RuntimeWarning: Glyph 54984 missing from current font.\n",
            "  font.set_text(s, 0.0, flags=flags)\n",
            "/usr/local/lib/python3.7/dist-packages/matplotlib/backends/backend_agg.py:214: RuntimeWarning: Glyph 47144 missing from current font.\n",
            "  font.set_text(s, 0.0, flags=flags)\n",
            "/usr/local/lib/python3.7/dist-packages/matplotlib/backends/backend_agg.py:214: RuntimeWarning: Glyph 51648 missing from current font.\n",
            "  font.set_text(s, 0.0, flags=flags)\n",
            "/usr/local/lib/python3.7/dist-packages/matplotlib/backends/backend_agg.py:214: RuntimeWarning: Glyph 54364 missing from current font.\n",
            "  font.set_text(s, 0.0, flags=flags)\n",
            "/usr/local/lib/python3.7/dist-packages/matplotlib/backends/backend_agg.py:183: RuntimeWarning: Glyph 49552 missing from current font.\n",
            "  font.set_text(s, 0, flags=flags)\n",
            "/usr/local/lib/python3.7/dist-packages/matplotlib/backends/backend_agg.py:183: RuntimeWarning: Glyph 49892 missing from current font.\n",
            "  font.set_text(s, 0, flags=flags)\n",
            "/usr/local/lib/python3.7/dist-packages/matplotlib/backends/backend_agg.py:183: RuntimeWarning: Glyph 50640 missing from current font.\n",
            "  font.set_text(s, 0, flags=flags)\n",
            "/usr/local/lib/python3.7/dist-packages/matplotlib/backends/backend_agg.py:183: RuntimeWarning: Glyph 54252 missing from current font.\n",
            "  font.set_text(s, 0, flags=flags)\n",
            "/usr/local/lib/python3.7/dist-packages/matplotlib/backends/backend_agg.py:183: RuntimeWarning: Glyph 53356 missing from current font.\n",
            "  font.set_text(s, 0, flags=flags)\n",
            "/usr/local/lib/python3.7/dist-packages/matplotlib/backends/backend_agg.py:183: RuntimeWarning: Glyph 51221 missing from current font.\n",
            "  font.set_text(s, 0, flags=flags)\n",
            "/usr/local/lib/python3.7/dist-packages/matplotlib/backends/backend_agg.py:183: RuntimeWarning: Glyph 54869 missing from current font.\n",
            "  font.set_text(s, 0, flags=flags)\n",
            "/usr/local/lib/python3.7/dist-packages/matplotlib/backends/backend_agg.py:183: RuntimeWarning: Glyph 46020 missing from current font.\n",
            "  font.set_text(s, 0, flags=flags)\n",
            "/usr/local/lib/python3.7/dist-packages/matplotlib/backends/backend_agg.py:183: RuntimeWarning: Glyph 54984 missing from current font.\n",
            "  font.set_text(s, 0, flags=flags)\n",
            "/usr/local/lib/python3.7/dist-packages/matplotlib/backends/backend_agg.py:183: RuntimeWarning: Glyph 47144 missing from current font.\n",
            "  font.set_text(s, 0, flags=flags)\n",
            "/usr/local/lib/python3.7/dist-packages/matplotlib/backends/backend_agg.py:183: RuntimeWarning: Glyph 51648 missing from current font.\n",
            "  font.set_text(s, 0, flags=flags)\n",
            "/usr/local/lib/python3.7/dist-packages/matplotlib/backends/backend_agg.py:183: RuntimeWarning: Glyph 54364 missing from current font.\n",
            "  font.set_text(s, 0, flags=flags)\n"
          ],
          "name": "stderr"
        },
        {
          "output_type": "display_data",
          "data": {
            "image/png": "[encoded data removed]",
            "text/plain": [
              "<Figure size 864x576 with 2 Axes>"
            ]
          },
          "metadata": {
            "needs_background": "light"
          }
        }
      ]
    },
    {
      "cell_type": "code",
      "metadata": {
        "id": "-DeOYOMgUmz8"
      },
      "source": [
        ""
      ],
      "execution_count": null,
      "outputs": []
    }
  ]
}