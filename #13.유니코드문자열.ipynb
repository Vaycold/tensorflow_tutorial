{
  "nbformat": 4,
  "nbformat_minor": 0,
  "metadata": {
    "colab": {
      "name": "유니코드문자열.ipynb",
      "provenance": [],
      "authorship_tag": "ABX9TyOYfy5SaJz4iMYX6p/TsGRP",
      "include_colab_link": true
    },
    "kernelspec": {
      "name": "python3",
      "display_name": "Python 3"
    },
    "language_info": {
      "name": "python"
    }
  },
  "cells": [
    {
      "cell_type": "markdown",
      "metadata": {
        "id": "view-in-github",
        "colab_type": "text"
      },
      "source": [
        "<a href=\"https://colab.research.google.com/github/Vaycold/tensorflow_tutorial/blob/main/%2313.%EC%9C%A0%EB%8B%88%EC%BD%94%EB%93%9C%EB%AC%B8%EC%9E%90%EC%97%B4.ipynb\" target=\"_parent\"><img src=\"https://colab.research.google.com/assets/colab-badge.svg\" alt=\"Open In Colab\"/></a>"
      ]
    },
    {
      "cell_type": "markdown",
      "metadata": {
        "id": "mWIyt20akOQ1"
      },
      "source": [
        "    유니코드 : 표준 인코딩시스템\n",
        "\n",
        "    텐서플로에서 유니코드 문자열을 표현 -> 유니코드 문자열 조작 "
      ]
    },
    {
      "cell_type": "code",
      "metadata": {
        "id": "8OihY-kpi7XC"
      },
      "source": [
        "import tensorflow as tf"
      ],
      "execution_count": 2,
      "outputs": []
    },
    {
      "cell_type": "code",
      "metadata": {
        "id": "fDJABUaGj2ik",
        "colab": {
          "base_uri": "https://localhost:8080/"
        },
        "outputId": "b1d2e3e4-c23d-4eae-f5ed-f203fdf9e75f"
      },
      "source": [
        "# 텐서플로의 기본 tf.string dtype은 바이트 문자열, 유니코드 문자열은 기본적으로 utf-8로 인코딩\n",
        "tf.constant(u\"Thanks 😊\")"
      ],
      "execution_count": 3,
      "outputs": [
        {
          "output_type": "execute_result",
          "data": {
            "text/plain": [
              "<tf.Tensor: shape=(), dtype=string, numpy=b'Thanks \\xf0\\x9f\\x98\\x8a'>"
            ]
          },
          "metadata": {
            "tags": []
          },
          "execution_count": 3
        }
      ]
    },
    {
      "cell_type": "code",
      "metadata": {
        "colab": {
          "base_uri": "https://localhost:8080/"
        },
        "id": "ZqFY_eDUlcHN",
        "outputId": "945ee663-fecb-468e-ffec-e73637f48e40"
      },
      "source": [
        "tf.constant([u'You re', u'welcome']).shape"
      ],
      "execution_count": 5,
      "outputs": [
        {
          "output_type": "execute_result",
          "data": {
            "text/plain": [
              "TensorShape([2])"
            ]
          },
          "metadata": {
            "tags": []
          },
          "execution_count": 5
        }
      ]
    },
    {
      "cell_type": "code",
      "metadata": {
        "id": "e8DHDPYClmM1"
      },
      "source": [
        "# 유니코드 표현\n",
        "\n",
        "# 1. string 스칼라 - 코드 포인트의 시퀀스가 알려진 문자 인코딩을 사용해 인코딩\n",
        "# 2. int32 벡터 - 위치마다 개별 코드 포인터를 포함"
      ],
      "execution_count": 6,
      "outputs": []
    },
    {
      "cell_type": "code",
      "metadata": {
        "colab": {
          "base_uri": "https://localhost:8080/"
        },
        "id": "Qs7dk5VlymCd",
        "outputId": "5c5aefca-2c7f-4dbc-9483-f3b2d65a3e14"
      },
      "source": [
        "# ex) 语言处理\n",
        "\n",
        "# 1. UTF-8로 인코딩된 string 스칼라로 표현한 유니코드 문자열\n",
        "\n",
        "text_utf8 = tf.constant(u'语言处理')\n",
        "print('[#1]','\\n',text_utf8)\n",
        "\n",
        "#2. UTF-16-BE로 인코딩된 string 스칼라로 표현한 유니코드 문자열\n",
        "text_utf16be = tf.constant(u'语言处理'.encode('UTF-16-BE'))\n",
        "print('[#2]','\\n',text_utf16be)\n",
        "\n",
        "#3. 유니코드 코드 포인트의 벡터로 표현한 유니코드 문자열\n",
        "text_chars = tf.constant([ord(char) for char in u\"语言处理\"])\n",
        "print('[#3]','\\n',text_chars)"
      ],
      "execution_count": 12,
      "outputs": [
        {
          "output_type": "stream",
          "text": [
            "[#1] \n",
            " tf.Tensor(b'\\xe8\\xaf\\xad\\xe8\\xa8\\x80\\xe5\\xa4\\x84\\xe7\\x90\\x86', shape=(), dtype=string)\n",
            "[#2] \n",
            " tf.Tensor(b'\\x8b\\xed\\x8a\\x00Y\\x04t\\x06', shape=(), dtype=string)\n",
            "[#3] \n",
            " tf.Tensor([35821 35328 22788 29702], shape=(4,), dtype=int32)\n"
          ],
          "name": "stdout"
        }
      ]
    },
    {
      "cell_type": "code",
      "metadata": {
        "colab": {
          "base_uri": "https://localhost:8080/"
        },
        "id": "VF8qcwPzyzIH",
        "outputId": "a50d490d-19b9-438d-8847-a7681d01f800"
      },
      "source": [
        "# 표현간 변환\n",
        "\n",
        "tf.strings.unicode_decode(text_utf8, input_encoding='UTF-8')"
      ],
      "execution_count": 13,
      "outputs": [
        {
          "output_type": "execute_result",
          "data": {
            "text/plain": [
              "<tf.Tensor: shape=(4,), dtype=int32, numpy=array([35821, 35328, 22788, 29702], dtype=int32)>"
            ]
          },
          "metadata": {
            "tags": []
          },
          "execution_count": 13
        }
      ]
    },
    {
      "cell_type": "code",
      "metadata": {
        "colab": {
          "base_uri": "https://localhost:8080/"
        },
        "id": "ujoePKIy01Az",
        "outputId": "b7c84ed6-8d1f-4383-e691-0ecbe09615bb"
      },
      "source": [
        "# 다른 인코딩으로 변환\n",
        "tf.strings.unicode_transcode(text_utf8,\n",
        "                             input_encoding = 'UTF-8',\n",
        "                             output_encoding = 'UTF-16-BE')"
      ],
      "execution_count": 14,
      "outputs": [
        {
          "output_type": "execute_result",
          "data": {
            "text/plain": [
              "<tf.Tensor: shape=(), dtype=string, numpy=b'\\x8b\\xed\\x8a\\x00Y\\x04t\\x06'>"
            ]
          },
          "metadata": {
            "tags": []
          },
          "execution_count": 14
        }
      ]
    },
    {
      "cell_type": "code",
      "metadata": {
        "colab": {
          "base_uri": "https://localhost:8080/"
        },
        "id": "N9JyxNTC1GvI",
        "outputId": "653aa77e-6a4d-45b2-e962-7be52dc52587"
      },
      "source": [
        "# 배치 차원\n",
        "# 여러 개의 문자열을 디코딩 시 문자열마다 포함된 문자의 개수는 동일하지 않음.\n",
        "# 반환되는 값은 tf.RaggedTensor로 가장 안쪽 차원의 크기가 문자열에 포함된 문자의 개수에 따라 결정\n",
        "\n",
        "batch_utf8 = [s.encode('UTF-8') for s in [u'hÃllo',  u'What is the weather tomorrow',  u'Göödnight', u'😊']]\n",
        "batch_utf8"
      ],
      "execution_count": 16,
      "outputs": [
        {
          "output_type": "execute_result",
          "data": {
            "text/plain": [
              "[b'h\\xc3\\x83llo',\n",
              " b'What is the weather tomorrow',\n",
              " b'G\\xc3\\xb6\\xc3\\xb6dnight',\n",
              " b'\\xf0\\x9f\\x98\\x8a']"
            ]
          },
          "metadata": {
            "tags": []
          },
          "execution_count": 16
        }
      ]
    },
    {
      "cell_type": "code",
      "metadata": {
        "colab": {
          "base_uri": "https://localhost:8080/"
        },
        "id": "N8HW1eQz1loz",
        "outputId": "55f190e6-1b3c-4223-957e-56d920ecb3f9"
      },
      "source": [
        "batch_chars_ragged = tf.strings.unicode_decode(batch_utf8,\n",
        "                                               input_encoding = 'UTF-8')\n",
        "batch_chars_ragged.to_list()[:2]"
      ],
      "execution_count": 20,
      "outputs": [
        {
          "output_type": "execute_result",
          "data": {
            "text/plain": [
              "[[104, 195, 108, 108, 111],\n",
              " [87,\n",
              "  104,\n",
              "  97,\n",
              "  116,\n",
              "  32,\n",
              "  105,\n",
              "  115,\n",
              "  32,\n",
              "  116,\n",
              "  104,\n",
              "  101,\n",
              "  32,\n",
              "  119,\n",
              "  101,\n",
              "  97,\n",
              "  116,\n",
              "  104,\n",
              "  101,\n",
              "  114,\n",
              "  32,\n",
              "  116,\n",
              "  111,\n",
              "  109,\n",
              "  111,\n",
              "  114,\n",
              "  114,\n",
              "  111,\n",
              "  119]]"
            ]
          },
          "metadata": {
            "tags": []
          },
          "execution_count": 20
        }
      ]
    },
    {
      "cell_type": "code",
      "metadata": {
        "colab": {
          "base_uri": "https://localhost:8080/"
        },
        "id": "ARcQZxZm1_Pm",
        "outputId": "3f7a1660-8222-4d14-d13e-1289d23ce793"
      },
      "source": [
        "for sentence_chars in batch_chars_ragged.to_list() :\n",
        "    print(sentence_chars)"
      ],
      "execution_count": 22,
      "outputs": [
        {
          "output_type": "stream",
          "text": [
            "[104, 195, 108, 108, 111]\n",
            "[87, 104, 97, 116, 32, 105, 115, 32, 116, 104, 101, 32, 119, 101, 97, 116, 104, 101, 114, 32, 116, 111, 109, 111, 114, 114, 111, 119]\n",
            "[71, 246, 246, 100, 110, 105, 103, 104, 116]\n",
            "[128522]\n"
          ],
          "name": "stdout"
        }
      ]
    },
    {
      "cell_type": "code",
      "metadata": {
        "colab": {
          "base_uri": "https://localhost:8080/"
        },
        "id": "b0qYoZbo1-gX",
        "outputId": "6868f130-ff39-4960-bf65-f586ae3f6b22"
      },
      "source": [
        "# tf.RaggedTensor 바로 사용 or 패딩사용하여 tf.Tensor로 변환\n",
        "# or tf.RaggedTensor.to_tensor와 tf.RaggedTensor.to_sparse 메서드를 사용해 tf.SparseTensor로 변환 가능\n",
        "\n",
        "batch_chars_padded = batch_chars_ragged.to_tensor(default_value=-1)\n",
        "print(batch_chars_padded.numpy())"
      ],
      "execution_count": 24,
      "outputs": [
        {
          "output_type": "stream",
          "text": [
            "[[   104    195    108    108    111     -1     -1     -1     -1     -1\n",
            "      -1     -1     -1     -1     -1     -1     -1     -1     -1     -1\n",
            "      -1     -1     -1     -1     -1     -1     -1     -1]\n",
            " [    87    104     97    116     32    105    115     32    116    104\n",
            "     101     32    119    101     97    116    104    101    114     32\n",
            "     116    111    109    111    114    114    111    119]\n",
            " [    71    246    246    100    110    105    103    104    116     -1\n",
            "      -1     -1     -1     -1     -1     -1     -1     -1     -1     -1\n",
            "      -1     -1     -1     -1     -1     -1     -1     -1]\n",
            " [128522     -1     -1     -1     -1     -1     -1     -1     -1     -1\n",
            "      -1     -1     -1     -1     -1     -1     -1     -1     -1     -1\n",
            "      -1     -1     -1     -1     -1     -1     -1     -1]]\n"
          ],
          "name": "stdout"
        }
      ]
    },
    {
      "cell_type": "code",
      "metadata": {
        "id": "v5CDail22n9i"
      },
      "source": [
        "batch_chars_sparse = batch_chars_ragged.to_sparse()"
      ],
      "execution_count": 27,
      "outputs": []
    },
    {
      "cell_type": "code",
      "metadata": {
        "id": "NmaI5CPp2p8g",
        "colab": {
          "base_uri": "https://localhost:8080/"
        },
        "outputId": "b5a683c8-3988-4203-c619-d2bb9b30cb6b"
      },
      "source": [
        "# 길이가 같은 여러 문자열을 인코딩 시 tf.Tensor입력으로 사용\n",
        "\n",
        "tf.strings.unicode_encode([\n",
        "                           [99 , 97 , 116],\n",
        "                           [100 , 111 , 103],\n",
        "                           [99 , 111 , 119]\n",
        "], output_encoding='UTF-8')"
      ],
      "execution_count": 28,
      "outputs": [
        {
          "output_type": "execute_result",
          "data": {
            "text/plain": [
              "<tf.Tensor: shape=(3,), dtype=string, numpy=array([b'cat', b'dog', b'cow'], dtype=object)>"
            ]
          },
          "metadata": {
            "tags": []
          },
          "execution_count": 28
        }
      ]
    },
    {
      "cell_type": "code",
      "metadata": {
        "colab": {
          "base_uri": "https://localhost:8080/"
        },
        "id": "tbn3FhhP3YLJ",
        "outputId": "2e0217af-2695-499e-8e02-4c7a54eee2cc"
      },
      "source": [
        "# 길이가 다른 여러 문자열을 인코딩 시 tf.RaggedTensor를 입력으로 사용\n",
        "\n",
        "tf.strings.unicode_encode(batch_chars_ragged,\n",
        "                          output_encoding='UTF-8')"
      ],
      "execution_count": 29,
      "outputs": [
        {
          "output_type": "execute_result",
          "data": {
            "text/plain": [
              "<tf.Tensor: shape=(4,), dtype=string, numpy=\n",
              "array([b'h\\xc3\\x83llo', b'What is the weather tomorrow',\n",
              "       b'G\\xc3\\xb6\\xc3\\xb6dnight', b'\\xf0\\x9f\\x98\\x8a'], dtype=object)>"
            ]
          },
          "metadata": {
            "tags": []
          },
          "execution_count": 29
        }
      ]
    },
    {
      "cell_type": "code",
      "metadata": {
        "colab": {
          "base_uri": "https://localhost:8080/"
        },
        "id": "IcRbm8Sw3mk5",
        "outputId": "19110a39-f87c-490b-f53b-3e5ee57303f6"
      },
      "source": [
        "# 패딩된 텐서나 희소(Sparse) 텐서는 unicode_encode를 호출하기 전 tf.RaggedTensor로 바꿈\n",
        "\n",
        "# 희소 텐서\n",
        "tf.strings.unicode_encode(\n",
        "    tf.RaggedTensor.from_sparse(batch_chars_sparse),\n",
        "    output_encoding='UTF-8'\n",
        ")"
      ],
      "execution_count": 30,
      "outputs": [
        {
          "output_type": "execute_result",
          "data": {
            "text/plain": [
              "<tf.Tensor: shape=(4,), dtype=string, numpy=\n",
              "array([b'h\\xc3\\x83llo', b'What is the weather tomorrow',\n",
              "       b'G\\xc3\\xb6\\xc3\\xb6dnight', b'\\xf0\\x9f\\x98\\x8a'], dtype=object)>"
            ]
          },
          "metadata": {
            "tags": []
          },
          "execution_count": 30
        }
      ]
    },
    {
      "cell_type": "code",
      "metadata": {
        "colab": {
          "base_uri": "https://localhost:8080/"
        },
        "id": "dcomR8au36Du",
        "outputId": "0839226f-1c00-4fc8-ae24-c8a6519db55c"
      },
      "source": [
        "# 패딩 텐서\n",
        "tf.strings.unicode_encode(\n",
        "    tf.RaggedTensor.from_tensor(batch_chars_padded, padding=1),\n",
        "    output_encoding = 'UTF-8'\n",
        ")"
      ],
      "execution_count": 31,
      "outputs": [
        {
          "output_type": "execute_result",
          "data": {
            "text/plain": [
              "<tf.Tensor: shape=(4,), dtype=string, numpy=\n",
              "array([b'h\\xc3\\x83llo\\xef\\xbf\\xbd\\xef\\xbf\\xbd\\xef\\xbf\\xbd\\xef\\xbf\\xbd\\xef\\xbf\\xbd\\xef\\xbf\\xbd\\xef\\xbf\\xbd\\xef\\xbf\\xbd\\xef\\xbf\\xbd\\xef\\xbf\\xbd\\xef\\xbf\\xbd\\xef\\xbf\\xbd\\xef\\xbf\\xbd\\xef\\xbf\\xbd\\xef\\xbf\\xbd\\xef\\xbf\\xbd\\xef\\xbf\\xbd\\xef\\xbf\\xbd\\xef\\xbf\\xbd\\xef\\xbf\\xbd\\xef\\xbf\\xbd\\xef\\xbf\\xbd\\xef\\xbf\\xbd',\n",
              "       b'What is the weather tomorrow',\n",
              "       b'G\\xc3\\xb6\\xc3\\xb6dnight\\xef\\xbf\\xbd\\xef\\xbf\\xbd\\xef\\xbf\\xbd\\xef\\xbf\\xbd\\xef\\xbf\\xbd\\xef\\xbf\\xbd\\xef\\xbf\\xbd\\xef\\xbf\\xbd\\xef\\xbf\\xbd\\xef\\xbf\\xbd\\xef\\xbf\\xbd\\xef\\xbf\\xbd\\xef\\xbf\\xbd\\xef\\xbf\\xbd\\xef\\xbf\\xbd\\xef\\xbf\\xbd\\xef\\xbf\\xbd\\xef\\xbf\\xbd\\xef\\xbf\\xbd',\n",
              "       b'\\xf0\\x9f\\x98\\x8a\\xef\\xbf\\xbd\\xef\\xbf\\xbd\\xef\\xbf\\xbd\\xef\\xbf\\xbd\\xef\\xbf\\xbd\\xef\\xbf\\xbd\\xef\\xbf\\xbd\\xef\\xbf\\xbd\\xef\\xbf\\xbd\\xef\\xbf\\xbd\\xef\\xbf\\xbd\\xef\\xbf\\xbd\\xef\\xbf\\xbd\\xef\\xbf\\xbd\\xef\\xbf\\xbd\\xef\\xbf\\xbd\\xef\\xbf\\xbd\\xef\\xbf\\xbd\\xef\\xbf\\xbd\\xef\\xbf\\xbd\\xef\\xbf\\xbd\\xef\\xbf\\xbd\\xef\\xbf\\xbd\\xef\\xbf\\xbd\\xef\\xbf\\xbd\\xef\\xbf\\xbd\\xef\\xbf\\xbd'],\n",
              "      dtype=object)>"
            ]
          },
          "metadata": {
            "tags": []
          },
          "execution_count": 31
        }
      ]
    },
    {
      "cell_type": "code",
      "metadata": {
        "colab": {
          "base_uri": "https://localhost:8080/"
        },
        "id": "l7KnwjG-4Jke",
        "outputId": "dc2febe4-0449-4f28-e52c-d514a1758a6a"
      },
      "source": [
        "# 유니코드 연산\n",
        "# [길이]\n",
        "# tf.strings.length  : 계산해야 할 길이를 나타내는 unit인자를 요구 \n",
        "# 기본 단위 : byte, string에 포함된 유니코드 코드 포인트의 수를 파악하기 위해 'UTF8_CHAR' Or 'UTF16_CHAR 설정가능\n",
        "\n",
        "# UTF8에서 마지막 문자는 4바이트를 차지합니다.\n",
        "thanks = u'Thanks 😊'.encode('UTF-8')\n",
        "\n",
        "num_bytes = tf.strings.length(thanks).numpy()\n",
        "num_chars = tf.strings.length(thanks, unit='UTF8_CHAR').numpy()\n",
        "print('{} 바이트; {}개의 UTF-8 문자'.format(num_bytes, num_chars))"
      ],
      "execution_count": 36,
      "outputs": [
        {
          "output_type": "stream",
          "text": [
            "11 바이트; 8개의 UTF-8 문자\n"
          ],
          "name": "stdout"
        }
      ]
    },
    {
      "cell_type": "code",
      "metadata": {
        "colab": {
          "base_uri": "https://localhost:8080/"
        },
        "id": "GDe1fvUB4xEO",
        "outputId": "aacfe643-3a09-4f3b-ec7b-fb83e51c23a4"
      },
      "source": [
        "# 부분문자열\n",
        "# tf.strings.substr : unit 매개 변수 값을 사용해 pos, len 매개 변수로 지정된 문자열 종류 결정\n",
        "tf.strings.substr(thanks, pos=7, len=1).numpy()"
      ],
      "execution_count": 38,
      "outputs": [
        {
          "output_type": "execute_result",
          "data": {
            "text/plain": [
              "b'\\xf0'"
            ]
          },
          "metadata": {
            "tags": []
          },
          "execution_count": 38
        }
      ]
    },
    {
      "cell_type": "code",
      "metadata": {
        "colab": {
          "base_uri": "https://localhost:8080/"
        },
        "id": "TKkXVVVV6Ina",
        "outputId": "49be1fdd-ab15-45c5-fb6a-006f2add7241"
      },
      "source": [
        "print(tf.strings.substr(thanks, pos=7, len=1, unit='UTF8_CHAR').numpy())"
      ],
      "execution_count": 39,
      "outputs": [
        {
          "output_type": "stream",
          "text": [
            "b'\\xf0\\x9f\\x98\\x8a'\n"
          ],
          "name": "stdout"
        }
      ]
    },
    {
      "cell_type": "code",
      "metadata": {
        "id": "LZKOmQZj6M-F"
      },
      "source": [
        ""
      ],
      "execution_count": null,
      "outputs": []
    }
  ]
}