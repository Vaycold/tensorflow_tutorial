{
  "nbformat": 4,
  "nbformat_minor": 0,
  "metadata": {
    "colab": {
      "name": "#15맞춤레이어.ipynb",
      "provenance": [],
      "authorship_tag": "ABX9TyOc50I8HSFOp6NVLlRZo8sD",
      "include_colab_link": true
    },
    "kernelspec": {
      "name": "python3",
      "display_name": "Python 3"
    },
    "language_info": {
      "name": "python"
    }
  },
  "cells": [
    {
      "cell_type": "markdown",
      "metadata": {
        "id": "view-in-github",
        "colab_type": "text"
      },
      "source": [
        "<a href=\"https://colab.research.google.com/github/Vaycold/tensorflow_tutorial/blob/main/%2315.%EB%A7%9E%EC%B6%A4%EB%A0%88%EC%9D%B4%EC%96%B4.ipynb\" target=\"_parent\"><img src=\"https://colab.research.google.com/assets/colab-badge.svg\" alt=\"Open In Colab\"/></a>"
      ]
    },
    {
      "cell_type": "code",
      "metadata": {
        "id": "-tl2kX6cSLCK"
      },
      "source": [
        "# 층 유용한 연산자 집합\n",
        "'''\n",
        "tf.keras.layers 패키지에서 층 = 객체\n",
        "대부분의 layer는 첫 번째 인수로 출력차원 또는 채널을 가짐\n",
        "\n",
        "'''\n",
        "import tensorflow as tf\n",
        "\n",
        "layer = tf.keras.layers.Dense(100) # 첫 번째 인수 = 출력차원\n",
        "layer = tf.keras.layers.Dense(10, input_shape = (None, 5))"
      ],
      "execution_count": 4,
      "outputs": []
    },
    {
      "cell_type": "code",
      "metadata": {
        "colab": {
          "base_uri": "https://localhost:8080/"
        },
        "id": "lxSns4FYSnrx",
        "outputId": "5cfe8462-6a13-40d9-ee02-e54f3a07cc4a"
      },
      "source": [
        "# 층을 사용하려면 간단하게 호출\n",
        "print(tf.zeros([10,5]))\n",
        "print(layer(tf.zeros([10,5])))\n",
        "'''\n",
        "shape 을 보면 (10,10)임을 알 수 있음. layer는 객체로 출력차원이 10임. \n",
        "\n",
        "input으로 (10,5)가 들어가서 output은 (10,10)으로 나오게 된것임.\n",
        "'''\n",
        "pass"
      ],
      "execution_count": 16,
      "outputs": [
        {
          "output_type": "stream",
          "text": [
            "tf.Tensor(\n",
            "[[0. 0. 0. 0. 0.]\n",
            " [0. 0. 0. 0. 0.]\n",
            " [0. 0. 0. 0. 0.]\n",
            " [0. 0. 0. 0. 0.]\n",
            " [0. 0. 0. 0. 0.]\n",
            " [0. 0. 0. 0. 0.]\n",
            " [0. 0. 0. 0. 0.]\n",
            " [0. 0. 0. 0. 0.]\n",
            " [0. 0. 0. 0. 0.]\n",
            " [0. 0. 0. 0. 0.]], shape=(10, 5), dtype=float32)\n",
            "tf.Tensor(\n",
            "[[0. 0. 0. 0. 0. 0. 0. 0. 0. 0.]\n",
            " [0. 0. 0. 0. 0. 0. 0. 0. 0. 0.]\n",
            " [0. 0. 0. 0. 0. 0. 0. 0. 0. 0.]\n",
            " [0. 0. 0. 0. 0. 0. 0. 0. 0. 0.]\n",
            " [0. 0. 0. 0. 0. 0. 0. 0. 0. 0.]\n",
            " [0. 0. 0. 0. 0. 0. 0. 0. 0. 0.]\n",
            " [0. 0. 0. 0. 0. 0. 0. 0. 0. 0.]\n",
            " [0. 0. 0. 0. 0. 0. 0. 0. 0. 0.]\n",
            " [0. 0. 0. 0. 0. 0. 0. 0. 0. 0.]\n",
            " [0. 0. 0. 0. 0. 0. 0. 0. 0. 0.]], shape=(10, 10), dtype=float32)\n"
          ],
          "name": "stdout"
        }
      ]
    },
    {
      "cell_type": "code",
      "metadata": {
        "colab": {
          "base_uri": "https://localhost:8080/"
        },
        "id": "M_zCu9xaS-aO",
        "outputId": "7b50e417-fcc5-4d56-85a5-070dbdb1bc65"
      },
      "source": [
        "print(layer(tf.zeros([3,5])))\n",
        "'''\n",
        "input으로(3,5)가 들어가면\n",
        "output은 (3,10)으로 나오게 됨.\n",
        "'''\n",
        "pass"
      ],
      "execution_count": 19,
      "outputs": [
        {
          "output_type": "stream",
          "text": [
            "tf.Tensor(\n",
            "[[0. 0. 0. 0. 0. 0. 0. 0. 0. 0.]\n",
            " [0. 0. 0. 0. 0. 0. 0. 0. 0. 0.]\n",
            " [0. 0. 0. 0. 0. 0. 0. 0. 0. 0.]], shape=(3, 10), dtype=float32)\n"
          ],
          "name": "stdout"
        }
      ]
    },
    {
      "cell_type": "code",
      "metadata": {
        "colab": {
          "base_uri": "https://localhost:8080/"
        },
        "id": "k5cqwSBPTGhL",
        "outputId": "56e4df7b-91bd-462d-8d78-98202ca02fcf"
      },
      "source": [
        "''' \n",
        "layer 는 유용한 메서드를 많이 가지고 있음.\n",
        "예를 들어, layer.variables : 사용하여 층안에 있는 모든 변수를 확인할 수 있으며\n",
        "layer.trainable_variables를 사용하여 훈련 가능한 변수를 확인 가능\n",
        "전결합층은 가중치와 편향을 위한 변수를 가짐\n",
        "'''\n",
        "layer.variables"
      ],
      "execution_count": 20,
      "outputs": [
        {
          "output_type": "execute_result",
          "data": {
            "text/plain": [
              "[<tf.Variable 'dense_1/kernel:0' shape=(5, 10) dtype=float32, numpy=\n",
              " array([[ 0.13885689, -0.20110026, -0.15525854,  0.354782  , -0.10672539,\n",
              "          0.27789402,  0.03570175,  0.04746091, -0.19021085,  0.5472258 ],\n",
              "        [ 0.39179796,  0.5092067 , -0.53714234, -0.13051206, -0.08359736,\n",
              "          0.21843755,  0.00487202,  0.06907684,  0.4987505 ,  0.5849722 ],\n",
              "        [-0.28039876,  0.12176013,  0.42848903,  0.31001568, -0.10764474,\n",
              "         -0.09984124,  0.18813765,  0.18938738,  0.43532556, -0.06711006],\n",
              "        [ 0.05563277,  0.10312396,  0.22630197,  0.39554304, -0.27480704,\n",
              "         -0.47659504, -0.33824643,  0.2566579 , -0.38874966, -0.25512937],\n",
              "        [-0.15735888, -0.05412996,  0.59526235,  0.30768508, -0.17008185,\n",
              "         -0.46637696, -0.05657429,  0.50611895,  0.26037544,  0.15838486]],\n",
              "       dtype=float32)>,\n",
              " <tf.Variable 'dense_1/bias:0' shape=(10,) dtype=float32, numpy=array([0., 0., 0., 0., 0., 0., 0., 0., 0., 0.], dtype=float32)>]"
            ]
          },
          "metadata": {
            "tags": []
          },
          "execution_count": 20
        }
      ]
    },
    {
      "cell_type": "code",
      "metadata": {
        "colab": {
          "base_uri": "https://localhost:8080/"
        },
        "id": "Pg4VnycVURfT",
        "outputId": "e7cfdafc-f845-4193-a412-babbdbb4e193"
      },
      "source": [
        "# 객체의 속성을 통해 편리하게 접근 가능\n",
        "layer.kernel, layer.bias"
      ],
      "execution_count": 21,
      "outputs": [
        {
          "output_type": "execute_result",
          "data": {
            "text/plain": [
              "(<tf.Variable 'dense_1/kernel:0' shape=(5, 10) dtype=float32, numpy=\n",
              " array([[ 0.13885689, -0.20110026, -0.15525854,  0.354782  , -0.10672539,\n",
              "          0.27789402,  0.03570175,  0.04746091, -0.19021085,  0.5472258 ],\n",
              "        [ 0.39179796,  0.5092067 , -0.53714234, -0.13051206, -0.08359736,\n",
              "          0.21843755,  0.00487202,  0.06907684,  0.4987505 ,  0.5849722 ],\n",
              "        [-0.28039876,  0.12176013,  0.42848903,  0.31001568, -0.10764474,\n",
              "         -0.09984124,  0.18813765,  0.18938738,  0.43532556, -0.06711006],\n",
              "        [ 0.05563277,  0.10312396,  0.22630197,  0.39554304, -0.27480704,\n",
              "         -0.47659504, -0.33824643,  0.2566579 , -0.38874966, -0.25512937],\n",
              "        [-0.15735888, -0.05412996,  0.59526235,  0.30768508, -0.17008185,\n",
              "         -0.46637696, -0.05657429,  0.50611895,  0.26037544,  0.15838486]],\n",
              "       dtype=float32)>,\n",
              " <tf.Variable 'dense_1/bias:0' shape=(10,) dtype=float32, numpy=array([0., 0., 0., 0., 0., 0., 0., 0., 0., 0.], dtype=float32)>)"
            ]
          },
          "metadata": {
            "tags": []
          },
          "execution_count": 21
        }
      ]
    },
    {
      "cell_type": "markdown",
      "metadata": {
        "id": "CeoQOTHPU3vy"
      },
      "source": [
        "## 사용자 정의 층 구현\n",
        "    \n",
        "    사용자 정의 층을 구현하는 가장 좋은 방법은 tf.keras.Layer 클래스를 상송하고 다음과 같이 구현\n",
        "\n",
        "    - __init__ : 층에 필요한 매개 변수를 입력받는다.\n",
        "    - build, 입력 텐서의 크기를 얻고 남은 초기화 진행\n",
        "    - call, 정방향 연산을 진행할 수 있다.\n",
        "\n",
        "    "
      ]
    },
    {
      "cell_type": "code",
      "metadata": {
        "colab": {
          "base_uri": "https://localhost:8080/"
        },
        "id": "H1ju2ic6U0Kk",
        "outputId": "c7c0ede8-315b-4472-f544-b00da38c5757"
      },
      "source": [
        "# 변수를 생성하기 위해 build가 호출되길 기다릴 필요가 없음.\n",
        "# 또한 변수를 __init__에 생성 가능.\n",
        "# 그러나 변수를 생성하는 유리한 점은 층이 작동할 입력의 크기를 기준으로 나중에 변수를 만들 수 있다는 것\n",
        "# 반면에 __init__에 변수를 생성하는 것은 변수 생성에 필요한 크기가 명시적으로 지정되어야 함을 의미함.\n",
        "\n",
        "class MyDenseLayer(tf.keras.layers.Layer) :\n",
        "    def __init__(self, num_outputs) :\n",
        "        super(MyDenseLayer, self).__init__()\n",
        "        self.num_outputs = num_outputs\n",
        "    \n",
        "    def build(self, input_shape) :\n",
        "        self.kernel = self.add_variable('kernel' ,\n",
        "                                        shape = [int(input_shape[-1]),\n",
        "                                                 self.num_outputs])\n",
        "    \n",
        "    def call(self, input) :\n",
        "        return tf.matmul(input, self.kernel)\n",
        "\n",
        "\n",
        "layer = MyDenseLayer(10)\n",
        "print(layer(tf.zeros([10,5])))\n",
        "print(layer.trainable_variables)"
      ],
      "execution_count": 22,
      "outputs": [
        {
          "output_type": "stream",
          "text": [
            "tf.Tensor(\n",
            "[[0. 0. 0. 0. 0. 0. 0. 0. 0. 0.]\n",
            " [0. 0. 0. 0. 0. 0. 0. 0. 0. 0.]\n",
            " [0. 0. 0. 0. 0. 0. 0. 0. 0. 0.]\n",
            " [0. 0. 0. 0. 0. 0. 0. 0. 0. 0.]\n",
            " [0. 0. 0. 0. 0. 0. 0. 0. 0. 0.]\n",
            " [0. 0. 0. 0. 0. 0. 0. 0. 0. 0.]\n",
            " [0. 0. 0. 0. 0. 0. 0. 0. 0. 0.]\n",
            " [0. 0. 0. 0. 0. 0. 0. 0. 0. 0.]\n",
            " [0. 0. 0. 0. 0. 0. 0. 0. 0. 0.]\n",
            " [0. 0. 0. 0. 0. 0. 0. 0. 0. 0.]], shape=(10, 10), dtype=float32)\n",
            "[<tf.Variable 'my_dense_layer/kernel:0' shape=(5, 10) dtype=float32, numpy=\n",
            "array([[-0.4898984 , -0.24164188, -0.2931902 ,  0.30400658,  0.15894562,\n",
            "        -0.44418156, -0.20304376,  0.6261247 , -0.4352666 , -0.5857925 ],\n",
            "       [ 0.4695689 ,  0.28184497, -0.15932456, -0.061243  , -0.58519834,\n",
            "         0.29931223, -0.06109029,  0.44492048,  0.5924743 ,  0.23563594],\n",
            "       [-0.40538004,  0.01997775, -0.05343199, -0.41960716, -0.52288914,\n",
            "        -0.39451855, -0.1885635 , -0.1628342 ,  0.28503776,  0.39066154],\n",
            "       [ 0.42540413,  0.22433698, -0.15229735,  0.01007962,  0.42257077,\n",
            "        -0.48552793,  0.30263352, -0.47640368,  0.0630365 ,  0.28016877],\n",
            "       [-0.4405035 ,  0.40636557,  0.38086373, -0.29309657,  0.50420576,\n",
            "         0.29305285,  0.21572274, -0.32166883,  0.19365084, -0.5008073 ]],\n",
            "      dtype=float32)>]\n"
          ],
          "name": "stdout"
        },
        {
          "output_type": "stream",
          "text": [
            "/usr/local/lib/python3.7/dist-packages/tensorflow/python/keras/engine/base_layer.py:2191: UserWarning: `layer.add_variable` is deprecated and will be removed in a future version. Please use `layer.add_weight` method instead.\n",
            "  warnings.warn('`layer.add_variable` is deprecated and '\n"
          ],
          "name": "stderr"
        }
      ]
    },
    {
      "cell_type": "markdown",
      "metadata": {
        "id": "EVGyokX4WAUO"
      },
      "source": [
        "## 모델 층 구성\n",
        "\n",
        "    머신러닝 모델에서 재미있는 많은 것들은 기존의 층을 조합하여 구현\n",
        "\n",
        "    다른 층을 포함한 모델을 만들기 위해 사용하는 메인 클래스는 tf.keras.Model 상속하여 구현\n",
        "    "
      ]
    },
    {
      "cell_type": "code",
      "metadata": {
        "colab": {
          "base_uri": "https://localhost:8080/"
        },
        "id": "aKLSExEGV7OU",
        "outputId": "0f33249d-574a-4cd4-ccad-e1da2aa1352b"
      },
      "source": [
        "class ResnetIdentityBlock(tf.keras.Model) :\n",
        "    def __init__(self, kernel_size, filters) :\n",
        "        super(ResnetIdentityBlock, self).__init__(name='')\n",
        "        filters1, filters2, filters3 = filters\n",
        "\n",
        "        self.conv2a = tf.keras.layers.Conv2D(filters1, (1,1))\n",
        "        self.bn2a   = tf.keras.layers.BatchNormalization()\n",
        "\n",
        "        self.conv2b = tf.keras.layers.Conv2D(filters2, kernel_size, padding='same')\n",
        "        self.bn2b   = tf.keras.layers.BatchNormalization()\n",
        "\n",
        "        self.conv2c = tf.keras.layers.Conv2D(filters3, (1,1))\n",
        "        self.bn2c   = tf.keras.layers.BatchNormalization()\n",
        "    \n",
        "    def call(self, input_tensor, training = False) :\n",
        "        x = self.conv2a(input_tensor)\n",
        "        x = self.bn2a(x, training = training)\n",
        "        x = tf.nn.relu(x)\n",
        "\n",
        "        x = self.conv2b(x)\n",
        "        x = self.bn2b(x, training = training)\n",
        "        x = tf.nn.relu(x)\n",
        "\n",
        "        x = self.conv2c(x)\n",
        "        x = self.bn2c(x, training = training)\n",
        "\n",
        "        x += input_tensor\n",
        "        return tf.nn.relu(x)\n",
        "\n",
        "block = ResnetIdentityBlock(1, [1,2,3])\n",
        "print(block(tf.zeros([1,2,3,3])))"
      ],
      "execution_count": 25,
      "outputs": [
        {
          "output_type": "stream",
          "text": [
            "tf.Tensor(\n",
            "[[[[0. 0. 0.]\n",
            "   [0. 0. 0.]\n",
            "   [0. 0. 0.]]\n",
            "\n",
            "  [[0. 0. 0.]\n",
            "   [0. 0. 0.]\n",
            "   [0. 0. 0.]]]], shape=(1, 2, 3, 3), dtype=float32)\n"
          ],
          "name": "stdout"
        }
      ]
    },
    {
      "cell_type": "code",
      "metadata": {
        "colab": {
          "base_uri": "https://localhost:8080/"
        },
        "id": "TUr4iYiVXkRI",
        "outputId": "b92ca444-06ab-4450-de54-4a5b059225c8"
      },
      "source": [
        "# 그러나 대부분의 경우에 많은 층으로 구성된 모델은 단순하게 순서대로 층을 하나씩 호출\n",
        "my_seq = tf.keras.Sequential(\n",
        "    [\n",
        "     tf.keras.layers.Conv2D(1, (1,1), input_shape=(None, None, 3)),\n",
        "     tf.keras.layers.BatchNormalization(),\n",
        "     tf.keras.layers.Conv2D(2,1, padding='same'),\n",
        "     tf.keras.layers.BatchNormalization(),\n",
        "     tf.keras.layers.Conv2D(3, (1,1)),\n",
        "     tf.keras.layers.BatchNormalization()\n",
        "     ])\n",
        "\n",
        "my_seq(tf.zeros([1,2,3,3]))\n"
      ],
      "execution_count": 26,
      "outputs": [
        {
          "output_type": "execute_result",
          "data": {
            "text/plain": [
              "<tf.Tensor: shape=(1, 2, 3, 3), dtype=float32, numpy=\n",
              "array([[[[0., 0., 0.],\n",
              "         [0., 0., 0.],\n",
              "         [0., 0., 0.]],\n",
              "\n",
              "        [[0., 0., 0.],\n",
              "         [0., 0., 0.],\n",
              "         [0., 0., 0.]]]], dtype=float32)>"
            ]
          },
          "metadata": {
            "tags": []
          },
          "execution_count": 26
        }
      ]
    },
    {
      "cell_type": "code",
      "metadata": {
        "id": "Rw8gvP-7XgYz"
      },
      "source": [
        ""
      ],
      "execution_count": null,
      "outputs": []
    }
  ]
}