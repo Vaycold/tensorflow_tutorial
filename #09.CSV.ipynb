{
  "nbformat": 4,
  "nbformat_minor": 0,
  "metadata": {
    "colab": {
      "name": "CSV.ipynb",
      "provenance": [],
      "authorship_tag": "ABX9TyOqWF3ZtgPKyxUZtcBp1Dvs",
      "include_colab_link": true
    },
    "kernelspec": {
      "name": "python3",
      "display_name": "Python 3"
    },
    "language_info": {
      "name": "python"
    }
  },
  "cells": [
    {
      "cell_type": "markdown",
      "metadata": {
        "id": "view-in-github",
        "colab_type": "text"
      },
      "source": [
        "<a href=\"https://colab.research.google.com/github/Vaycold/tensorflow_tutorial/blob/main/%239.CSV.ipynb\" target=\"_parent\"><img src=\"https://colab.research.google.com/assets/colab-badge.svg\" alt=\"Open In Colab\"/></a>"
      ]
    },
    {
      "cell_type": "code",
      "metadata": {
        "id": "hkydQ2bFnJmI"
      },
      "source": [
        "# tf.data.Dataset로 csv 데이터 로드 "
      ],
      "execution_count": null,
      "outputs": []
    },
    {
      "cell_type": "code",
      "metadata": {
        "id": "cgPAbA4koRDE"
      },
      "source": [
        "import functools\n",
        "\n",
        "import numpy as np\n",
        "import tensorflow as tf"
      ],
      "execution_count": 1,
      "outputs": []
    },
    {
      "cell_type": "code",
      "metadata": {
        "colab": {
          "base_uri": "https://localhost:8080/"
        },
        "id": "VtiyIsZ2ojco",
        "outputId": "5853ae2f-4f73-468a-aa3d-50a3a4f600db"
      },
      "source": [
        "TRAIN_DATA_URL = \"https://storage.googleapis.com/tf-datasets/titanic/train.csv\"\n",
        "TEST_DATA_URL = \"https://storage.googleapis.com/tf-datasets/titanic/eval.csv\"\n",
        "\n",
        "train_file_path = tf.keras.utils.get_file('train_csv',TRAIN_DATA_URL)\n",
        "test_file_path = tf.keras.utils.get_file('eval_csv',TEST_DATA_URL)"
      ],
      "execution_count": 2,
      "outputs": [
        {
          "output_type": "stream",
          "text": [
            "Downloading data from https://storage.googleapis.com/tf-datasets/titanic/train.csv\n",
            "32768/30874 [===============================] - 0s 0us/step\n",
            "Downloading data from https://storage.googleapis.com/tf-datasets/titanic/eval.csv\n",
            "16384/13049 [=====================================] - 0s 0us/step\n"
          ],
          "name": "stdout"
        }
      ]
    },
    {
      "cell_type": "code",
      "metadata": {
        "id": "exVHI5s1riys"
      },
      "source": [
        "np.set_printoptions(precision=3, suppress=True)"
      ],
      "execution_count": 3,
      "outputs": []
    },
    {
      "cell_type": "code",
      "metadata": {
        "colab": {
          "base_uri": "https://localhost:8080/"
        },
        "id": "bqUAQlRgrYOI",
        "outputId": "3d277db5-f5f4-43fc-a66a-776817afb313"
      },
      "source": [
        "# Data load\n",
        "\n",
        "! head {train_file_path}"
      ],
      "execution_count": 4,
      "outputs": [
        {
          "output_type": "stream",
          "text": [
            "survived,sex,age,n_siblings_spouses,parch,fare,class,deck,embark_town,alone\n",
            "0,male,22.0,1,0,7.25,Third,unknown,Southampton,n\n",
            "1,female,38.0,1,0,71.2833,First,C,Cherbourg,n\n",
            "1,female,26.0,0,0,7.925,Third,unknown,Southampton,y\n",
            "1,female,35.0,1,0,53.1,First,C,Southampton,n\n",
            "0,male,28.0,0,0,8.4583,Third,unknown,Queenstown,y\n",
            "0,male,2.0,3,1,21.075,Third,unknown,Southampton,n\n",
            "1,female,27.0,0,2,11.1333,Third,unknown,Southampton,n\n",
            "1,female,14.0,1,0,30.0708,Second,unknown,Cherbourg,n\n",
            "1,female,4.0,1,1,16.7,Third,G,Southampton,n\n"
          ],
          "name": "stdout"
        }
      ]
    },
    {
      "cell_type": "code",
      "metadata": {
        "id": "fc5ukdjWrf1K"
      },
      "source": [
        "label_column = 'survived'\n",
        "labels = [0,1]\n",
        "\n",
        "# 데이터셋 작성\n",
        "\n",
        "def get_datasets(file_path, **kwargs) :\n",
        "    dataset = tf.data.experimental.make_csv_dataset(\n",
        "        file_path, \n",
        "        batch_size = 5,\n",
        "        label_name = label_column,\n",
        "        na_value = '?',\n",
        "        num_epochs = 1,\n",
        "        ignore_errors = True,\n",
        "        **kwargs\n",
        "    )\n",
        "    return dataset\n",
        "\n",
        "raw_train_data = get_datasets(train_file_path)\n",
        "raw_test_data = get_datasets(test_file_path)"
      ],
      "execution_count": 5,
      "outputs": []
    },
    {
      "cell_type": "code",
      "metadata": {
        "id": "JSYqf7QC3sEF"
      },
      "source": [
        "def show_batch(dataset) :\n",
        "    for batch, label in dataset.take(1) :\n",
        "        for key, value in batch.items() :\n",
        "            print('{:20s} : {} '.format(key,value.numpy()))"
      ],
      "execution_count": 6,
      "outputs": []
    },
    {
      "cell_type": "code",
      "metadata": {
        "colab": {
          "base_uri": "https://localhost:8080/"
        },
        "id": "3sh3RA8P4FXJ",
        "outputId": "327b2cf9-2cba-405b-9fed-ea58e23e6f11"
      },
      "source": [
        "show_batch(raw_train_data)"
      ],
      "execution_count": 7,
      "outputs": [
        {
          "output_type": "stream",
          "text": [
            "sex                  : [b'female' b'female' b'male' b'male' b'male'] \n",
            "age                  : [16. 25. 28. 22. 28.] \n",
            "n_siblings_spouses   : [0 1 0 0 0] \n",
            "parch                : [0 0 0 0 0] \n",
            "fare                 : [7.75  7.925 0.    7.796 7.896] \n",
            "class                : [b'Third' b'Third' b'Second' b'Third' b'Third'] \n",
            "deck                 : [b'unknown' b'unknown' b'unknown' b'unknown' b'unknown'] \n",
            "embark_town          : [b'Queenstown' b'Southampton' b'Southampton' b'Southampton' b'Southampton'] \n",
            "alone                : [b'y' b'n' b'y' b'y' b'y'] \n"
          ],
          "name": "stdout"
        }
      ]
    },
    {
      "cell_type": "code",
      "metadata": {
        "colab": {
          "base_uri": "https://localhost:8080/"
        },
        "id": "HWrZuPJ-4Ktt",
        "outputId": "3bd10eaa-a15b-40fe-ebe1-acd0211bbba8"
      },
      "source": [
        "# 만약 첫 번째 줄에 열 이름이 포함되어 있지 않은 경우 column_names 인수로 전달 *이 경우에는 해당 x\n",
        "csv_columns = ['survived', 'sex', 'age', 'n_siblings_spouses', 'parch', 'fare', 'class', 'deck', 'embark_town', 'alone']\n",
        "\n",
        "temp_dataset = get_datasets(train_file_path, column_names = csv_columns)\n",
        "\n",
        "show_batch(temp_dataset)"
      ],
      "execution_count": 8,
      "outputs": [
        {
          "output_type": "stream",
          "text": [
            "sex                  : [b'male' b'male' b'male' b'male' b'male'] \n",
            "age                  : [20. 36. 28. 28. 31.] \n",
            "n_siblings_spouses   : [0 1 1 0 0] \n",
            "parch                : [0 0 1 0 0] \n",
            "fare                 : [ 7.05  15.55  15.246  7.775 50.496] \n",
            "class                : [b'Third' b'Third' b'Third' b'Third' b'First'] \n",
            "deck                 : [b'unknown' b'unknown' b'unknown' b'unknown' b'A'] \n",
            "embark_town          : [b'Southampton' b'Southampton' b'Cherbourg' b'Southampton' b'Southampton'] \n",
            "alone                : [b'y' b'n' b'n' b'y' b'y'] \n"
          ],
          "name": "stdout"
        }
      ]
    },
    {
      "cell_type": "code",
      "metadata": {
        "colab": {
          "base_uri": "https://localhost:8080/"
        },
        "id": "TBGb1DDi46cK",
        "outputId": "4c35becd-ce5b-4b4f-8fba-6f5bf58fc9bd"
      },
      "source": [
        "select_columns = ['survived', 'age', 'n_siblings_spouses', 'class', 'deck', 'alone']\n",
        "\n",
        "temp_dataset = get_datasets(train_file_path, select_columns = select_columns)\n",
        "show_batch(temp_dataset)"
      ],
      "execution_count": 9,
      "outputs": [
        {
          "output_type": "stream",
          "text": [
            "age                  : [15. 25. 28. 29. 22.] \n",
            "n_siblings_spouses   : [1 1 8 0 0] \n",
            "class                : [b'Third' b'First' b'Third' b'First' b'Third'] \n",
            "deck                 : [b'unknown' b'B' b'unknown' b'B' b'unknown'] \n",
            "alone                : [b'n' b'n' b'n' b'y' b'y'] \n"
          ],
          "name": "stdout"
        }
      ]
    },
    {
      "cell_type": "code",
      "metadata": {
        "colab": {
          "base_uri": "https://localhost:8080/"
        },
        "id": "bb4xj71L6Cmy",
        "outputId": "ed585327-251b-4c78-e8cd-1e47dfa4a321"
      },
      "source": [
        "# Data preprocessing\n",
        "\n",
        "select_columns = ['survived', 'age', 'n_siblings_spouses', 'parch', 'fare']\n",
        "default = [0, 0.0, 0.0, 0.0, 0.0]\n",
        "\n",
        "temp_dataset = get_datasets(train_file_path,\n",
        "                            select_columns = select_columns,\n",
        "                            column_defaults = default)\n",
        "show_batch( temp_dataset)"
      ],
      "execution_count": 10,
      "outputs": [
        {
          "output_type": "stream",
          "text": [
            "age                  : [28. 22. 51. 24. 19.] \n",
            "n_siblings_spouses   : [3. 0. 1. 0. 3.] \n",
            "parch                : [1. 0. 0. 0. 2.] \n",
            "fare                 : [ 25.467   7.896  77.958  69.3   263.   ] \n"
          ],
          "name": "stdout"
        }
      ]
    },
    {
      "cell_type": "code",
      "metadata": {
        "id": "DIT6O4o5755T"
      },
      "source": [
        "example_batch, labels_batch = next(iter(temp_dataset))"
      ],
      "execution_count": 11,
      "outputs": []
    },
    {
      "cell_type": "code",
      "metadata": {
        "colab": {
          "base_uri": "https://localhost:8080/"
        },
        "id": "x6EtwNJl8IgW",
        "outputId": "6c6f149f-7555-40d3-f135-d7a33a4bffb2"
      },
      "source": [
        "def pack(features, label) :\n",
        "    return tf.stack(list(features.values()), axis=-1), label_column\n",
        "\n",
        "packed_dataset =  temp_dataset.map(pack)\n",
        "\n",
        "for features, labels in packed_dataset.take(1) :\n",
        "    print(features.numpy())\n",
        "    print()\n",
        "    print(labels.numpy())"
      ],
      "execution_count": 12,
      "outputs": [
        {
          "output_type": "stream",
          "text": [
            "[[37.     2.     0.     7.925]\n",
            " [ 4.     1.     1.    16.7  ]\n",
            " [47.     1.     0.    14.5  ]\n",
            " [28.     0.     0.     7.229]\n",
            " [25.     1.     0.    26.   ]]\n",
            "\n",
            "b'survived'\n"
          ],
          "name": "stdout"
        }
      ]
    },
    {
      "cell_type": "code",
      "metadata": {
        "colab": {
          "base_uri": "https://localhost:8080/"
        },
        "id": "zqZwOfyh8f8F",
        "outputId": "7d2f0b34-5f32-422d-eafc-db86a9b147ab"
      },
      "source": [
        "show_batch(raw_train_data)"
      ],
      "execution_count": 13,
      "outputs": [
        {
          "output_type": "stream",
          "text": [
            "sex                  : [b'female' b'female' b'male' b'female' b'male'] \n",
            "age                  : [27.   28.   28.    0.75 28.  ] \n",
            "n_siblings_spouses   : [1 0 1 2 0] \n",
            "parch                : [0 0 0 1 0] \n",
            "fare                 : [13.858  7.55  82.171 19.258 47.1  ] \n",
            "class                : [b'Second' b'Third' b'First' b'Third' b'First'] \n",
            "deck                 : [b'unknown' b'unknown' b'unknown' b'unknown' b'unknown'] \n",
            "embark_town          : [b'Cherbourg' b'Southampton' b'Cherbourg' b'Cherbourg' b'Southampton'] \n",
            "alone                : [b'n' b'y' b'n' b'n' b'y'] \n"
          ],
          "name": "stdout"
        }
      ]
    },
    {
      "cell_type": "code",
      "metadata": {
        "id": "cxckWRtK8zUg"
      },
      "source": [
        "example_batch, labels_batch = next(iter(temp_dataset))"
      ],
      "execution_count": 14,
      "outputs": []
    },
    {
      "cell_type": "code",
      "metadata": {
        "id": "g3MA5BRk81Sr"
      },
      "source": [
        "# 숫자 특성 목록을 선택하고 단일 열로 묶는 것보다 일반적인 전처리기를 정의함\n",
        "\n",
        "class PackNumericFeatures(object) :\n",
        "    def __init__(self, names) :\n",
        "        self.names = names\n",
        "    \n",
        "    def __call__(self, features, labels) :\n",
        "        numeric_features = [features.pop(name) for name in self.names]\n",
        "        numeric_features = [tf.cast(feat, tf.float32) for feat in numeric_features]\n",
        "        numeric_features = tf.stack(numeric_features, axis=-1)\n",
        "        features['numeric'] = numeric_features\n",
        "\n",
        "        return features, labels"
      ],
      "execution_count": 15,
      "outputs": []
    },
    {
      "cell_type": "code",
      "metadata": {
        "colab": {
          "base_uri": "https://localhost:8080/"
        },
        "id": "Wn_NB2CV9xEM",
        "outputId": "8d3e4409-07f8-421e-e06d-28f6c9f9b4dd"
      },
      "source": [
        "NUMERIC_FEATURES = ['age','n_siblings_spouses','parch', 'fare']\n",
        "\n",
        "packed_train_data = raw_train_data.map(\n",
        "    PackNumericFeatures(NUMERIC_FEATURES))\n",
        "\n",
        "packed_test_data = raw_test_data.map(\n",
        "    PackNumericFeatures(NUMERIC_FEATURES))\n",
        "\n",
        "show_batch(packed_train_data)"
      ],
      "execution_count": 16,
      "outputs": [
        {
          "output_type": "stream",
          "text": [
            "sex                  : [b'male' b'male' b'female' b'female' b'male'] \n",
            "class                : [b'Second' b'Third' b'Second' b'Third' b'Third'] \n",
            "deck                 : [b'unknown' b'unknown' b'unknown' b'unknown' b'unknown'] \n",
            "embark_town          : [b'Southampton' b'Southampton' b'Southampton' b'Cherbourg' b'Southampton'] \n",
            "alone                : [b'n' b'y' b'y' b'n' b'y'] \n",
            "numeric              : [[60.     1.     1.    39.   ]\n",
            " [51.     0.     0.     7.054]\n",
            " [35.     0.     0.    21.   ]\n",
            " [ 0.75   2.     1.    19.258]\n",
            " [51.     0.     0.     8.05 ]] \n"
          ],
          "name": "stdout"
        }
      ]
    },
    {
      "cell_type": "code",
      "metadata": {
        "id": "HGbVHpMo9_Vn"
      },
      "source": [
        "example_batch, labels_batch = next(iter(packed_train_data))"
      ],
      "execution_count": 17,
      "outputs": []
    },
    {
      "cell_type": "code",
      "metadata": {
        "colab": {
          "base_uri": "https://localhost:8080/",
          "height": 295
        },
        "id": "u2TvSLcK-mhu",
        "outputId": "cc5a2599-613f-47ab-aded-91cafd5fb677"
      },
      "source": [
        "# 데이터 정규화\n",
        "\n",
        "import pandas as pd\n",
        "desc = pd.read_csv(train_file_path)[NUMERIC_FEATURES].describe()\n",
        "desc"
      ],
      "execution_count": 18,
      "outputs": [
        {
          "output_type": "execute_result",
          "data": {
            "text/html": [
              "<div>\n",
              "<style scoped>\n",
              "    .dataframe tbody tr th:only-of-type {\n",
              "        vertical-align: middle;\n",
              "    }\n",
              "\n",
              "    .dataframe tbody tr th {\n",
              "        vertical-align: top;\n",
              "    }\n",
              "\n",
              "    .dataframe thead th {\n",
              "        text-align: right;\n",
              "    }\n",
              "</style>\n",
              "<table border=\"1\" class=\"dataframe\">\n",
              "  <thead>\n",
              "    <tr style=\"text-align: right;\">\n",
              "      <th></th>\n",
              "      <th>age</th>\n",
              "      <th>n_siblings_spouses</th>\n",
              "      <th>parch</th>\n",
              "      <th>fare</th>\n",
              "    </tr>\n",
              "  </thead>\n",
              "  <tbody>\n",
              "    <tr>\n",
              "      <th>count</th>\n",
              "      <td>627.000000</td>\n",
              "      <td>627.000000</td>\n",
              "      <td>627.000000</td>\n",
              "      <td>627.000000</td>\n",
              "    </tr>\n",
              "    <tr>\n",
              "      <th>mean</th>\n",
              "      <td>29.631308</td>\n",
              "      <td>0.545455</td>\n",
              "      <td>0.379585</td>\n",
              "      <td>34.385399</td>\n",
              "    </tr>\n",
              "    <tr>\n",
              "      <th>std</th>\n",
              "      <td>12.511818</td>\n",
              "      <td>1.151090</td>\n",
              "      <td>0.792999</td>\n",
              "      <td>54.597730</td>\n",
              "    </tr>\n",
              "    <tr>\n",
              "      <th>min</th>\n",
              "      <td>0.750000</td>\n",
              "      <td>0.000000</td>\n",
              "      <td>0.000000</td>\n",
              "      <td>0.000000</td>\n",
              "    </tr>\n",
              "    <tr>\n",
              "      <th>25%</th>\n",
              "      <td>23.000000</td>\n",
              "      <td>0.000000</td>\n",
              "      <td>0.000000</td>\n",
              "      <td>7.895800</td>\n",
              "    </tr>\n",
              "    <tr>\n",
              "      <th>50%</th>\n",
              "      <td>28.000000</td>\n",
              "      <td>0.000000</td>\n",
              "      <td>0.000000</td>\n",
              "      <td>15.045800</td>\n",
              "    </tr>\n",
              "    <tr>\n",
              "      <th>75%</th>\n",
              "      <td>35.000000</td>\n",
              "      <td>1.000000</td>\n",
              "      <td>0.000000</td>\n",
              "      <td>31.387500</td>\n",
              "    </tr>\n",
              "    <tr>\n",
              "      <th>max</th>\n",
              "      <td>80.000000</td>\n",
              "      <td>8.000000</td>\n",
              "      <td>5.000000</td>\n",
              "      <td>512.329200</td>\n",
              "    </tr>\n",
              "  </tbody>\n",
              "</table>\n",
              "</div>"
            ],
            "text/plain": [
              "              age  n_siblings_spouses       parch        fare\n",
              "count  627.000000          627.000000  627.000000  627.000000\n",
              "mean    29.631308            0.545455    0.379585   34.385399\n",
              "std     12.511818            1.151090    0.792999   54.597730\n",
              "min      0.750000            0.000000    0.000000    0.000000\n",
              "25%     23.000000            0.000000    0.000000    7.895800\n",
              "50%     28.000000            0.000000    0.000000   15.045800\n",
              "75%     35.000000            1.000000    0.000000   31.387500\n",
              "max     80.000000            8.000000    5.000000  512.329200"
            ]
          },
          "metadata": {
            "tags": []
          },
          "execution_count": 18
        }
      ]
    },
    {
      "cell_type": "code",
      "metadata": {
        "id": "iwo8XKs9-zrI"
      },
      "source": [
        "MEAN = np.array(desc.T['mean'])\n",
        "STD = np.array(desc.T['std'])"
      ],
      "execution_count": 19,
      "outputs": []
    },
    {
      "cell_type": "code",
      "metadata": {
        "id": "O3qxH7X6_FrB"
      },
      "source": [
        "def normalize(data, mean, std) :\n",
        "    return (data-mean) / std"
      ],
      "execution_count": 20,
      "outputs": []
    },
    {
      "cell_type": "code",
      "metadata": {
        "colab": {
          "base_uri": "https://localhost:8080/"
        },
        "id": "jzVumXSW_LSO",
        "outputId": "910e68e9-c16e-4753-f1da-4ceaefadbe6d"
      },
      "source": [
        "normalizer = functools.partial(normalize, mean = MEAN, std = STD)\n",
        "\n",
        "numeric_column = tf.feature_column.numeric_column('numeric', normalizer_fn = normalizer,\n",
        "                                                  shape = [len(NUMERIC_FEATURES)])\n",
        "numeric_columns = [numeric_column]\n",
        "numeric_columns\n"
      ],
      "execution_count": 21,
      "outputs": [
        {
          "output_type": "execute_result",
          "data": {
            "text/plain": [
              "[NumericColumn(key='numeric', shape=(4,), default_value=None, dtype=tf.float32, normalizer_fn=functools.partial(<function normalize at 0x7f97829f3950>, mean=array([29.631,  0.545,  0.38 , 34.385]), std=array([12.512,  1.151,  0.793, 54.598])))]"
            ]
          },
          "metadata": {
            "tags": []
          },
          "execution_count": 21
        }
      ]
    },
    {
      "cell_type": "code",
      "metadata": {
        "colab": {
          "base_uri": "https://localhost:8080/"
        },
        "id": "jf1duPbA_8e6",
        "outputId": "2556548a-bc92-48f6-ff16-bcd6e1b04ab8"
      },
      "source": [
        "example_batch['numeric']"
      ],
      "execution_count": 22,
      "outputs": [
        {
          "output_type": "execute_result",
          "data": {
            "text/plain": [
              "<tf.Tensor: shape=(5, 4), dtype=float32, numpy=\n",
              "array([[21.   ,  0.   ,  0.   ,  8.05 ],\n",
              "       [28.   ,  1.   ,  0.   , 15.5  ],\n",
              "       [35.   ,  0.   ,  0.   ,  7.05 ],\n",
              "       [20.   ,  0.   ,  0.   ,  9.225],\n",
              "       [16.   ,  0.   ,  0.   ,  7.733]], dtype=float32)>"
            ]
          },
          "metadata": {
            "tags": []
          },
          "execution_count": 22
        }
      ]
    },
    {
      "cell_type": "code",
      "metadata": {
        "id": "QQ0f37wiAAz5",
        "outputId": "cbaf54fa-a26f-4a4c-a5eb-026ca59177cd",
        "colab": {
          "base_uri": "https://localhost:8080/"
        }
      },
      "source": [
        "numeric_layer = tf.keras.layers.DenseFeatures(numeric_columns)\n",
        "numeric_layer(example_batch).numpy()"
      ],
      "execution_count": 23,
      "outputs": [
        {
          "output_type": "execute_result",
          "data": {
            "text/plain": [
              "array([[-0.69 , -0.474, -0.479, -0.482],\n",
              "       [-0.13 ,  0.395, -0.479, -0.346],\n",
              "       [ 0.429, -0.474, -0.479, -0.501],\n",
              "       [-0.77 , -0.474, -0.479, -0.461],\n",
              "       [-1.089, -0.474, -0.479, -0.488]], dtype=float32)"
            ]
          },
          "metadata": {
            "tags": []
          },
          "execution_count": 23
        }
      ]
    },
    {
      "cell_type": "code",
      "metadata": {
        "id": "6zg0w3Q0Vaea"
      },
      "source": [
        "# 범주형 데이터\n",
        "# - tf.feature.column API 사용하여 각 범주열에 대해 tf.feature_column.indicator_column 을 가진 모음을 작성\n",
        "\n",
        "CATEGORIES = {\n",
        "    'sex': ['male', 'female'],\n",
        "    'class' : ['First', 'Second', 'Third'],\n",
        "    'deck' : ['A', 'B', 'C', 'D', 'E', 'F', 'G', 'H', 'I', 'J'],\n",
        "    'embark_town' : ['Cherbourg', 'Southhampton', 'Queenstown'],\n",
        "    'alone' : ['y', 'n']\n",
        "}"
      ],
      "execution_count": 24,
      "outputs": []
    },
    {
      "cell_type": "code",
      "metadata": {
        "id": "Gvz_HahlVpF9"
      },
      "source": [
        "categorical_columns = []\n",
        "\n",
        "for feature, vocab in CATEGORIES.items() :\n",
        "    cat_col = tf.feature_column.categorical_column_with_vocabulary_list(\n",
        "        key = feature, vocabulary_list = vocab\n",
        "    )\n",
        "    categorical_columns.append(tf.feature_column.indicator_column(cat_col))"
      ],
      "execution_count": 25,
      "outputs": []
    },
    {
      "cell_type": "code",
      "metadata": {
        "id": "oUaMWraJWOwY",
        "outputId": "92203d3a-4214-43ca-bc16-7ac3404bd346",
        "colab": {
          "base_uri": "https://localhost:8080/"
        }
      },
      "source": [
        "categorical_columns"
      ],
      "execution_count": 26,
      "outputs": [
        {
          "output_type": "execute_result",
          "data": {
            "text/plain": [
              "[IndicatorColumn(categorical_column=VocabularyListCategoricalColumn(key='sex', vocabulary_list=('male', 'female'), dtype=tf.string, default_value=-1, num_oov_buckets=0)),\n",
              " IndicatorColumn(categorical_column=VocabularyListCategoricalColumn(key='class', vocabulary_list=('First', 'Second', 'Third'), dtype=tf.string, default_value=-1, num_oov_buckets=0)),\n",
              " IndicatorColumn(categorical_column=VocabularyListCategoricalColumn(key='deck', vocabulary_list=('A', 'B', 'C', 'D', 'E', 'F', 'G', 'H', 'I', 'J'), dtype=tf.string, default_value=-1, num_oov_buckets=0)),\n",
              " IndicatorColumn(categorical_column=VocabularyListCategoricalColumn(key='embark_town', vocabulary_list=('Cherbourg', 'Southhampton', 'Queenstown'), dtype=tf.string, default_value=-1, num_oov_buckets=0)),\n",
              " IndicatorColumn(categorical_column=VocabularyListCategoricalColumn(key='alone', vocabulary_list=('y', 'n'), dtype=tf.string, default_value=-1, num_oov_buckets=0))]"
            ]
          },
          "metadata": {
            "tags": []
          },
          "execution_count": 26
        }
      ]
    },
    {
      "cell_type": "code",
      "metadata": {
        "id": "QFpHBY28WPem",
        "outputId": "58a4847e-a95a-4147-d909-36bb384c4a46",
        "colab": {
          "base_uri": "https://localhost:8080/"
        }
      },
      "source": [
        "categorical_layers = tf.keras.layers.DenseFeatures(categorical_columns)\n",
        "print(categorical_layers(example_batch).numpy()[0])"
      ],
      "execution_count": 27,
      "outputs": [
        {
          "output_type": "stream",
          "text": [
            "[1. 0. 0. 0. 1. 0. 0. 0. 0. 0. 0. 0. 0. 0. 0. 0. 0. 0. 1. 0.]\n"
          ],
          "name": "stdout"
        }
      ]
    },
    {
      "cell_type": "code",
      "metadata": {
        "id": "7Y1kTk52WZtk",
        "outputId": "2e4808ee-8a92-46f5-e270-f9f837a4bb87",
        "colab": {
          "base_uri": "https://localhost:8080/"
        }
      },
      "source": [
        "# 결합된 전처리 레이어\n",
        "\n",
        "# 두개의 특성 열 모음을 추가하고 tf.keras.layers.DenseFeatures에 전달하여 두 입력 유형 추출, 전처리할 입력 레이어를 만들자\n",
        "\n",
        "preprocessing_layer = tf.keras.layers.DenseFeatures(categorical_columns + numeric_columns)\n",
        "\n",
        "print(preprocessing_layer(example_batch).numpy()[0])"
      ],
      "execution_count": 28,
      "outputs": [
        {
          "output_type": "stream",
          "text": [
            "[ 1.     0.     0.     0.     1.     0.     0.     0.     0.     0.\n",
            "  0.     0.     0.     0.     0.     0.     0.     0.    -0.69  -0.474\n",
            " -0.479 -0.482  1.     0.   ]\n"
          ],
          "name": "stdout"
        }
      ]
    },
    {
      "cell_type": "code",
      "metadata": {
        "id": "Wj7he3WCWx5j"
      },
      "source": [
        "# 모델\n",
        "\n",
        "model = tf.keras.Sequential([\n",
        "            preprocessing_layer,\n",
        "            tf.keras.layers.Dense(128, activation = 'relu'),\n",
        "            tf.keras.layers.Dense(128, activation = 'relu'),\n",
        "            tf.keras.layers.Dense(1)\n",
        "])\n",
        "\n",
        "model.compile(loss = tf.keras.losses.BinaryCrossentropy(from_logits=True),\n",
        "              optimizer = 'adam',\n",
        "              metrics = ['accuracy'])"
      ],
      "execution_count": 30,
      "outputs": []
    },
    {
      "cell_type": "code",
      "metadata": {
        "id": "-qLYg-4kW-JY",
        "outputId": "a01bf5ce-8141-40fc-aff7-9e8928820ae7",
        "colab": {
          "base_uri": "https://localhost:8080/"
        }
      },
      "source": [
        "# Train\n",
        "\n",
        "train_data = packed_train_data.shuffle(500)\n",
        "test_data = packed_test_data\n",
        "\n",
        "model.fit(train_data, epochs = 20)"
      ],
      "execution_count": 31,
      "outputs": [
        {
          "output_type": "stream",
          "text": [
            "Epoch 1/20\n",
            "WARNING:tensorflow:Layers in a Sequential model should only have a single input tensor, but we receive a <class 'collections.OrderedDict'> input: OrderedDict([('sex', <tf.Tensor 'ExpandDims_4:0' shape=(None, 1) dtype=string>), ('class', <tf.Tensor 'ExpandDims_1:0' shape=(None, 1) dtype=string>), ('deck', <tf.Tensor 'ExpandDims_2:0' shape=(None, 1) dtype=string>), ('embark_town', <tf.Tensor 'ExpandDims_3:0' shape=(None, 1) dtype=string>), ('alone', <tf.Tensor 'ExpandDims:0' shape=(None, 1) dtype=string>), ('numeric', <tf.Tensor 'IteratorGetNext:4' shape=(None, 4) dtype=float32>)])\n",
            "Consider rewriting this model with the Functional API.\n",
            "WARNING:tensorflow:Layers in a Sequential model should only have a single input tensor, but we receive a <class 'collections.OrderedDict'> input: OrderedDict([('sex', <tf.Tensor 'ExpandDims_4:0' shape=(None, 1) dtype=string>), ('class', <tf.Tensor 'ExpandDims_1:0' shape=(None, 1) dtype=string>), ('deck', <tf.Tensor 'ExpandDims_2:0' shape=(None, 1) dtype=string>), ('embark_town', <tf.Tensor 'ExpandDims_3:0' shape=(None, 1) dtype=string>), ('alone', <tf.Tensor 'ExpandDims:0' shape=(None, 1) dtype=string>), ('numeric', <tf.Tensor 'IteratorGetNext:4' shape=(None, 4) dtype=float32>)])\n",
            "Consider rewriting this model with the Functional API.\n",
            "126/126 [==============================] - 1s 2ms/step - loss: 0.4998 - accuracy: 0.7480\n",
            "Epoch 2/20\n",
            "126/126 [==============================] - 0s 2ms/step - loss: 0.4216 - accuracy: 0.8198\n",
            "Epoch 3/20\n",
            "126/126 [==============================] - 0s 2ms/step - loss: 0.4043 - accuracy: 0.8293\n",
            "Epoch 4/20\n",
            "126/126 [==============================] - 0s 2ms/step - loss: 0.3911 - accuracy: 0.8309\n",
            "Epoch 5/20\n",
            "126/126 [==============================] - 0s 2ms/step - loss: 0.3796 - accuracy: 0.8389\n",
            "Epoch 6/20\n",
            "126/126 [==============================] - 0s 1ms/step - loss: 0.3735 - accuracy: 0.8421\n",
            "Epoch 7/20\n",
            "126/126 [==============================] - 0s 2ms/step - loss: 0.3700 - accuracy: 0.8357\n",
            "Epoch 8/20\n",
            "126/126 [==============================] - 0s 1ms/step - loss: 0.3552 - accuracy: 0.8485\n",
            "Epoch 9/20\n",
            "126/126 [==============================] - 0s 2ms/step - loss: 0.3519 - accuracy: 0.8405\n",
            "Epoch 10/20\n",
            "126/126 [==============================] - 0s 2ms/step - loss: 0.3595 - accuracy: 0.8501\n",
            "Epoch 11/20\n",
            "126/126 [==============================] - 0s 2ms/step - loss: 0.3455 - accuracy: 0.8501\n",
            "Epoch 12/20\n",
            "126/126 [==============================] - 0s 2ms/step - loss: 0.3376 - accuracy: 0.8485\n",
            "Epoch 13/20\n",
            "126/126 [==============================] - 0s 1ms/step - loss: 0.3325 - accuracy: 0.8517\n",
            "Epoch 14/20\n",
            "126/126 [==============================] - 0s 1ms/step - loss: 0.3292 - accuracy: 0.8517\n",
            "Epoch 15/20\n",
            "126/126 [==============================] - 0s 2ms/step - loss: 0.3219 - accuracy: 0.8676\n",
            "Epoch 16/20\n",
            "126/126 [==============================] - 0s 1ms/step - loss: 0.3265 - accuracy: 0.8549\n",
            "Epoch 17/20\n",
            "126/126 [==============================] - 0s 2ms/step - loss: 0.3166 - accuracy: 0.8581\n",
            "Epoch 18/20\n",
            "126/126 [==============================] - 0s 1ms/step - loss: 0.3179 - accuracy: 0.8596\n",
            "Epoch 19/20\n",
            "126/126 [==============================] - 0s 2ms/step - loss: 0.3078 - accuracy: 0.8644\n",
            "Epoch 20/20\n",
            "126/126 [==============================] - 0s 1ms/step - loss: 0.3093 - accuracy: 0.8660\n"
          ],
          "name": "stdout"
        },
        {
          "output_type": "execute_result",
          "data": {
            "text/plain": [
              "<tensorflow.python.keras.callbacks.History at 0x7f977ca95290>"
            ]
          },
          "metadata": {
            "tags": []
          },
          "execution_count": 31
        }
      ]
    },
    {
      "cell_type": "code",
      "metadata": {
        "id": "ZTdG0HK5Xan1",
        "outputId": "eccc1566-e2c0-45be-88c5-bd3b28372767",
        "colab": {
          "base_uri": "https://localhost:8080/"
        }
      },
      "source": [
        "test_loss, test_acc = model.evaluate(test_data)"
      ],
      "execution_count": 32,
      "outputs": [
        {
          "output_type": "stream",
          "text": [
            "WARNING:tensorflow:Layers in a Sequential model should only have a single input tensor, but we receive a <class 'collections.OrderedDict'> input: OrderedDict([('sex', <tf.Tensor 'ExpandDims_4:0' shape=(None, 1) dtype=string>), ('class', <tf.Tensor 'ExpandDims_1:0' shape=(None, 1) dtype=string>), ('deck', <tf.Tensor 'ExpandDims_2:0' shape=(None, 1) dtype=string>), ('embark_town', <tf.Tensor 'ExpandDims_3:0' shape=(None, 1) dtype=string>), ('alone', <tf.Tensor 'ExpandDims:0' shape=(None, 1) dtype=string>), ('numeric', <tf.Tensor 'IteratorGetNext:4' shape=(None, 4) dtype=float32>)])\n",
            "Consider rewriting this model with the Functional API.\n",
            "53/53 [==============================] - 0s 1ms/step - loss: 0.4564 - accuracy: 0.8447\n"
          ],
          "name": "stdout"
        }
      ]
    },
    {
      "cell_type": "code",
      "metadata": {
        "id": "ZYuroRrGXkDX",
        "outputId": "ed00861c-3020-4e95-a269-442232abb931",
        "colab": {
          "base_uri": "https://localhost:8080/"
        }
      },
      "source": [
        "print('\\n\\nTest Loss {}, Test Accuracy {}'.format(test_loss, test_acc))"
      ],
      "execution_count": 34,
      "outputs": [
        {
          "output_type": "stream",
          "text": [
            "\n",
            "\n",
            "Test Loss 0.4563959836959839, Test Accuracy 0.8446969985961914\n"
          ],
          "name": "stdout"
        }
      ]
    },
    {
      "cell_type": "code",
      "metadata": {
        "id": "b39Fyz7PXl7o",
        "outputId": "1e8ea626-9cf3-418c-9ffa-18dcb4814bf2",
        "colab": {
          "base_uri": "https://localhost:8080/"
        }
      },
      "source": [
        "# label 유추\n",
        "\n",
        "predictions = model.predict(test_data)\n",
        "\n",
        "for predictions, survived in zip(predictions[:10], list(test_data)[0][1][:10]) :\n",
        "    prediction = tf.sigmoid(predictions).numpy()\n",
        "    print(\"Predicted survival: {:.2%}\".format(prediction[0]),\n",
        "        \" | Actual outcome: \",\n",
        "        (\"SURVIVED\" if bool(survived) else \"DIED\"))"
      ],
      "execution_count": 35,
      "outputs": [
        {
          "output_type": "stream",
          "text": [
            "WARNING:tensorflow:Layers in a Sequential model should only have a single input tensor, but we receive a <class 'collections.OrderedDict'> input: OrderedDict([('sex', <tf.Tensor 'ExpandDims_4:0' shape=(None, 1) dtype=string>), ('class', <tf.Tensor 'ExpandDims_1:0' shape=(None, 1) dtype=string>), ('deck', <tf.Tensor 'ExpandDims_2:0' shape=(None, 1) dtype=string>), ('embark_town', <tf.Tensor 'ExpandDims_3:0' shape=(None, 1) dtype=string>), ('alone', <tf.Tensor 'ExpandDims:0' shape=(None, 1) dtype=string>), ('numeric', <tf.Tensor 'IteratorGetNext:4' shape=(None, 4) dtype=float32>)])\n",
            "Consider rewriting this model with the Functional API.\n",
            "Predicted survival: 44.69%  | Actual outcome:  DIED\n",
            "Predicted survival: 99.95%  | Actual outcome:  DIED\n",
            "Predicted survival: 60.28%  | Actual outcome:  SURVIVED\n",
            "Predicted survival: 92.56%  | Actual outcome:  DIED\n",
            "Predicted survival: 69.28%  | Actual outcome:  DIED\n"
          ],
          "name": "stdout"
        }
      ]
    },
    {
      "cell_type": "code",
      "metadata": {
        "id": "5_9jD6gaX_Wm"
      },
      "source": [
        ""
      ],
      "execution_count": null,
      "outputs": []
    }
  ]
}