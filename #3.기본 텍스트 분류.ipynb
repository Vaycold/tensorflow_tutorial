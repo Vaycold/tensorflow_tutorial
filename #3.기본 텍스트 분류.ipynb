{
  "nbformat": 4,
  "nbformat_minor": 0,
  "metadata": {
    "colab": {
      "name": "기본 텍스트 분류.ipynb",
      "provenance": [],
      "authorship_tag": "ABX9TyM/dN0oY2MZsfeJA2DQtpjI",
      "include_colab_link": true
    },
    "kernelspec": {
      "name": "python3",
      "display_name": "Python 3"
    },
    "language_info": {
      "name": "python"
    }
  },
  "cells": [
    {
      "cell_type": "markdown",
      "metadata": {
        "id": "view-in-github",
        "colab_type": "text"
      },
      "source": [
        "<a href=\"https://colab.research.google.com/github/Vaycold/tensorflow_tutorial/blob/main/%233.%EA%B8%B0%EB%B3%B8%20%ED%85%8D%EC%8A%A4%ED%8A%B8%20%EB%B6%84%EB%A5%98.ipynb\" target=\"_parent\"><img src=\"https://colab.research.google.com/assets/colab-badge.svg\" alt=\"Open In Colab\"/></a>"
      ]
    },
    {
      "cell_type": "code",
      "metadata": {
        "colab": {
          "base_uri": "https://localhost:8080/"
        },
        "id": "dVIEgLDmGhMA",
        "outputId": "a8bfc619-7393-46c3-d397-3548a8643ec8"
      },
      "source": [
        "import numpy as np\n",
        "import tensorflow as tf\n",
        "from tensorflow import keras\n",
        "\n",
        "print(tf.__version__)"
      ],
      "execution_count": 1,
      "outputs": [
        {
          "output_type": "stream",
          "text": [
            "2.5.0\n"
          ],
          "name": "stdout"
        }
      ]
    },
    {
      "cell_type": "code",
      "metadata": {
        "colab": {
          "base_uri": "https://localhost:8080/"
        },
        "id": "vHa4HL05G0DY",
        "outputId": "912482ed-9f6a-4e16-9545-65e92dd2a060"
      },
      "source": [
        "# Load the IMDB Dataset\n",
        "imdb = keras.datasets.imdb\n",
        "(train_data, train_labels) , (test_data, test_labels) = imdb.load_data(num_words = 10000)\n",
        "print(train_data.shape, train_labels.shape)\n",
        "print(test_data.shape, test_labels.shape)"
      ],
      "execution_count": 6,
      "outputs": [
        {
          "output_type": "stream",
          "text": [
            "<string>:6: VisibleDeprecationWarning: Creating an ndarray from ragged nested sequences (which is a list-or-tuple of lists-or-tuples-or ndarrays with different lengths or shapes) is deprecated. If you meant to do this, you must specify 'dtype=object' when creating the ndarray\n",
            "/usr/local/lib/python3.7/dist-packages/tensorflow/python/keras/datasets/imdb.py:155: VisibleDeprecationWarning: Creating an ndarray from ragged nested sequences (which is a list-or-tuple of lists-or-tuples-or ndarrays with different lengths or shapes) is deprecated. If you meant to do this, you must specify 'dtype=object' when creating the ndarray\n",
            "  x_train, y_train = np.array(xs[:idx]), np.array(labels[:idx])\n",
            "/usr/local/lib/python3.7/dist-packages/tensorflow/python/keras/datasets/imdb.py:156: VisibleDeprecationWarning: Creating an ndarray from ragged nested sequences (which is a list-or-tuple of lists-or-tuples-or ndarrays with different lengths or shapes) is deprecated. If you meant to do this, you must specify 'dtype=object' when creating the ndarray\n",
            "  x_test, y_test = np.array(xs[idx:]), np.array(labels[idx:])\n"
          ],
          "name": "stderr"
        },
        {
          "output_type": "stream",
          "text": [
            "(25000,) (25000,)\n",
            "(25000,) (25000,)\n"
          ],
          "name": "stdout"
        }
      ]
    },
    {
      "cell_type": "code",
      "metadata": {
        "colab": {
          "base_uri": "https://localhost:8080/"
        },
        "id": "mXYsFH91HNFc",
        "outputId": "1ae34552-8043-4c79-87f5-978a060ce20d"
      },
      "source": [
        "print(train_data.shape, train_labels.shape)\n",
        "print(test_data.shape, test_labels.shape)"
      ],
      "execution_count": 5,
      "outputs": [
        {
          "output_type": "stream",
          "text": [
            "(25000,) (25000,)\n",
            "(25000,) (25000,)\n"
          ],
          "name": "stdout"
        }
      ]
    },
    {
      "cell_type": "code",
      "metadata": {
        "colab": {
          "base_uri": "https://localhost:8080/"
        },
        "id": "EwDc7_BvHRaG",
        "outputId": "867b28e3-924e-4cbf-ec44-94b82b3ef0f6"
      },
      "source": [
        "print(train_data[0][:10])"
      ],
      "execution_count": 11,
      "outputs": [
        {
          "output_type": "stream",
          "text": [
            "[1, 14, 22, 16, 43, 530, 973, 1622, 1385, 65]\n"
          ],
          "name": "stdout"
        }
      ]
    },
    {
      "cell_type": "code",
      "metadata": {
        "colab": {
          "base_uri": "https://localhost:8080/"
        },
        "id": "zdP1hVQzHpQj",
        "outputId": "25a5e063-b96b-49e7-8357-eed90f24d486"
      },
      "source": [
        "print(train_labels[0])"
      ],
      "execution_count": 12,
      "outputs": [
        {
          "output_type": "stream",
          "text": [
            "1\n"
          ],
          "name": "stdout"
        }
      ]
    },
    {
      "cell_type": "code",
      "metadata": {
        "colab": {
          "base_uri": "https://localhost:8080/"
        },
        "id": "nfDuJKUtH1uY",
        "outputId": "b76495c1-e82d-4c05-ef94-ef55707a79c1"
      },
      "source": [
        "# 길이가 텍스트 마다 다름\n",
        "for i in range(10) :\n",
        "    print(f'{i+1} 번째 길이 : {len(train_data[i])}')"
      ],
      "execution_count": 14,
      "outputs": [
        {
          "output_type": "stream",
          "text": [
            "1 번째 길이 : 218\n",
            "2 번째 길이 : 189\n",
            "3 번째 길이 : 141\n",
            "4 번째 길이 : 550\n",
            "5 번째 길이 : 147\n",
            "6 번째 길이 : 43\n",
            "7 번째 길이 : 123\n",
            "8 번째 길이 : 562\n",
            "9 번째 길이 : 233\n",
            "10 번째 길이 : 130\n"
          ],
          "name": "stdout"
        }
      ]
    },
    {
      "cell_type": "code",
      "metadata": {
        "id": "r1z2XZYkIH2z"
      },
      "source": [
        "# 정수 -> 단어\n",
        "word_index = imdb.get_word_index()"
      ],
      "execution_count": 26,
      "outputs": []
    },
    {
      "cell_type": "code",
      "metadata": {
        "id": "sFevx59yK05I"
      },
      "source": [
        "word_index = {k : v+3 for k,v in word_index.items()}\n",
        "word_index['<PAD>'] = 0\n",
        "word_index['<START>'] = 1\n",
        "word_index['<UNK>'] = 2\n",
        "word_index['<UNUSED>'] = 3"
      ],
      "execution_count": 27,
      "outputs": []
    },
    {
      "cell_type": "code",
      "metadata": {
        "id": "lszRPkZOLVvb"
      },
      "source": [
        "reverse_word_index = {v : k for k,v in word_index.items()}"
      ],
      "execution_count": 28,
      "outputs": []
    },
    {
      "cell_type": "code",
      "metadata": {
        "colab": {
          "base_uri": "https://localhost:8080/"
        },
        "id": "hkxn6KwLL3Vb",
        "outputId": "60f684a0-05b2-4e5c-fcef-a4c793b4fcfb"
      },
      "source": [
        "for i in range(10) :\n",
        "    print(reverse_word_index[i])"
      ],
      "execution_count": 31,
      "outputs": [
        {
          "output_type": "stream",
          "text": [
            "<PAD>\n",
            "<START>\n",
            "<UNK>\n",
            "<UNUSED>\n",
            "the\n",
            "and\n",
            "a\n",
            "of\n",
            "to\n",
            "is\n"
          ],
          "name": "stdout"
        }
      ]
    },
    {
      "cell_type": "code",
      "metadata": {
        "id": "3l4nBGx-MBgw"
      },
      "source": [
        "def decode_review(text) :\n",
        "    return ' '.join([reverse_word_index.get(i,'?') for i in text])"
      ],
      "execution_count": 32,
      "outputs": []
    },
    {
      "cell_type": "code",
      "metadata": {
        "colab": {
          "base_uri": "https://localhost:8080/",
          "height": 54
        },
        "id": "x3Y4n0J2MS6z",
        "outputId": "002a2b78-2990-4a42-b0a4-5ee5eda34d22"
      },
      "source": [
        "decode_review(train_data[0][:30])"
      ],
      "execution_count": 34,
      "outputs": [
        {
          "output_type": "execute_result",
          "data": {
            "application/vnd.google.colaboratory.intrinsic+json": {
              "type": "string"
            },
            "text/plain": [
              "\"<START> this film was just brilliant casting location scenery story direction everyone's really suited the part they played and you could just imagine being there robert <UNK> is an amazing\""
            ]
          },
          "metadata": {
            "tags": []
          },
          "execution_count": 34
        }
      ]
    },
    {
      "cell_type": "markdown",
      "metadata": {
        "id": "I4Cj12Z9MgcJ"
      },
      "source": [
        "## Prepare the Data"
      ]
    },
    {
      "cell_type": "code",
      "metadata": {
        "colab": {
          "base_uri": "https://localhost:8080/"
        },
        "id": "UOLbYCO9M3TZ",
        "outputId": "160e3520-76fc-445c-f1fc-a3443c1cd48c"
      },
      "source": [
        "word_index['<PAD>']"
      ],
      "execution_count": 36,
      "outputs": [
        {
          "output_type": "execute_result",
          "data": {
            "text/plain": [
              "0"
            ]
          },
          "metadata": {
            "tags": []
          },
          "execution_count": 36
        }
      ]
    },
    {
      "cell_type": "code",
      "metadata": {
        "id": "OaHTYoU-MWR5"
      },
      "source": [
        "train_data = tf.keras.preprocessing.sequence.pad_sequences(train_data, \n",
        "                                                           value = word_index['<PAD>'],\n",
        "                                                           padding = 'post',\n",
        "                                                           maxlen = 256)\n",
        "\n",
        "test_data = tf.keras.preprocessing.sequence.pad_sequences(test_data, \n",
        "                                                           value = word_index['<PAD>'],\n",
        "                                                           padding = 'post',\n",
        "                                                           maxlen = 256)"
      ],
      "execution_count": 37,
      "outputs": []
    },
    {
      "cell_type": "code",
      "metadata": {
        "colab": {
          "base_uri": "https://localhost:8080/"
        },
        "id": "woYR0yOLNKzy",
        "outputId": "d51fa765-78ce-4e37-bf6f-d21e4e94d674"
      },
      "source": [
        "# 길이 맞춤\n",
        "for i in range(10) :\n",
        "    print(f'{i+1} 번째 길이 : {len(train_data[i])}')"
      ],
      "execution_count": 39,
      "outputs": [
        {
          "output_type": "stream",
          "text": [
            "1 번째 길이 : 256\n",
            "2 번째 길이 : 256\n",
            "3 번째 길이 : 256\n",
            "4 번째 길이 : 256\n",
            "5 번째 길이 : 256\n",
            "6 번째 길이 : 256\n",
            "7 번째 길이 : 256\n",
            "8 번째 길이 : 256\n",
            "9 번째 길이 : 256\n",
            "10 번째 길이 : 256\n"
          ],
          "name": "stdout"
        }
      ]
    },
    {
      "cell_type": "code",
      "metadata": {
        "colab": {
          "base_uri": "https://localhost:8080/"
        },
        "id": "KIeb2xJpNNWq",
        "outputId": "9b92918b-35d3-45ba-9e2c-14752db3fa96"
      },
      "source": [
        "train_data[0][200:]"
      ],
      "execution_count": 41,
      "outputs": [
        {
          "output_type": "execute_result",
          "data": {
            "text/plain": [
              "array([  38, 1334,   88,   12,   16,  283,    5,   16, 4472,  113,  103,\n",
              "         32,   15,   16, 5345,   19,  178,   32,    0,    0,    0,    0,\n",
              "          0,    0,    0,    0,    0,    0,    0,    0,    0,    0,    0,\n",
              "          0,    0,    0,    0,    0,    0,    0,    0,    0,    0,    0,\n",
              "          0,    0,    0,    0,    0,    0,    0,    0,    0,    0,    0,\n",
              "          0], dtype=int32)"
            ]
          },
          "metadata": {
            "tags": []
          },
          "execution_count": 41
        }
      ]
    },
    {
      "cell_type": "markdown",
      "metadata": {
        "id": "F0X98-y4NUtR"
      },
      "source": [
        "## Modeling"
      ]
    },
    {
      "cell_type": "code",
      "metadata": {
        "colab": {
          "base_uri": "https://localhost:8080/"
        },
        "id": "38qWQ02tNQMP",
        "outputId": "a8adf9dc-88ab-43e6-fb72-279fd8bfdec8"
      },
      "source": [
        "vocab_size = 1e+4\n",
        "model = keras.Sequential()\n",
        "model.add(keras.layers.Embedding(int(vocab_size), 16, input_shape = (None, ))) #output : (batch, sequence, embedding)\n",
        "model.add(keras.layers.GlobalAveragePooling1D())\n",
        "model.add(keras.layers.Dense(16, activation = 'relu'))\n",
        "model.add(keras.layers.Dense(1, activation='sigmoid'))\n",
        "\n",
        "model.summary()"
      ],
      "execution_count": 45,
      "outputs": [
        {
          "output_type": "stream",
          "text": [
            "Model: \"sequential_1\"\n",
            "_________________________________________________________________\n",
            "Layer (type)                 Output Shape              Param #   \n",
            "=================================================================\n",
            "embedding_1 (Embedding)      (None, None, 16)          160000    \n",
            "_________________________________________________________________\n",
            "global_average_pooling1d (Gl (None, 16)                0         \n",
            "_________________________________________________________________\n",
            "dense (Dense)                (None, 16)                272       \n",
            "_________________________________________________________________\n",
            "dense_1 (Dense)              (None, 1)                 17        \n",
            "=================================================================\n",
            "Total params: 160,289\n",
            "Trainable params: 160,289\n",
            "Non-trainable params: 0\n",
            "_________________________________________________________________\n"
          ],
          "name": "stdout"
        }
      ]
    },
    {
      "cell_type": "code",
      "metadata": {
        "id": "RSXwwRn-N7ZT"
      },
      "source": [
        "model.compile(loss = 'binary_crossentropy',\n",
        "              optimizer = 'adam',\n",
        "              metrics = ['accuracy'])"
      ],
      "execution_count": 47,
      "outputs": []
    },
    {
      "cell_type": "code",
      "metadata": {
        "id": "nIRwkgFgOpFl"
      },
      "source": [
        "x_val = train_data[:10000]\n",
        "partial_x_train = train_data[10000:]\n",
        "\n",
        "y_val = train_labels[:10000]\n",
        "partial_y_train = train_labels[10000:]"
      ],
      "execution_count": 49,
      "outputs": []
    },
    {
      "cell_type": "code",
      "metadata": {
        "colab": {
          "base_uri": "https://localhost:8080/"
        },
        "id": "n40J-UXbO9x_",
        "outputId": "40d06bfb-d581-47ff-ed3c-0aa9ebc0e3fd"
      },
      "source": [
        "history = model.fit(partial_x_train, partial_y_train,\n",
        "                    epochs = 40,\n",
        "                    batch_size = 512,\n",
        "                    validation_data = (x_val, y_val),\n",
        "                    verbose = 1)"
      ],
      "execution_count": 50,
      "outputs": [
        {
          "output_type": "stream",
          "text": [
            "Epoch 1/40\n",
            "30/30 [==============================] - 2s 23ms/step - loss: 0.6915 - accuracy: 0.5778 - val_loss: 0.6893 - val_accuracy: 0.6360\n",
            "Epoch 2/40\n",
            "30/30 [==============================] - 1s 18ms/step - loss: 0.6855 - accuracy: 0.6679 - val_loss: 0.6816 - val_accuracy: 0.6996\n",
            "Epoch 3/40\n",
            "30/30 [==============================] - 1s 17ms/step - loss: 0.6728 - accuracy: 0.7306 - val_loss: 0.6647 - val_accuracy: 0.7448\n",
            "Epoch 4/40\n",
            "30/30 [==============================] - 1s 18ms/step - loss: 0.6472 - accuracy: 0.7675 - val_loss: 0.6333 - val_accuracy: 0.7712\n",
            "Epoch 5/40\n",
            "30/30 [==============================] - 1s 18ms/step - loss: 0.6073 - accuracy: 0.7951 - val_loss: 0.5937 - val_accuracy: 0.7892\n",
            "Epoch 6/40\n",
            "30/30 [==============================] - 1s 18ms/step - loss: 0.5600 - accuracy: 0.8179 - val_loss: 0.5482 - val_accuracy: 0.8094\n",
            "Epoch 7/40\n",
            "30/30 [==============================] - 1s 18ms/step - loss: 0.5098 - accuracy: 0.8353 - val_loss: 0.5031 - val_accuracy: 0.8253\n",
            "Epoch 8/40\n",
            "30/30 [==============================] - 1s 17ms/step - loss: 0.4615 - accuracy: 0.8508 - val_loss: 0.4616 - val_accuracy: 0.8372\n",
            "Epoch 9/40\n",
            "30/30 [==============================] - 1s 17ms/step - loss: 0.4172 - accuracy: 0.8683 - val_loss: 0.4254 - val_accuracy: 0.8470\n",
            "Epoch 10/40\n",
            "30/30 [==============================] - 1s 18ms/step - loss: 0.3791 - accuracy: 0.8771 - val_loss: 0.3961 - val_accuracy: 0.8541\n",
            "Epoch 11/40\n",
            "30/30 [==============================] - 1s 19ms/step - loss: 0.3474 - accuracy: 0.8859 - val_loss: 0.3730 - val_accuracy: 0.8606\n",
            "Epoch 12/40\n",
            "30/30 [==============================] - 1s 18ms/step - loss: 0.3207 - accuracy: 0.8932 - val_loss: 0.3540 - val_accuracy: 0.8668\n",
            "Epoch 13/40\n",
            "30/30 [==============================] - 1s 18ms/step - loss: 0.2983 - accuracy: 0.8999 - val_loss: 0.3399 - val_accuracy: 0.8705\n",
            "Epoch 14/40\n",
            "30/30 [==============================] - 1s 17ms/step - loss: 0.2794 - accuracy: 0.9043 - val_loss: 0.3280 - val_accuracy: 0.8716\n",
            "Epoch 15/40\n",
            "30/30 [==============================] - 1s 17ms/step - loss: 0.2625 - accuracy: 0.9095 - val_loss: 0.3184 - val_accuracy: 0.8761\n",
            "Epoch 16/40\n",
            "30/30 [==============================] - 1s 17ms/step - loss: 0.2477 - accuracy: 0.9142 - val_loss: 0.3104 - val_accuracy: 0.8777\n",
            "Epoch 17/40\n",
            "30/30 [==============================] - 1s 17ms/step - loss: 0.2342 - accuracy: 0.9197 - val_loss: 0.3042 - val_accuracy: 0.8816\n",
            "Epoch 18/40\n",
            "30/30 [==============================] - 1s 17ms/step - loss: 0.2224 - accuracy: 0.9234 - val_loss: 0.2997 - val_accuracy: 0.8800\n",
            "Epoch 19/40\n",
            "30/30 [==============================] - 1s 17ms/step - loss: 0.2112 - accuracy: 0.9271 - val_loss: 0.2969 - val_accuracy: 0.8809\n",
            "Epoch 20/40\n",
            "30/30 [==============================] - 1s 17ms/step - loss: 0.2010 - accuracy: 0.9319 - val_loss: 0.2918 - val_accuracy: 0.8832\n",
            "Epoch 21/40\n",
            "30/30 [==============================] - 1s 17ms/step - loss: 0.1916 - accuracy: 0.9356 - val_loss: 0.2894 - val_accuracy: 0.8834\n",
            "Epoch 22/40\n",
            "30/30 [==============================] - 1s 17ms/step - loss: 0.1826 - accuracy: 0.9397 - val_loss: 0.2875 - val_accuracy: 0.8849\n",
            "Epoch 23/40\n",
            "30/30 [==============================] - 1s 17ms/step - loss: 0.1744 - accuracy: 0.9439 - val_loss: 0.2864 - val_accuracy: 0.8851\n",
            "Epoch 24/40\n",
            "30/30 [==============================] - 1s 17ms/step - loss: 0.1666 - accuracy: 0.9467 - val_loss: 0.2856 - val_accuracy: 0.8852\n",
            "Epoch 25/40\n",
            "30/30 [==============================] - 1s 18ms/step - loss: 0.1597 - accuracy: 0.9485 - val_loss: 0.2866 - val_accuracy: 0.8850\n",
            "Epoch 26/40\n",
            "30/30 [==============================] - 1s 17ms/step - loss: 0.1524 - accuracy: 0.9527 - val_loss: 0.2862 - val_accuracy: 0.8853\n",
            "Epoch 27/40\n",
            "30/30 [==============================] - 0s 17ms/step - loss: 0.1455 - accuracy: 0.9553 - val_loss: 0.2866 - val_accuracy: 0.8861\n",
            "Epoch 28/40\n",
            "30/30 [==============================] - 1s 17ms/step - loss: 0.1389 - accuracy: 0.9581 - val_loss: 0.2876 - val_accuracy: 0.8857\n",
            "Epoch 29/40\n",
            "30/30 [==============================] - 1s 17ms/step - loss: 0.1331 - accuracy: 0.9599 - val_loss: 0.2900 - val_accuracy: 0.8855\n",
            "Epoch 30/40\n",
            "30/30 [==============================] - 1s 17ms/step - loss: 0.1275 - accuracy: 0.9622 - val_loss: 0.2917 - val_accuracy: 0.8855\n",
            "Epoch 31/40\n",
            "30/30 [==============================] - 1s 17ms/step - loss: 0.1220 - accuracy: 0.9655 - val_loss: 0.2934 - val_accuracy: 0.8844\n",
            "Epoch 32/40\n",
            "30/30 [==============================] - 1s 18ms/step - loss: 0.1169 - accuracy: 0.9664 - val_loss: 0.2949 - val_accuracy: 0.8843\n",
            "Epoch 33/40\n",
            "30/30 [==============================] - 1s 17ms/step - loss: 0.1118 - accuracy: 0.9681 - val_loss: 0.2982 - val_accuracy: 0.8850\n",
            "Epoch 34/40\n",
            "30/30 [==============================] - 1s 17ms/step - loss: 0.1069 - accuracy: 0.9704 - val_loss: 0.3004 - val_accuracy: 0.8844\n",
            "Epoch 35/40\n",
            "30/30 [==============================] - 1s 17ms/step - loss: 0.1029 - accuracy: 0.9713 - val_loss: 0.3036 - val_accuracy: 0.8828\n",
            "Epoch 36/40\n",
            "30/30 [==============================] - 1s 17ms/step - loss: 0.0986 - accuracy: 0.9735 - val_loss: 0.3074 - val_accuracy: 0.8831\n",
            "Epoch 37/40\n",
            "30/30 [==============================] - 1s 17ms/step - loss: 0.0942 - accuracy: 0.9744 - val_loss: 0.3103 - val_accuracy: 0.8826\n",
            "Epoch 38/40\n",
            "30/30 [==============================] - 1s 17ms/step - loss: 0.0903 - accuracy: 0.9756 - val_loss: 0.3142 - val_accuracy: 0.8816\n",
            "Epoch 39/40\n",
            "30/30 [==============================] - 1s 17ms/step - loss: 0.0864 - accuracy: 0.9777 - val_loss: 0.3180 - val_accuracy: 0.8816\n",
            "Epoch 40/40\n",
            "30/30 [==============================] - 1s 18ms/step - loss: 0.0827 - accuracy: 0.9794 - val_loss: 0.3222 - val_accuracy: 0.8816\n"
          ],
          "name": "stdout"
        }
      ]
    },
    {
      "cell_type": "code",
      "metadata": {
        "colab": {
          "base_uri": "https://localhost:8080/"
        },
        "id": "d4JmyGyXPM8U",
        "outputId": "19e4abbc-5801-427c-9f3a-ab278592ec6c"
      },
      "source": [
        "# Evaluate Model\n",
        "result = model.evaluate(test_data, test_labels, verbose =2)\n",
        "print(result)"
      ],
      "execution_count": 51,
      "outputs": [
        {
          "output_type": "stream",
          "text": [
            "782/782 - 1s - loss: 0.3442 - accuracy: 0.8706\n",
            "[0.344197541475296, 0.8705599904060364]\n"
          ],
          "name": "stdout"
        }
      ]
    },
    {
      "cell_type": "code",
      "metadata": {
        "colab": {
          "base_uri": "https://localhost:8080/"
        },
        "id": "RAXVR-8vPY2y",
        "outputId": "5024b733-70af-4bf5-b5fa-246e4f821040"
      },
      "source": [
        "history_dict = history.history\n",
        "history_dict.keys()"
      ],
      "execution_count": 53,
      "outputs": [
        {
          "output_type": "execute_result",
          "data": {
            "text/plain": [
              "dict_keys(['loss', 'accuracy', 'val_loss', 'val_accuracy'])"
            ]
          },
          "metadata": {
            "tags": []
          },
          "execution_count": 53
        }
      ]
    },
    {
      "cell_type": "code",
      "metadata": {
        "colab": {
          "base_uri": "https://localhost:8080/",
          "height": 295
        },
        "id": "IpvfmGp3PsHj",
        "outputId": "513e8213-240f-4e49-8364-a49eacf2f29e"
      },
      "source": [
        "import matplotlib.pyplot as plt\n",
        "\n",
        "acc = history_dict['accuracy']\n",
        "val_acc = history_dict['val_accuracy']\n",
        "loss = history_dict['loss']\n",
        "val_loss = history_dict['val_loss']\n",
        "\n",
        "epochs = range(1,len(acc)+1)\n",
        "plt.plot(epochs, loss, 'bo', label = 'Training Loss')\n",
        "plt.plot(epochs, val_loss, 'b', label = 'Validation Loss')\n",
        "plt.title('Training and validation loss')\n",
        "plt.xlabel('Epochs')\n",
        "plt.ylabel('Loss')\n",
        "plt.legend()\n",
        "\n",
        "plt.show()"
      ],
      "execution_count": 54,
      "outputs": [
        {
          "output_type": "display_data",
          "data": {
            "image/png": "[encoded data removed]",
            "text/plain": [
              "<Figure size 432x288 with 1 Axes>"
            ]
          },
          "metadata": {
            "tags": [],
            "needs_background": "light"
          }
        }
      ]
    },
    {
      "cell_type": "code",
      "metadata": {
        "colab": {
          "base_uri": "https://localhost:8080/",
          "height": 295
        },
        "id": "dSCvkRGYRZqH",
        "outputId": "e43a9831-d87c-4ea1-8478-334bae4d0c1d"
      },
      "source": [
        "plt.plot(epochs, acc, 'bo', label='Training acc')\n",
        "plt.plot(epochs, val_acc, 'b', label='Validation acc')\n",
        "plt.title('Training and validation accuracy')\n",
        "plt.xlabel('Epochs')\n",
        "plt.ylabel('Accuracy')\n",
        "plt.legend()\n",
        "\n",
        "plt.show()"
      ],
      "execution_count": 55,
      "outputs": [
        {
          "output_type": "display_data",
          "data": {
            "image/png": "[encoded data removed]",
            "text/plain": [
              "<Figure size 432x288 with 1 Axes>"
            ]
          },
          "metadata": {
            "tags": [],
            "needs_background": "light"
          }
        }
      ]
    },
    {
      "cell_type": "code",
      "metadata": {
        "id": "xKaTsRuFRc38"
      },
      "source": [
        ""
      ],
      "execution_count": null,
      "outputs": []
    }
  ]
}