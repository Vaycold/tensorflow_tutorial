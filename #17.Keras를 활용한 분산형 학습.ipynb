{
  "nbformat": 4,
  "nbformat_minor": 0,
  "metadata": {
    "colab": {
      "name": "#17.Keras를 활용한 분산형 학습.ipynb",
      "provenance": [],
      "authorship_tag": "ABX9TyNmbn2ZuYwn+ACxgsMMI0WN",
      "include_colab_link": true
    },
    "kernelspec": {
      "name": "python3",
      "display_name": "Python 3"
    },
    "language_info": {
      "name": "python"
    }
  },
  "cells": [
    {
      "cell_type": "markdown",
      "metadata": {
        "id": "view-in-github",
        "colab_type": "text"
      },
      "source": [
        "<a href=\"https://colab.research.google.com/github/Vaycold/tensorflow_tutorial/blob/main/%2317.Keras%EB%A5%BC%20%ED%99%9C%EC%9A%A9%ED%95%9C%20%EB%B6%84%EC%82%B0%ED%98%95%20%ED%95%99%EC%8A%B5.ipynb\" target=\"_parent\"><img src=\"https://colab.research.google.com/assets/colab-badge.svg\" alt=\"Open In Colab\"/></a>"
      ]
    },
    {
      "cell_type": "markdown",
      "metadata": {
        "id": "QpmaoRA4VgBy"
      },
      "source": [
        "    tf.distribute.Strategy API는 훈련을 여러 처리 장치들로 분산시키는 것을 추상화한 것입니다. \n",
        "    기존의 모델이나 훈련 코드를 조금만 바꾸어 분산 훈련을 할 수 있게 하는 것이 분산 전략 API의 목표입니다."
      ]
    },
    {
      "cell_type": "code",
      "metadata": {
        "id": "aLEUIv6zW0Gh"
      },
      "source": [
        "#!pip install -q tensorflow-gpu==2.1.0-rc1\n",
        "import tensorflow_datasets as tfds\n",
        "import tensorflow as tf\n",
        "tfds.disable_progress_bar()\n",
        "\n",
        "import os"
      ],
      "execution_count": 1,
      "outputs": []
    },
    {
      "cell_type": "code",
      "metadata": {
        "colab": {
          "base_uri": "https://localhost:8080/"
        },
        "id": "BOc_2U4qXFlU",
        "outputId": "295e0963-742c-4668-dcb0-3d6f1ba086f2"
      },
      "source": [
        "datasets, info = tfds.load(name='mnist', with_info=True, as_supervised=True)\n",
        "\n",
        "mnist_train, mnist_test = datasets['train'], datasets['test']"
      ],
      "execution_count": 2,
      "outputs": [
        {
          "output_type": "stream",
          "text": [
            "\u001b[1mDownloading and preparing dataset mnist/3.0.1 (download: 11.06 MiB, generated: 21.00 MiB, total: 32.06 MiB) to /root/tensorflow_datasets/mnist/3.0.1...\u001b[0m\n"
          ],
          "name": "stdout"
        },
        {
          "output_type": "stream",
          "text": [
            "WARNING:absl:Dataset mnist is hosted on GCS. It will automatically be downloaded to your\n",
            "local data directory. If you'd instead prefer to read directly from our public\n",
            "GCS bucket (recommended if you're running on GCP), you can instead pass\n",
            "`try_gcs=True` to `tfds.load` or set `data_dir=gs://tfds-data/datasets`.\n",
            "\n"
          ],
          "name": "stderr"
        },
        {
          "output_type": "stream",
          "text": [
            "\u001b[1mDataset mnist downloaded and prepared to /root/tensorflow_datasets/mnist/3.0.1. Subsequent calls will reuse this data.\u001b[0m\n"
          ],
          "name": "stdout"
        }
      ]
    },
    {
      "cell_type": "code",
      "metadata": {
        "colab": {
          "base_uri": "https://localhost:8080/"
        },
        "id": "Pjqs0nqzpQUA",
        "outputId": "822ab681-ad55-425c-9bd2-073895feb639"
      },
      "source": [
        "# 분산 전략 정의하기\n",
        "strategy = tf.distribute.MirroredStrategy()"
      ],
      "execution_count": 3,
      "outputs": [
        {
          "output_type": "stream",
          "text": [
            "WARNING:tensorflow:There are non-GPU devices in `tf.distribute.Strategy`, not using nccl allreduce.\n"
          ],
          "name": "stdout"
        },
        {
          "output_type": "stream",
          "text": [
            "WARNING:tensorflow:There are non-GPU devices in `tf.distribute.Strategy`, not using nccl allreduce.\n"
          ],
          "name": "stderr"
        },
        {
          "output_type": "stream",
          "text": [
            "INFO:tensorflow:Using MirroredStrategy with devices ('/job:localhost/replica:0/task:0/device:CPU:0',)\n"
          ],
          "name": "stdout"
        },
        {
          "output_type": "stream",
          "text": [
            "INFO:tensorflow:Using MirroredStrategy with devices ('/job:localhost/replica:0/task:0/device:CPU:0',)\n"
          ],
          "name": "stderr"
        }
      ]
    },
    {
      "cell_type": "code",
      "metadata": {
        "colab": {
          "base_uri": "https://localhost:8080/"
        },
        "id": "JQ0479UppYgU",
        "outputId": "7c7cba71-3eb1-4ed1-ce75-d4355b1097a8"
      },
      "source": [
        "print('장치의 수: {}'.format(strategy.num_replicas_in_sync))"
      ],
      "execution_count": 4,
      "outputs": [
        {
          "output_type": "stream",
          "text": [
            "장치의 수: 1\n"
          ],
          "name": "stdout"
        }
      ]
    },
    {
      "cell_type": "code",
      "metadata": {
        "id": "km3Rirjrpblu"
      },
      "source": [
        "# 정규화\n",
        "\n",
        "def scale(image, label) :\n",
        "    image = tf.cast(image, tf.float32)\n",
        "    image /= 255\n",
        "\n",
        "    return image, label"
      ],
      "execution_count": 5,
      "outputs": []
    },
    {
      "cell_type": "code",
      "metadata": {
        "id": "Sva_OPnds6Tz"
      },
      "source": [
        "num_train_examples = info.splits['train'].num_examples\n",
        "num_test_examples = info.splits['test'].num_examples\n",
        "\n",
        "BUFFER_SIZE = 10000\n",
        "\n",
        "BATCH_SIZE_PER_REPLICA = 64\n",
        "BATCH_SIZE = BATCH_SIZE_PER_REPLICA * strategy.num_replicas_in_sync"
      ],
      "execution_count": 6,
      "outputs": []
    },
    {
      "cell_type": "code",
      "metadata": {
        "id": "eunMGGy4s-1J",
        "colab": {
          "base_uri": "https://localhost:8080/"
        },
        "outputId": "b5a3fb1e-cace-4b74-b6bb-28f3561cbac2"
      },
      "source": [
        "BATCH_SIZE"
      ],
      "execution_count": 7,
      "outputs": [
        {
          "output_type": "execute_result",
          "data": {
            "text/plain": [
              "64"
            ]
          },
          "metadata": {},
          "execution_count": 7
        }
      ]
    },
    {
      "cell_type": "code",
      "metadata": {
        "id": "5HlZuV0crVmt"
      },
      "source": [
        "train_dataset = mnist_train.map(scale).shuffle(BUFFER_SIZE).batch(BATCH_SIZE)\n",
        "eval_dataset = mnist_test.map(scale).batch(BATCH_SIZE)"
      ],
      "execution_count": 8,
      "outputs": []
    },
    {
      "cell_type": "code",
      "metadata": {
        "id": "AXRR1FsErnb_"
      },
      "source": [
        "# Model 만들기\n",
        "\n",
        "# strategy.scope() : 컨텍스트 안에서 케라스 모델 만들고 컴파일\n",
        "\n",
        "with strategy.scope() :\n",
        "    model = tf.keras.Sequential([\n",
        "        tf.keras.layers.Conv2D(32, 3, activation = 'relu', input_shape=(28,28,1)),\n",
        "        tf.keras.layers.MaxPooling2D(),\n",
        "        tf.keras.layers.Flatten(),\n",
        "        tf.keras.layers.Dense(64, activation='relu'),\n",
        "        tf.keras.layers.Dense(10, activation='softmax')\n",
        "    ])\n",
        "\n",
        "    model.compile(loss='sparse_categorical_crossentropy',\n",
        "                  optimizer = tf.keras.optimizers.Adam(),\n",
        "                  metrics=['accuracy'])"
      ],
      "execution_count": 9,
      "outputs": []
    },
    {
      "cell_type": "code",
      "metadata": {
        "colab": {
          "base_uri": "https://localhost:8080/"
        },
        "id": "Tj6nRpdnsxD9",
        "outputId": "2b94e47e-564f-4da2-ec1b-fd976b25d9d5"
      },
      "source": [
        "os.listdir()"
      ],
      "execution_count": 10,
      "outputs": [
        {
          "output_type": "execute_result",
          "data": {
            "text/plain": [
              "['.config', 'sample_data']"
            ]
          },
          "metadata": {},
          "execution_count": 10
        }
      ]
    },
    {
      "cell_type": "markdown",
      "metadata": {
        "id": "93VtaQCJ439v"
      },
      "source": [
        "    콜백 정의하기\n",
        "     - 텐서보드 : 이 콜백은 텐서보드용 로그를 남겨서 텐서보드에서 그래프를 그릴 수 있게 해줌\n",
        "     - 모델 체크포인트 : 이 콜백은 매 에포크가 끝난 후 모델을 저장\n",
        "     - 학습률 스케쥴러 : 매 에포크 혹은 배치가 끝난 후 학습률 변경가능\n",
        "    "
      ]
    },
    {
      "cell_type": "code",
      "metadata": {
        "id": "gutZcqaLs5Se"
      },
      "source": [
        "# 체크포인트를 저장할 체크포인트 디렉터리 지정\n",
        "checkpoint_dir = './training_checkpoints'\n",
        "\n",
        "#체크포인트 파일의 이름\n",
        "checkpoint_prefix = os.path.join(checkpoint_dir, 'ckpt_{epoch}')"
      ],
      "execution_count": 16,
      "outputs": []
    },
    {
      "cell_type": "code",
      "metadata": {
        "colab": {
          "base_uri": "https://localhost:8080/",
          "height": 35
        },
        "id": "Al9zUTyP1TJZ",
        "outputId": "39f1aa9f-7f53-4566-9639-bb41b0baaebb"
      },
      "source": [
        "checkpoint_prefix"
      ],
      "execution_count": 13,
      "outputs": [
        {
          "output_type": "execute_result",
          "data": {
            "application/vnd.google.colaboratory.intrinsic+json": {
              "type": "string"
            },
            "text/plain": [
              "'./training_checkpoints/ckpt_{epoch}'"
            ]
          },
          "metadata": {},
          "execution_count": 13
        }
      ]
    },
    {
      "cell_type": "code",
      "metadata": {
        "id": "eNUa7n9W1Uu9"
      },
      "source": [
        "# 학습률을 점점 줄이는 함수\n",
        "def decay(epoch) :\n",
        "    if epoch < 3 :\n",
        "        return 1e-3\n",
        "    elif epoch >= 3 and epoch < 7 :\n",
        "        return 1e-4\n",
        "    else :\n",
        "        return 1e-5"
      ],
      "execution_count": 14,
      "outputs": []
    },
    {
      "cell_type": "code",
      "metadata": {
        "id": "Ickv0z9i1k7K"
      },
      "source": [
        "# 에폭이 끝날 때마다 학습률을 출력하는 콜백\n",
        "class PrintLR(tf.keras.callbacks.Callback) :\n",
        "    def on_epoch_end(self,epoch, logs=None) :\n",
        "        print('\\n에포크 {}의 학습률은 {}입니다.'.format(epoch+1, model.optimizer.lr.numpy()))"
      ],
      "execution_count": 15,
      "outputs": []
    },
    {
      "cell_type": "code",
      "metadata": {
        "id": "_t_oefyS2HXq"
      },
      "source": [
        "callbacks=[\n",
        "        tf.keras.callbacks.TensorBoard(log_dir ='./logs'),\n",
        "        tf.keras.callbacks.ModelCheckpoint(filepath = checkpoint_prefix,\n",
        "                                           save_weights_only=True),\n",
        "        tf.keras.callbacks.LearningRateScheduler(decay),\n",
        "        PrintLR()\n",
        "]"
      ],
      "execution_count": 18,
      "outputs": []
    },
    {
      "cell_type": "code",
      "metadata": {
        "colab": {
          "base_uri": "https://localhost:8080/"
        },
        "id": "UUoFwFn99Q6A",
        "outputId": "b4e5986a-1be8-427a-9108-92bb5f64f55f"
      },
      "source": [
        "train_dataset"
      ],
      "execution_count": 19,
      "outputs": [
        {
          "output_type": "execute_result",
          "data": {
            "text/plain": [
              "<BatchDataset shapes: ((None, 28, 28, 1), (None,)), types: (tf.float32, tf.int64)>"
            ]
          },
          "metadata": {},
          "execution_count": 19
        }
      ]
    },
    {
      "cell_type": "code",
      "metadata": {
        "colab": {
          "base_uri": "https://localhost:8080/"
        },
        "id": "YlEbCdJA9c0c",
        "outputId": "0a5d0373-ae5f-470d-bbbc-4b654e01bbc9"
      },
      "source": [
        "model.fit(train_dataset, epochs=12, callbacks=callbacks)"
      ],
      "execution_count": 20,
      "outputs": [
        {
          "output_type": "stream",
          "text": [
            "Epoch 1/12\n",
            "938/938 [==============================] - 35s 34ms/step - loss: 0.1977 - accuracy: 0.9430\n",
            "\n",
            "에포크 1의 학습률은 0.0010000000474974513입니다.\n",
            "Epoch 2/12\n",
            "938/938 [==============================] - 29s 30ms/step - loss: 0.0665 - accuracy: 0.9798\n",
            "\n",
            "에포크 2의 학습률은 0.0010000000474974513입니다.\n",
            "Epoch 3/12\n",
            "938/938 [==============================] - 29s 30ms/step - loss: 0.0463 - accuracy: 0.9859\n",
            "\n",
            "에포크 3의 학습률은 0.0010000000474974513입니다.\n",
            "Epoch 4/12\n",
            "938/938 [==============================] - 28s 30ms/step - loss: 0.0247 - accuracy: 0.9931\n",
            "\n",
            "에포크 4의 학습률은 9.999999747378752e-05입니다.\n",
            "Epoch 5/12\n",
            "938/938 [==============================] - 28s 29ms/step - loss: 0.0214 - accuracy: 0.9947\n",
            "\n",
            "에포크 5의 학습률은 9.999999747378752e-05입니다.\n",
            "Epoch 6/12\n",
            "938/938 [==============================] - 28s 29ms/step - loss: 0.0196 - accuracy: 0.9948\n",
            "\n",
            "에포크 6의 학습률은 9.999999747378752e-05입니다.\n",
            "Epoch 7/12\n",
            "938/938 [==============================] - 28s 29ms/step - loss: 0.0182 - accuracy: 0.9955\n",
            "\n",
            "에포크 7의 학습률은 9.999999747378752e-05입니다.\n",
            "Epoch 8/12\n",
            "938/938 [==============================] - 28s 30ms/step - loss: 0.0154 - accuracy: 0.9966\n",
            "\n",
            "에포크 8의 학습률은 9.999999747378752e-06입니다.\n",
            "Epoch 9/12\n",
            "938/938 [==============================] - 28s 29ms/step - loss: 0.0152 - accuracy: 0.9967\n",
            "\n",
            "에포크 9의 학습률은 9.999999747378752e-06입니다.\n",
            "Epoch 10/12\n",
            "938/938 [==============================] - 28s 29ms/step - loss: 0.0150 - accuracy: 0.9968\n",
            "\n",
            "에포크 10의 학습률은 9.999999747378752e-06입니다.\n",
            "Epoch 11/12\n",
            "938/938 [==============================] - 28s 30ms/step - loss: 0.0149 - accuracy: 0.9967\n",
            "\n",
            "에포크 11의 학습률은 9.999999747378752e-06입니다.\n",
            "Epoch 12/12\n",
            "938/938 [==============================] - 28s 30ms/step - loss: 0.0147 - accuracy: 0.9968\n",
            "\n",
            "에포크 12의 학습률은 9.999999747378752e-06입니다.\n"
          ],
          "name": "stdout"
        },
        {
          "output_type": "execute_result",
          "data": {
            "text/plain": [
              "<keras.callbacks.History at 0x7f4dc36061d0>"
            ]
          },
          "metadata": {},
          "execution_count": 20
        }
      ]
    },
    {
      "cell_type": "code",
      "metadata": {
        "colab": {
          "base_uri": "https://localhost:8080/"
        },
        "id": "6m4iWqKH9mZo",
        "outputId": "c4db919d-2b92-473a-e526-6db19b9e2629"
      },
      "source": [
        "!ls {checkpoint_dir}"
      ],
      "execution_count": 22,
      "outputs": [
        {
          "output_type": "stream",
          "text": [
            "checkpoint\t\t     ckpt_4.data-00000-of-00001\n",
            "ckpt_10.data-00000-of-00001  ckpt_4.index\n",
            "ckpt_10.index\t\t     ckpt_5.data-00000-of-00001\n",
            "ckpt_11.data-00000-of-00001  ckpt_5.index\n",
            "ckpt_11.index\t\t     ckpt_6.data-00000-of-00001\n",
            "ckpt_12.data-00000-of-00001  ckpt_6.index\n",
            "ckpt_12.index\t\t     ckpt_7.data-00000-of-00001\n",
            "ckpt_1.data-00000-of-00001   ckpt_7.index\n",
            "ckpt_1.index\t\t     ckpt_8.data-00000-of-00001\n",
            "ckpt_2.data-00000-of-00001   ckpt_8.index\n",
            "ckpt_2.index\t\t     ckpt_9.data-00000-of-00001\n",
            "ckpt_3.data-00000-of-00001   ckpt_9.index\n",
            "ckpt_3.index\n"
          ],
          "name": "stdout"
        }
      ]
    },
    {
      "cell_type": "code",
      "metadata": {
        "id": "-HlaYA0fAKjm"
      },
      "source": [
        ""
      ],
      "execution_count": null,
      "outputs": []
    }
  ]
}