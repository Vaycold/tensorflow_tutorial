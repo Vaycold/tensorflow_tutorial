{
  "nbformat": 4,
  "nbformat_minor": 0,
  "metadata": {
    "colab": {
      "name": "CSV.ipynb",
      "provenance": [],
      "authorship_tag": "ABX9TyMZnrr8LVL1+PoX9cAz14Jt",
      "include_colab_link": true
    },
    "kernelspec": {
      "name": "python3",
      "display_name": "Python 3"
    },
    "language_info": {
      "name": "python"
    }
  },
  "cells": [
    {
      "cell_type": "markdown",
      "metadata": {
        "id": "view-in-github",
        "colab_type": "text"
      },
      "source": [
        "<a href=\"https://colab.research.google.com/github/Vaycold/tensorflow_tutorial/blob/main/%239.CSV.ipynb\" target=\"_parent\"><img src=\"https://colab.research.google.com/assets/colab-badge.svg\" alt=\"Open In Colab\"/></a>"
      ]
    },
    {
      "cell_type": "code",
      "metadata": {
        "id": "hkydQ2bFnJmI"
      },
      "source": [
        "# tf.data.Dataset로 csv 데이터 로드 "
      ],
      "execution_count": 1,
      "outputs": []
    },
    {
      "cell_type": "code",
      "metadata": {
        "id": "cgPAbA4koRDE"
      },
      "source": [
        "import functools\n",
        "\n",
        "import numpy as np\n",
        "import tensorflow as tf"
      ],
      "execution_count": 2,
      "outputs": []
    },
    {
      "cell_type": "code",
      "metadata": {
        "colab": {
          "base_uri": "https://localhost:8080/"
        },
        "id": "VtiyIsZ2ojco",
        "outputId": "3ec8be0a-c5c6-4300-e15b-aa9d644bf4fc"
      },
      "source": [
        "TRAIN_DATA_URL = \"https://storage.googleapis.com/tf-datasets/titanic/train.csv\"\n",
        "TEST_DATA_URL = \"https://storage.googleapis.com/tf-datasets/titanic/eval.csv\"\n",
        "\n",
        "train_file_path = tf.keras.utils.get_file('train_csv',TRAIN_DATA_URL)\n",
        "test_file_path = tf.keras.utils.get_file('eval_csv',TEST_DATA_URL)"
      ],
      "execution_count": 3,
      "outputs": [
        {
          "output_type": "stream",
          "text": [
            "Downloading data from https://storage.googleapis.com/tf-datasets/titanic/train.csv\n",
            "32768/30874 [===============================] - 0s 0us/step\n",
            "Downloading data from https://storage.googleapis.com/tf-datasets/titanic/eval.csv\n",
            "16384/13049 [=====================================] - 0s 0us/step\n"
          ],
          "name": "stdout"
        }
      ]
    },
    {
      "cell_type": "code",
      "metadata": {
        "id": "exVHI5s1riys"
      },
      "source": [
        "np.set_printoptions(precision=3, suppress=True)"
      ],
      "execution_count": 5,
      "outputs": []
    },
    {
      "cell_type": "code",
      "metadata": {
        "colab": {
          "base_uri": "https://localhost:8080/"
        },
        "id": "bqUAQlRgrYOI",
        "outputId": "752d1dc0-95cd-4095-ebb1-8c2f88f05241"
      },
      "source": [
        "# Data load\n",
        "\n",
        "! head {train_file_path}"
      ],
      "execution_count": 9,
      "outputs": [
        {
          "output_type": "stream",
          "text": [
            "survived,sex,age,n_siblings_spouses,parch,fare,class,deck,embark_town,alone\n",
            "0,male,22.0,1,0,7.25,Third,unknown,Southampton,n\n",
            "1,female,38.0,1,0,71.2833,First,C,Cherbourg,n\n",
            "1,female,26.0,0,0,7.925,Third,unknown,Southampton,y\n",
            "1,female,35.0,1,0,53.1,First,C,Southampton,n\n",
            "0,male,28.0,0,0,8.4583,Third,unknown,Queenstown,y\n",
            "0,male,2.0,3,1,21.075,Third,unknown,Southampton,n\n",
            "1,female,27.0,0,2,11.1333,Third,unknown,Southampton,n\n",
            "1,female,14.0,1,0,30.0708,Second,unknown,Cherbourg,n\n",
            "1,female,4.0,1,1,16.7,Third,G,Southampton,n\n"
          ],
          "name": "stdout"
        }
      ]
    },
    {
      "cell_type": "code",
      "metadata": {
        "id": "fc5ukdjWrf1K"
      },
      "source": [
        "label_column = 'survived'\n",
        "labels = [0,1]\n",
        "\n",
        "# 데이터셋 작성\n",
        "\n",
        "def get_datasets(file_path, **kwargs) :\n",
        "    dataset = tf.data.experimental.make_csv_dataset(\n",
        "        file_path, \n",
        "        batch_size = 5,\n",
        "        label_name = label_column,\n",
        "        na_value = '?',\n",
        "        num_epochs = 1,\n",
        "        ignore_errors = True,\n",
        "        **kwargs\n",
        "    )\n",
        "    return dataset\n",
        "\n",
        "raw_train_data = get_datasets(train_file_path)\n",
        "raw_test_data = get_datasets(test_file_path)"
      ],
      "execution_count": 10,
      "outputs": []
    },
    {
      "cell_type": "code",
      "metadata": {
        "id": "JSYqf7QC3sEF"
      },
      "source": [
        "def show_batch(dataset) :\n",
        "    for batch, label in dataset.take(1) :\n",
        "        for key, value in batch.items() :\n",
        "            print('{:20s} : {} '.format(key,value.numpy()))"
      ],
      "execution_count": 13,
      "outputs": []
    },
    {
      "cell_type": "code",
      "metadata": {
        "colab": {
          "base_uri": "https://localhost:8080/"
        },
        "id": "3sh3RA8P4FXJ",
        "outputId": "d0885f72-a567-4020-970c-11fd91bb925a"
      },
      "source": [
        "show_batch(raw_train_data)"
      ],
      "execution_count": 14,
      "outputs": [
        {
          "output_type": "stream",
          "text": [
            "sex                  : [b'male' b'male' b'female' b'male' b'male'] \n",
            "age                  : [19. 28. 28. 28. 28.] \n",
            "n_siblings_spouses   : [0 0 1 0 0] \n",
            "parch                : [0 0 0 0 0] \n",
            "fare                 : [ 8.158 30.696 16.1    7.25   7.05 ] \n",
            "class                : [b'Third' b'First' b'Third' b'Third' b'Third'] \n",
            "deck                 : [b'unknown' b'unknown' b'unknown' b'unknown' b'unknown'] \n",
            "embark_town          : [b'Southampton' b'Cherbourg' b'Southampton' b'Southampton' b'Southampton'] \n",
            "alone                : [b'y' b'y' b'n' b'y' b'y'] \n"
          ],
          "name": "stdout"
        }
      ]
    },
    {
      "cell_type": "code",
      "metadata": {
        "colab": {
          "base_uri": "https://localhost:8080/"
        },
        "id": "HWrZuPJ-4Ktt",
        "outputId": "5c341125-7fd0-4db9-ce64-34addc69cc09"
      },
      "source": [
        "# 만약 첫 번째 줄에 열 이름이 포함되어 있지 않은 경우 column_names 인수로 전달 *이 경우에는 해당 x\n",
        "csv_columns = ['survived', 'sex', 'age', 'n_siblings_spouses', 'parch', 'fare', 'class', 'deck', 'embark_town', 'alone']\n",
        "\n",
        "temp_dataset = get_datasets(train_file_path, column_names = csv_columns)\n",
        "\n",
        "show_batch(temp_dataset)"
      ],
      "execution_count": 15,
      "outputs": [
        {
          "output_type": "stream",
          "text": [
            "sex                  : [b'male' b'male' b'female' b'male' b'male'] \n",
            "age                  : [28. 24. 50. 23. 25.] \n",
            "n_siblings_spouses   : [0 2 0 0 1] \n",
            "parch                : [0 0 0 0 0] \n",
            "fare                 : [31.    73.5   28.712 10.5   26.   ] \n",
            "class                : [b'First' b'Second' b'First' b'Second' b'Second'] \n",
            "deck                 : [b'unknown' b'unknown' b'C' b'unknown' b'unknown'] \n",
            "embark_town          : [b'Southampton' b'Southampton' b'Cherbourg' b'Southampton' b'Southampton'] \n",
            "alone                : [b'y' b'n' b'y' b'y' b'n'] \n"
          ],
          "name": "stdout"
        }
      ]
    },
    {
      "cell_type": "code",
      "metadata": {
        "colab": {
          "base_uri": "https://localhost:8080/"
        },
        "id": "TBGb1DDi46cK",
        "outputId": "4494713b-ebb6-47c6-d02c-7bb07d01ce8d"
      },
      "source": [
        "select_columns = ['survived', 'age', 'n_siblings_spouses', 'class', 'deck', 'alone']\n",
        "\n",
        "temp_dataset = get_datasets(train_file_path, select_columns = select_columns)\n",
        "show_batch(temp_dataset)"
      ],
      "execution_count": 16,
      "outputs": [
        {
          "output_type": "stream",
          "text": [
            "age                  : [28. 28. 28. 33. 18.] \n",
            "n_siblings_spouses   : [0 0 0 1 0] \n",
            "class                : [b'Third' b'Third' b'Second' b'First' b'Second'] \n",
            "deck                 : [b'unknown' b'unknown' b'unknown' b'E' b'unknown'] \n",
            "alone                : [b'y' b'y' b'y' b'n' b'y'] \n"
          ],
          "name": "stdout"
        }
      ]
    },
    {
      "cell_type": "code",
      "metadata": {
        "colab": {
          "base_uri": "https://localhost:8080/"
        },
        "id": "bb4xj71L6Cmy",
        "outputId": "65de00d4-8ed2-4edc-82b7-f53cec2ade8e"
      },
      "source": [
        "# Data preprocessing\n",
        "\n",
        "select_columns = ['survived', 'age', 'n_siblings_spouses', 'parch', 'fare']\n",
        "default = [0, 0.0, 0.0, 0.0, 0.0]\n",
        "\n",
        "temp_dataset = get_datasets(train_file_path,\n",
        "                            select_columns = select_columns,\n",
        "                            column_defaults = default)\n",
        "show_batch( temp_dataset)"
      ],
      "execution_count": 18,
      "outputs": [
        {
          "output_type": "stream",
          "text": [
            "age                  : [29. 28. 56. 26. 30.] \n",
            "n_siblings_spouses   : [0. 0. 0. 1. 0.] \n",
            "parch                : [0. 0. 0. 1. 0.] \n",
            "fare                 : [ 9.5  13.   26.55 26.   13.  ] \n"
          ],
          "name": "stdout"
        }
      ]
    },
    {
      "cell_type": "code",
      "metadata": {
        "id": "DIT6O4o5755T"
      },
      "source": [
        "example_batch, labels_batch = next(iter(temp_dataset))"
      ],
      "execution_count": 19,
      "outputs": []
    },
    {
      "cell_type": "code",
      "metadata": {
        "colab": {
          "base_uri": "https://localhost:8080/"
        },
        "id": "x6EtwNJl8IgW",
        "outputId": "9f4258a1-a094-49ee-cd76-9066e0bba29c"
      },
      "source": [
        "def pack(features, label) :\n",
        "    return tf.stack(list(features.values()), axis=-1), label_column\n",
        "\n",
        "packed_dataset =  temp_dataset.map(pack)\n",
        "\n",
        "for features, labels in packed_dataset.take(1) :\n",
        "    print(features.numpy())\n",
        "    print()\n",
        "    print(labels.numpy())"
      ],
      "execution_count": 22,
      "outputs": [
        {
          "output_type": "stream",
          "text": [
            "[[28.     0.     0.    12.35 ]\n",
            " [28.     0.     0.    13.   ]\n",
            " [40.     1.     1.    39.   ]\n",
            " [ 2.     0.     1.    12.288]\n",
            " [24.     0.     0.     7.142]]\n",
            "\n",
            "b'survived'\n"
          ],
          "name": "stdout"
        }
      ]
    },
    {
      "cell_type": "code",
      "metadata": {
        "colab": {
          "base_uri": "https://localhost:8080/"
        },
        "id": "zqZwOfyh8f8F",
        "outputId": "026b716e-f33f-4eb8-f675-b6084277d5ec"
      },
      "source": [
        "show_batch(raw_train_data)"
      ],
      "execution_count": 23,
      "outputs": [
        {
          "output_type": "stream",
          "text": [
            "sex                  : [b'female' b'male' b'male' b'male' b'male'] \n",
            "age                  : [40. 28. 24. 25.  4.] \n",
            "n_siblings_spouses   : [0 0 0 0 1] \n",
            "parch                : [0 0 0 0 1] \n",
            "fare                 : [13.     7.25   7.142  0.    11.133] \n",
            "class                : [b'Second' b'Third' b'Third' b'Third' b'Third'] \n",
            "deck                 : [b'unknown' b'unknown' b'unknown' b'unknown' b'unknown'] \n",
            "embark_town          : [b'Southampton' b'Southampton' b'Southampton' b'Southampton'\n",
            " b'Southampton'] \n",
            "alone                : [b'y' b'y' b'y' b'y' b'n'] \n"
          ],
          "name": "stdout"
        }
      ]
    },
    {
      "cell_type": "code",
      "metadata": {
        "id": "cxckWRtK8zUg"
      },
      "source": [
        "example_batch, labels_batch = next(iter(temp_dataset))"
      ],
      "execution_count": 24,
      "outputs": []
    },
    {
      "cell_type": "code",
      "metadata": {
        "id": "g3MA5BRk81Sr"
      },
      "source": [
        "# 숫자 특성 목록을 선택하고 단일 열로 묶는 것보다 일반적인 전처리기를 정의함\n",
        "\n",
        "class PackNumericFeatures(object) :\n",
        "    def __init__(self, names) :\n",
        "        self.names = names\n",
        "    \n",
        "    def __call__(self, features, labels) :\n",
        "        numeric_features = [features.pop(name) for name in self.names]\n",
        "        numeric_features = [tf.cast(feat, tf.float32) for feat in numeric_features]\n",
        "        numeric_features = tf.stack(numeric_features, axis=-1)\n",
        "        features['numeric'] = numeric_features\n",
        "\n",
        "        return features, labels"
      ],
      "execution_count": 37,
      "outputs": []
    },
    {
      "cell_type": "code",
      "metadata": {
        "colab": {
          "base_uri": "https://localhost:8080/"
        },
        "id": "Wn_NB2CV9xEM",
        "outputId": "4d7c62da-063f-4161-c250-41485e105dad"
      },
      "source": [
        "NUMERIC_FEATURES = ['age','n_siblings_spouses','parch', 'fare']\n",
        "\n",
        "packed_train_data = raw_train_data.map(\n",
        "    PackNumericFeatures(NUMERIC_FEATURES))\n",
        "\n",
        "packed_test_data = raw_test_data.map(\n",
        "    PackNumericFeatures(NUMERIC_FEATURES))\n",
        "\n",
        "show_batch(packed_train_data)"
      ],
      "execution_count": 38,
      "outputs": [
        {
          "output_type": "stream",
          "text": [
            "sex                  : [b'male' b'male' b'male' b'male' b'male'] \n",
            "class                : [b'First' b'First' b'Third' b'Second' b'Third'] \n",
            "deck                 : [b'unknown' b'C' b'unknown' b'unknown' b'unknown'] \n",
            "embark_town          : [b'Cherbourg' b'Cherbourg' b'Southampton' b'Southampton' b'Southampton'] \n",
            "alone                : [b'y' b'n' b'y' b'n' b'y'] \n",
            "numeric              : [[ 35.      0.      0.     26.55 ]\n",
            " [ 17.      0.      2.    110.883]\n",
            " [ 26.      0.      0.      7.896]\n",
            " [ 25.      1.      0.     26.   ]\n",
            " [ 28.      0.      0.      7.896]] \n"
          ],
          "name": "stdout"
        }
      ]
    },
    {
      "cell_type": "code",
      "metadata": {
        "id": "HGbVHpMo9_Vn"
      },
      "source": [
        "example_batch, labels_batch = next(iter(packed_train_data))"
      ],
      "execution_count": 39,
      "outputs": []
    },
    {
      "cell_type": "code",
      "metadata": {
        "colab": {
          "base_uri": "https://localhost:8080/",
          "height": 295
        },
        "id": "u2TvSLcK-mhu",
        "outputId": "874baf6b-ab71-46b2-8c72-dbed08829d98"
      },
      "source": [
        "# 데이터 정규화\n",
        "\n",
        "import pandas as pd\n",
        "desc = pd.read_csv(train_file_path)[NUMERIC_FEATURES].describe()\n",
        "desc"
      ],
      "execution_count": 42,
      "outputs": [
        {
          "output_type": "execute_result",
          "data": {
            "text/html": [
              "<div>\n",
              "<style scoped>\n",
              "    .dataframe tbody tr th:only-of-type {\n",
              "        vertical-align: middle;\n",
              "    }\n",
              "\n",
              "    .dataframe tbody tr th {\n",
              "        vertical-align: top;\n",
              "    }\n",
              "\n",
              "    .dataframe thead th {\n",
              "        text-align: right;\n",
              "    }\n",
              "</style>\n",
              "<table border=\"1\" class=\"dataframe\">\n",
              "  <thead>\n",
              "    <tr style=\"text-align: right;\">\n",
              "      <th></th>\n",
              "      <th>age</th>\n",
              "      <th>n_siblings_spouses</th>\n",
              "      <th>parch</th>\n",
              "      <th>fare</th>\n",
              "    </tr>\n",
              "  </thead>\n",
              "  <tbody>\n",
              "    <tr>\n",
              "      <th>count</th>\n",
              "      <td>627.000000</td>\n",
              "      <td>627.000000</td>\n",
              "      <td>627.000000</td>\n",
              "      <td>627.000000</td>\n",
              "    </tr>\n",
              "    <tr>\n",
              "      <th>mean</th>\n",
              "      <td>29.631308</td>\n",
              "      <td>0.545455</td>\n",
              "      <td>0.379585</td>\n",
              "      <td>34.385399</td>\n",
              "    </tr>\n",
              "    <tr>\n",
              "      <th>std</th>\n",
              "      <td>12.511818</td>\n",
              "      <td>1.151090</td>\n",
              "      <td>0.792999</td>\n",
              "      <td>54.597730</td>\n",
              "    </tr>\n",
              "    <tr>\n",
              "      <th>min</th>\n",
              "      <td>0.750000</td>\n",
              "      <td>0.000000</td>\n",
              "      <td>0.000000</td>\n",
              "      <td>0.000000</td>\n",
              "    </tr>\n",
              "    <tr>\n",
              "      <th>25%</th>\n",
              "      <td>23.000000</td>\n",
              "      <td>0.000000</td>\n",
              "      <td>0.000000</td>\n",
              "      <td>7.895800</td>\n",
              "    </tr>\n",
              "    <tr>\n",
              "      <th>50%</th>\n",
              "      <td>28.000000</td>\n",
              "      <td>0.000000</td>\n",
              "      <td>0.000000</td>\n",
              "      <td>15.045800</td>\n",
              "    </tr>\n",
              "    <tr>\n",
              "      <th>75%</th>\n",
              "      <td>35.000000</td>\n",
              "      <td>1.000000</td>\n",
              "      <td>0.000000</td>\n",
              "      <td>31.387500</td>\n",
              "    </tr>\n",
              "    <tr>\n",
              "      <th>max</th>\n",
              "      <td>80.000000</td>\n",
              "      <td>8.000000</td>\n",
              "      <td>5.000000</td>\n",
              "      <td>512.329200</td>\n",
              "    </tr>\n",
              "  </tbody>\n",
              "</table>\n",
              "</div>"
            ],
            "text/plain": [
              "              age  n_siblings_spouses       parch        fare\n",
              "count  627.000000          627.000000  627.000000  627.000000\n",
              "mean    29.631308            0.545455    0.379585   34.385399\n",
              "std     12.511818            1.151090    0.792999   54.597730\n",
              "min      0.750000            0.000000    0.000000    0.000000\n",
              "25%     23.000000            0.000000    0.000000    7.895800\n",
              "50%     28.000000            0.000000    0.000000   15.045800\n",
              "75%     35.000000            1.000000    0.000000   31.387500\n",
              "max     80.000000            8.000000    5.000000  512.329200"
            ]
          },
          "metadata": {
            "tags": []
          },
          "execution_count": 42
        }
      ]
    },
    {
      "cell_type": "code",
      "metadata": {
        "id": "iwo8XKs9-zrI"
      },
      "source": [
        "MEAN = np.array(desc.T['mean'])\n",
        "STD = np.array(desc.T['std'])"
      ],
      "execution_count": 43,
      "outputs": []
    },
    {
      "cell_type": "code",
      "metadata": {
        "id": "O3qxH7X6_FrB"
      },
      "source": [
        "def normalize(data, mean, std) :\n",
        "    return (data-mean) / std"
      ],
      "execution_count": 44,
      "outputs": []
    },
    {
      "cell_type": "code",
      "metadata": {
        "colab": {
          "base_uri": "https://localhost:8080/"
        },
        "id": "jzVumXSW_LSO",
        "outputId": "71bf4d97-dbbf-427b-ad88-b5fd82a43c7f"
      },
      "source": [
        "normalizer = functools.partial(normalize, mean = MEAN, std = STD)\n",
        "\n",
        "numeric_column = tf.feature_column.numeric_column('numeric', normalizer_fn = normalizer,\n",
        "                                                  shape = [len(NUMERIC_FEATURES)])\n",
        "numeric_columns = [numeric_column]\n",
        "numeric_columns\n"
      ],
      "execution_count": 45,
      "outputs": [
        {
          "output_type": "execute_result",
          "data": {
            "text/plain": [
              "[NumericColumn(key='numeric', shape=(4,), default_value=None, dtype=tf.float32, normalizer_fn=functools.partial(<function normalize at 0x7fb8d0425cb0>, mean=array([29.631,  0.545,  0.38 , 34.385]), std=array([12.512,  1.151,  0.793, 54.598])))]"
            ]
          },
          "metadata": {
            "tags": []
          },
          "execution_count": 45
        }
      ]
    },
    {
      "cell_type": "code",
      "metadata": {
        "colab": {
          "base_uri": "https://localhost:8080/"
        },
        "id": "jf1duPbA_8e6",
        "outputId": "b616575e-864b-4c9d-9e72-18754840dfad"
      },
      "source": [
        "example_batch['numeric']"
      ],
      "execution_count": 46,
      "outputs": [
        {
          "output_type": "execute_result",
          "data": {
            "text/plain": [
              "<tf.Tensor: shape=(5, 4), dtype=float32, numpy=\n",
              "array([[28.   ,  0.   ,  0.   ,  7.896],\n",
              "       [24.   ,  0.   ,  3.   , 19.258],\n",
              "       [49.   ,  1.   ,  0.   , 56.929],\n",
              "       [53.   ,  2.   ,  0.   , 51.479],\n",
              "       [18.   ,  0.   ,  0.   ,  7.775]], dtype=float32)>"
            ]
          },
          "metadata": {
            "tags": []
          },
          "execution_count": 46
        }
      ]
    },
    {
      "cell_type": "code",
      "metadata": {
        "id": "QQ0f37wiAAz5"
      },
      "source": [
        ""
      ],
      "execution_count": null,
      "outputs": []
    }
  ]
}