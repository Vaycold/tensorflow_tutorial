{
  "nbformat": 4,
  "nbformat_minor": 0,
  "metadata": {
    "colab": {
      "name": "#18.분산 전략을 사용한 모델 저장 및 불러오기.ipynb",
      "provenance": [],
      "authorship_tag": "ABX9TyOffQyKmwLfmNE/dL93hX+G",
      "include_colab_link": true
    },
    "kernelspec": {
      "name": "python3",
      "display_name": "Python 3"
    },
    "language_info": {
      "name": "python"
    }
  },
  "cells": [
    {
      "cell_type": "markdown",
      "metadata": {
        "id": "view-in-github",
        "colab_type": "text"
      },
      "source": [
        "<a href=\"https://colab.research.google.com/github/Vaycold/tensorflow_tutorial/blob/main/%2318.%EB%B6%84%EC%82%B0%20%EC%A0%84%EB%9E%B5%EC%9D%84%20%EC%82%AC%EC%9A%A9%ED%95%9C%20%EB%AA%A8%EB%8D%B8%20%EC%A0%80%EC%9E%A5%20%EB%B0%8F%20%EB%B6%88%EB%9F%AC%EC%98%A4%EA%B8%B0.ipynb\" target=\"_parent\"><img src=\"https://colab.research.google.com/assets/colab-badge.svg\" alt=\"Open In Colab\"/></a>"
      ]
    },
    {
      "cell_type": "markdown",
      "metadata": {
        "id": "1sMvqkab90Fk"
      },
      "source": [
        "## 훈련루프와 함께 tf.distribute.Strategy 사용\n",
        "    유연성을 높이고 훈련을 더 잘 제어할 수 있도록 사용자 정의 훈련 루프 사용.\n",
        "    -> 모델과 훈련 부프를 디버깅 하기 쉬워짐"
      ]
    },
    {
      "cell_type": "code",
      "metadata": {
        "colab": {
          "base_uri": "https://localhost:8080/"
        },
        "id": "lh4zlaIO9z29",
        "outputId": "07d199a9-90f0-4722-800f-f7fe679bd0c5"
      },
      "source": [
        "import tensorflow as tf\n",
        "import numpy as np\n",
        "import os \n",
        "\n",
        "# 패션 MNIST 데이터셋 다운로드\n",
        "\n",
        "fashion_mnist = tf.keras.datasets.fashion_mnist\n",
        "(train_images, train_labels), (test_images, test_labels) = fashion_mnist.load_data()\n",
        "train_images = train_images[...,None]\n",
        "test_images = test_images[...,None]\n",
        "train_images.shape"
      ],
      "execution_count": 6,
      "outputs": [
        {
          "output_type": "execute_result",
          "data": {
            "text/plain": [
              "(60000, 28, 28, 1)"
            ]
          },
          "metadata": {},
          "execution_count": 6
        }
      ]
    },
    {
      "cell_type": "code",
      "metadata": {
        "colab": {
          "base_uri": "https://localhost:8080/"
        },
        "id": "pxC8rPgX9hSD",
        "outputId": "ae3e8d3d-96a4-4ce0-d723-0f9780ad9502"
      },
      "source": [
        "# 정규화\n",
        "train_images = train_images / np.float32(255)\n",
        "test_images = test_images / np.float32(255)\n",
        "\n",
        "train_images.max(), test_images.max()"
      ],
      "execution_count": 8,
      "outputs": [
        {
          "output_type": "execute_result",
          "data": {
            "text/plain": [
              "(1.0, 1.0)"
            ]
          },
          "metadata": {},
          "execution_count": 8
        }
      ]
    },
    {
      "cell_type": "markdown",
      "metadata": {
        "id": "eItcYxFx_c4E"
      },
      "source": [
        "## 변수와 그래프를 분산하는 전략 만들기\n",
        "    tf.distribute.MirroredStrategy\n",
        "     : 모든 변수와 모델 그래프는 장치에 복제됨\n",
        "     : 입력은 장치에 고르게 분배되어 들어감\n",
        "     : 각 장치는 주어지는 입력에 대해서 손실과 그래디언트를 계산\n",
        "     : 그래디언트들을 전부 더함으로써 모든 장치들 간 그래디언트들 동기화\n",
        "     : 동기화 후 동일한 업데이트가 각 장치에 있는 변수의 복사본에 동일 적용"
      ]
    },
    {
      "cell_type": "code",
      "metadata": {
        "colab": {
          "base_uri": "https://localhost:8080/"
        },
        "id": "AK6kKFOu-4KL",
        "outputId": "79aaef17-0cfa-4c9a-a6f4-a8308b968259"
      },
      "source": [
        "strategy = tf.distribute.MirroredStrategy()"
      ],
      "execution_count": 9,
      "outputs": [
        {
          "output_type": "stream",
          "name": "stdout",
          "text": [
            "WARNING:tensorflow:There are non-GPU devices in `tf.distribute.Strategy`, not using nccl allreduce.\n",
            "INFO:tensorflow:Using MirroredStrategy with devices ('/job:localhost/replica:0/task:0/device:CPU:0',)\n"
          ]
        }
      ]
    },
    {
      "cell_type": "code",
      "metadata": {
        "colab": {
          "base_uri": "https://localhost:8080/"
        },
        "id": "UQUFA8PeAAuS",
        "outputId": "98e10b51-e229-42c9-f1ba-59d8eab181d1"
      },
      "source": [
        "print( \"# of devices : {}\".format(strategy.num_replicas_in_sync))"
      ],
      "execution_count": 10,
      "outputs": [
        {
          "output_type": "stream",
          "name": "stdout",
          "text": [
            "# of devices : 1\n"
          ]
        }
      ]
    },
    {
      "cell_type": "markdown",
      "metadata": {
        "id": "T37aQkciAMCj"
      },
      "source": [
        "## 입력 파이프 라인 설정"
      ]
    },
    {
      "cell_type": "code",
      "metadata": {
        "id": "GhSAVXXsALqa"
      },
      "source": [
        "buffer_size = len(train_images)\n",
        "batch_size_per_replica = 64\n",
        "global_batch_size = batch_size_per_replica * strategy.num_replicas_in_sync\n",
        "epochs = 10"
      ],
      "execution_count": 13,
      "outputs": []
    },
    {
      "cell_type": "code",
      "metadata": {
        "id": "IRVjMuHuAKC2"
      },
      "source": [
        "# 데이터셋 만들고 배포\n",
        "train_dataset = tf.data.Dataset.from_tensor_slices((train_images, train_labels)).shuffle(buffer_size).batch(global_batch_size)\n",
        "test_dataset = tf.data.Dataset.from_tensor_slices((test_images, test_labels)).batch(global_batch_size)\n",
        "\n",
        "train_dist_dataset = strategy.experimental_distribute_dataset(train_dataset)\n",
        "test_dist_dataset = strategy.experimental_distribute_dataset(test_dataset)"
      ],
      "execution_count": 14,
      "outputs": []
    },
    {
      "cell_type": "markdown",
      "metadata": {
        "id": "05jg5RbUBS5k"
      },
      "source": [
        "## 모델 만들기"
      ]
    },
    {
      "cell_type": "code",
      "metadata": {
        "id": "MwFkvX2ZBPuC"
      },
      "source": [
        "def create_model() :\n",
        "    model = tf.keras.Sequential([\n",
        "        tf.keras.layers.Conv2D(32, 3, activation = 'relu'),\n",
        "        tf.keras.layers.MaxPooling2D(),\n",
        "        tf.keras.layers.Conv2D(64, 3, activation = 'relu'),\n",
        "        tf.keras.layers.MaxPooling2D(),\n",
        "        tf.keras.layers.Flatten(),\n",
        "        tf.keras.layers.Dense(64, activation = 'relu'),\n",
        "        tf.keras.layers.Dense(10, activation = 'softmax')\n",
        "\n",
        "    ])\n",
        "    return model"
      ],
      "execution_count": 17,
      "outputs": []
    },
    {
      "cell_type": "code",
      "metadata": {
        "id": "S2Q0LBm_B80p"
      },
      "source": [
        "# Create a checkpoint dictionary to store the checkpoints\n",
        "checkpoint_dir = './training_checkpoints'\n",
        "checkpoint_prefix = os.path.join(checkpoint_dir,'ckpt')"
      ],
      "execution_count": 18,
      "outputs": []
    },
    {
      "cell_type": "code",
      "metadata": {
        "id": "kbpFKdPECKih"
      },
      "source": [
        "## 손실함수 정의\n",
        "'''\n",
        " -  예제당 손실을 합산하고 합계를 global_batch_size로 나눔\n",
        " -  scale_loss = tf.reduce_sum(loss) * (1./global_batch_size) 또는 \n",
        " -  tf.nn.compute_average_loss 사용\n",
        " '''"
      ],
      "execution_count": null,
      "outputs": []
    }
  ]
}